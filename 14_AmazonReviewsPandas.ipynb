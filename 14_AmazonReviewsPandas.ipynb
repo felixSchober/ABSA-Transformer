{
 "cells": [
  {
   "cell_type": "code",
   "execution_count": 8,
   "metadata": {},
   "outputs": [],
   "source": [
    "import pandas as pd\n",
    "import os\n",
    "import gzip\n",
    "from tqdm.autonotebook import tqdm"
   ]
  },
  {
   "cell_type": "code",
   "execution_count": 9,
   "metadata": {
    "collapsed": true
   },
   "outputs": [],
   "source": [
    "def parse(path):\n",
    "    g = gzip.open(path, 'rb')\n",
    "    for l in g:\n",
    "        yield eval(l)\n",
    "\n",
    "def getDF(path):\n",
    "    i = 0\n",
    "    df = {}\n",
    "    for d in parse(path):\n",
    "        df[i] = d\n",
    "        i += 1\n",
    "    return pd.DataFrame.from_dict(df, orient='index')"
   ]
  },
  {
   "cell_type": "code",
   "execution_count": 10,
   "metadata": {},
   "outputs": [],
   "source": [
    "max_sentiment = 20000\n",
    "def process_df(df, aspect):\n",
    "    df = df.drop(['reviewerID', 'asin', 'reviewerName', 'unixReviewTime', 'reviewTime'], axis=1)\n",
    "        \n",
    "    # add sentiment col\n",
    "    df['sentiment'] = df.apply(process_sentiment, axis=1)\n",
    "    \n",
    "    # balance dataset \n",
    "    df = balance_dataset(df)\n",
    "    \n",
    "    # add aspect col\n",
    "    df['aspect'] = df.apply(lambda r: aspect, axis=1)\n",
    "    return df\n",
    "    \n",
    "def process_sentiment(row):\n",
    "    if row['overall'] >= 4.0:\n",
    "        return 'positive'\n",
    "    if row['overall'] <= 2.0:\n",
    "        return 'negative'\n",
    "    return 'neutral'\n",
    "\n",
    "\n",
    "def balance_dataset(df):\n",
    "    pos_series = df['sentiment']=='positive'\n",
    "    neu_series = df['sentiment']=='neutral'\n",
    "    neg_series = df['sentiment']=='negative'\n",
    "    \n",
    "    pos_diff = df[pos_series]['sentiment'].count() - max_sentiment\n",
    "    neu_diff = df[neu_series]['sentiment'].count() - max_sentiment\n",
    "    neg_diff = df[neg_series]['sentiment'].count() - max_sentiment\n",
    "    \n",
    "    diffs = [pos_diff, neu_diff, neg_diff]\n",
    "    print(diffs)\n",
    "\n",
    "    \n",
    "    # if the sum of all divs is negative, we can not balance the dataset\n",
    "    if sum(diffs) < 0:\n",
    "        print('No balancing possible')\n",
    "        return df\n",
    "    \n",
    "    pos_sel = None\n",
    "    neg_sel = None\n",
    "    neu_sel = None\n",
    "    \n",
    "    remaining = pd.DataFrame()\n",
    "    \n",
    "    # pos has enough \n",
    "    if pos_diff >= 0:\n",
    "        pos_sel = df[pos_series][:max_sentiment]\n",
    "        remaining = remaining.append(df[pos_series][max_sentiment:], ignore_index=True)\n",
    "        print(f'Pos enough: Remaining Count: {remaining[\"overall\"].count()}')\n",
    "    \n",
    "    if neu_diff >= 0:\n",
    "        neu_sel = df[neu_series][:max_sentiment]\n",
    "        remaining = remaining.append(df[neu_series][max_sentiment:], ignore_index=True)\n",
    "        print(f'Neutral enough: Remaining Count: {remaining[\"overall\"].count()}')\n",
    "\n",
    "        \n",
    "    if neg_diff >= 0:\n",
    "        neg_sel = df[neg_series][:max_sentiment]\n",
    "        remaining = remaining.append(df[neg_series][max_sentiment:], ignore_index=True)\n",
    "        print(f'Neg enough: Remaining Count: {remaining[\"overall\"].count()}')\n",
    "\n",
    "    \n",
    "    # pos. has not enough\n",
    "    cur_remaining_idx = 0\n",
    "    if pos_diff < 0:\n",
    "        pos_sel = df[pos_series]\n",
    "        pos_sel = pos_sel.append(remaining[cur_remaining_idx:(-pos_diff)+cur_remaining_idx])\n",
    "        cur_remaining_idx += -pos_diff\n",
    "        print(f'Fill positive - Pos Selection: {pos_sel[\"overall\"].count()} - Remainin Idx: {cur_remaining_idx}')\n",
    "        \n",
    "    if neu_diff < 0:\n",
    "        neu_sel = df[neu_series]\n",
    "        neu_sel = neu_sel.append(remaining[cur_remaining_idx:(-neu_diff)+cur_remaining_idx])\n",
    "        cur_remaining_idx += -neu_diff\n",
    "        print(f'Fill Neutral - Neu Selection: {neu_sel[\"overall\"].count()} - Remainin Idx: {cur_remaining_idx}')\n",
    "\n",
    "        \n",
    "    if neg_diff < 0:\n",
    "        neg_sel = df[neg_series]\n",
    "        neg_sel = neg_sel.append(remaining[cur_remaining_idx:(-neg_diff)+cur_remaining_idx])\n",
    "        cur_remaining_idx += -neg_diff\n",
    "        print(f'Fill Negative - Neg Selection: {neg_sel[\"overall\"].count()} - Remainin Idx: {cur_remaining_idx}')\n",
    "\n",
    "        \n",
    "    df = pos_sel.append(neu_sel).append(neg_sel)\n",
    "    return df"
   ]
  },
  {
   "cell_type": "code",
   "execution_count": 11,
   "metadata": {
    "collapsed": true
   },
   "outputs": [],
   "source": [
    "root_path = os.path.join(os.getcwd(), 'data', 'data', 'amazon')\n",
    "\n",
    "aspects = [\n",
    "    'Apps_for_Android',\n",
    "    'Baby',\n",
    "    'Beauty',\n",
    "    'Books',\n",
    "    'CDs_and_Vinyl',\n",
    "    'Cell_Phones_and_Accessories',\n",
    "    'Clothing_Shoes_and_Jewelry',\n",
    "    'Digital_Music',\n",
    "    'Electronics',\n",
    "    'Grocery_and_Gourmet_Food',\n",
    "    'Health_and_Personal_Care',\n",
    "    'Home_and_Kitchen',\n",
    "    'Kindle_Store',\n",
    "    'Movies_and_TV',\n",
    "    'Office_Products',\n",
    "    'Pet_Supplies',\n",
    "    'Sports_and_Outdoors',\n",
    "    'Tools_and_Home_Improvement',\n",
    "    'Toys_and_Games',\n",
    "    'Video_Games'\n",
    "]"
   ]
  },
  {
   "cell_type": "code",
   "execution_count": null,
   "metadata": {},
   "outputs": [
    {
     "data": {
      "application/vnd.jupyter.widget-view+json": {
       "model_id": "a08293fa8eb24a48a9c2b1fdd5806605",
       "version_major": 2,
       "version_minor": 0
      },
      "text/plain": [
       "A Jupyter Widget"
      ]
     },
     "metadata": {},
     "output_type": "display_data"
    },
    {
     "name": "stdout",
     "output_type": "stream",
     "text": [
      "Parse C:\\Users\\felix\\OneDrive\\Studium\\Studium\\6. Semester\\MA\\Project\\ABSA-Transformer\\data\\data\\amazon\\reviews_Apps_for_Android_5.json.gz\n",
      "[524718, 65121, 103098]\n",
      "Pos enough: Remaining Count: 524718\n",
      "Neutral enough: Remaining Count: 589839\n",
      "Neg enough: Remaining Count: 692937\n",
      "Parse C:\\Users\\felix\\OneDrive\\Studium\\Studium\\6. Semester\\MA\\Project\\ABSA-Transformer\\data\\data\\amazon\\reviews_Baby_5.json.gz\n",
      "[106525, -2745, -2988]\n",
      "Pos enough: Remaining Count: 106525\n",
      "Fill Neutral - Neu Selection: 20000 - Remainin Idx: 2745\n",
      "Fill Negative - Neg Selection: 20000 - Remainin Idx: 5733\n",
      "Parse C:\\Users\\felix\\OneDrive\\Studium\\Studium\\6. Semester\\MA\\Project\\ABSA-Transformer\\data\\data\\amazon\\reviews_Beauty_5.json.gz\n",
      "[134272, 2248, 1982]\n",
      "Pos enough: Remaining Count: 134272\n",
      "Neutral enough: Remaining Count: 136520\n",
      "Neg enough: Remaining Count: 138502\n",
      "Parse C:\\Users\\felix\\OneDrive\\Studium\\Studium\\6. Semester\\MA\\Project\\ABSA-Transformer\\data\\data\\amazon\\reviews_Books_5.json.gz\n"
     ]
    }
   ],
   "source": [
    "df = None\n",
    "\n",
    "for a in tqdm(aspects):\n",
    "    fn = f'reviews_{a}_5.json.gz'\n",
    "    path = os.path.join(root_path, fn)\n",
    "    print('Parse ' + path)\n",
    "    \n",
    "    a_df = getDF(path)\n",
    "    a_df = process_df(a_df, a)\n",
    "    if df is None:\n",
    "        df = a_df\n",
    "    else:\n",
    "        df = df.append(a_df)"
   ]
  },
  {
   "cell_type": "code",
   "execution_count": 7,
   "metadata": {
    "collapsed": true
   },
   "outputs": [],
   "source": [
    "df.to_csv(os.path.join(root_path, 'dataset_processed.csv'))\n",
    "df.to_pickle(os.path.join(root_path, 'dataset_processed.pkl'))"
   ]
  },
  {
   "cell_type": "code",
   "execution_count": 6,
   "metadata": {},
   "outputs": [
    {
     "data": {
      "text/html": [
       "<div>\n",
       "<style>\n",
       "    .dataframe thead tr:only-child th {\n",
       "        text-align: right;\n",
       "    }\n",
       "\n",
       "    .dataframe thead th {\n",
       "        text-align: left;\n",
       "    }\n",
       "\n",
       "    .dataframe tbody tr th {\n",
       "        vertical-align: top;\n",
       "    }\n",
       "</style>\n",
       "<table border=\"1\" class=\"dataframe\">\n",
       "  <thead>\n",
       "    <tr style=\"text-align: right;\">\n",
       "      <th></th>\n",
       "      <th>helpful</th>\n",
       "      <th>reviewText</th>\n",
       "      <th>overall</th>\n",
       "      <th>summary</th>\n",
       "      <th>sentiment</th>\n",
       "    </tr>\n",
       "    <tr>\n",
       "      <th>aspect</th>\n",
       "      <th></th>\n",
       "      <th></th>\n",
       "      <th></th>\n",
       "      <th></th>\n",
       "      <th></th>\n",
       "    </tr>\n",
       "  </thead>\n",
       "  <tbody>\n",
       "    <tr>\n",
       "      <th>Apps_for_Android</th>\n",
       "      <td>60000</td>\n",
       "      <td>60000</td>\n",
       "      <td>60000</td>\n",
       "      <td>60000</td>\n",
       "      <td>60000</td>\n",
       "    </tr>\n",
       "    <tr>\n",
       "      <th>Baby</th>\n",
       "      <td>60000</td>\n",
       "      <td>60000</td>\n",
       "      <td>60000</td>\n",
       "      <td>60000</td>\n",
       "      <td>60000</td>\n",
       "    </tr>\n",
       "    <tr>\n",
       "      <th>Beauty</th>\n",
       "      <td>60000</td>\n",
       "      <td>60000</td>\n",
       "      <td>60000</td>\n",
       "      <td>60000</td>\n",
       "      <td>60000</td>\n",
       "    </tr>\n",
       "  </tbody>\n",
       "</table>\n",
       "</div>"
      ],
      "text/plain": [
       "                  helpful  reviewText  overall  summary  sentiment\n",
       "aspect                                                            \n",
       "Apps_for_Android    60000       60000    60000    60000      60000\n",
       "Baby                60000       60000    60000    60000      60000\n",
       "Beauty              60000       60000    60000    60000      60000"
      ]
     },
     "execution_count": 6,
     "metadata": {},
     "output_type": "execute_result"
    }
   ],
   "source": [
    "df.groupby('aspect').count()"
   ]
  },
  {
   "cell_type": "code",
   "execution_count": null,
   "metadata": {},
   "outputs": [],
   "source": [
    "#df.sentiment.describe()"
   ]
  },
  {
   "cell_type": "code",
   "execution_count": null,
   "metadata": {},
   "outputs": [],
   "source": []
  },
  {
   "cell_type": "markdown",
   "metadata": {},
   "source": [
    "# balance dataset"
   ]
  },
  {
   "cell_type": "code",
   "execution_count": null,
   "metadata": {},
   "outputs": [],
   "source": [
    "df = df.drop('helpful', axis=1)"
   ]
  },
  {
   "cell_type": "code",
   "execution_count": null,
   "metadata": {},
   "outputs": [],
   "source": [
    "df[['overall', 'sentiment', 'aspect']].describe(include='all')"
   ]
  },
  {
   "cell_type": "code",
   "execution_count": null,
   "metadata": {},
   "outputs": [],
   "source": [
    "df.groupby('aspect').count()"
   ]
  },
  {
   "cell_type": "code",
   "execution_count": null,
   "metadata": {},
   "outputs": [],
   "source": [
    "\n",
    "\n",
    "df[neg_series]['sentiment'].count()"
   ]
  },
  {
   "cell_type": "code",
   "execution_count": null,
   "metadata": {},
   "outputs": [],
   "source": [
    "a = [1, 2, 3]\n",
    "a[:1]+a[2:]"
   ]
  },
  {
   "cell_type": "code",
   "execution_count": null,
   "metadata": {},
   "outputs": [],
   "source": [
    "df = balance_sentiment(df)\n",
    "df.count()\n",
    "\n",
    "\n",
    "\n",
    "\n",
    "\n",
    "\n",
    "\n",
    "\n",
    "\n"
   ]
  },
  {
   "cell_type": "code",
   "execution_count": null,
   "metadata": {},
   "outputs": [],
   "source": [
    "neg['overall'].count()"
   ]
  },
  {
   "cell_type": "code",
   "execution_count": null,
   "metadata": {
    "collapsed": true
   },
   "outputs": [],
   "source": []
  }
 ],
 "metadata": {
  "kernelspec": {
   "display_name": "Python 3",
   "language": "python",
   "name": "python3"
  },
  "language_info": {
   "codemirror_mode": {
    "name": "ipython",
    "version": 3
   },
   "file_extension": ".py",
   "mimetype": "text/x-python",
   "name": "python",
   "nbconvert_exporter": "python",
   "pygments_lexer": "ipython3",
   "version": "3.6.1"
  }
 },
 "nbformat": 4,
 "nbformat_minor": 2
}
