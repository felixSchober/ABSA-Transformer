{
 "cells": [
  {
   "cell_type": "code",
   "execution_count": null,
   "metadata": {},
   "outputs": [],
   "source": [
    "from misc.preferences import PREFERENCES\n",
    "from misc.run_configuration import good_germeval_params, default_params, OutputLayerType\n",
    "from misc.experimental_environment import Experiment\n",
    "import time\n",
    "from data.germeval2017 import germeval2017_dataset as dsl\n",
    "import pprint\n",
    "from misc import utils\n",
    "import pandas as pd\n",
    "import os\n",
    "\n",
    "STATUS_FAIL = 'fail'\n",
    "STATUS_OK = 'ok'"
   ]
  },
  {
   "cell_type": "code",
   "execution_count": null,
   "metadata": {},
   "outputs": [],
   "source": [
    "PREFERENCES.defaults(\n",
    "        data_root='./data/data/germeval2017',\n",
    "        data_train='train_v1.4.tsv',    \n",
    "        data_validation='dev_v1.4.tsv',\n",
    "        data_test='test_TIMESTAMP1.tsv',\n",
    "        source_index=0,\n",
    "        target_vocab_index=2,\n",
    "        file_format='csv',\n",
    "        language='de'\n",
    "    )\n",
    "main_experiment_name = 'GermEval-2017_Experiment'\n",
    "use_cuda = True"
   ]
  },
  {
   "cell_type": "code",
   "execution_count": null,
   "metadata": {},
   "outputs": [],
   "source": [
    "baseline = good_germeval_params\n",
    "print(pprint.pformat(baseline, indent=2))"
   ]
  },
  {
   "cell_type": "code",
   "execution_count": null,
   "metadata": {},
   "outputs": [],
   "source": [
    "experiments = [\n",
    "    {\n",
    "        'name': 'Baseline - LM-H',\n",
    "        'description': 'Baseline classification for the GermEval-2017 task using the linear mean head',\n",
    "        'loss': 1000,\n",
    "        'f1': -1,\n",
    "        'rc': {\n",
    "            'task': 'germeval'\n",
    "        }\n",
    "    },\n",
    "    {\n",
    "        'name': 'Baseline - CNN-H',\n",
    "        'description': 'Baseline classification for the GermEval-2017 task using the cnn head',\n",
    "        'loss': 1000,\n",
    "        'f1': -1,\n",
    "        'rc': {\n",
    "            'task': 'germeval',\n",
    "            'output_layer_type': OutputLayerType.Convolutions\n",
    "        }\n",
    "    },\n",
    "    {\n",
    "        'name': 'Attributes',\n",
    "        'description': 'Classification of only attributes',\n",
    "        'loss': 1000,\n",
    "        'f1': -1,\n",
    "        'rc': {\n",
    "            'task': 'germeval_multitask'\n",
    "        }\n",
    "    }\n",
    "]"
   ]
  },
  {
   "cell_type": "code",
   "execution_count": null,
   "metadata": {},
   "outputs": [],
   "source": [
    "utils.get_current_git_commit()\n",
    "print('Current commit: ' + utils.get_current_git_commit())"
   ]
  },
  {
   "cell_type": "code",
   "execution_count": null,
   "metadata": {},
   "outputs": [],
   "source": [
    "for e in experiments:\n",
    "    name = e['name']\n",
    "    print(f'#########################################################################\\n\\nExperiment Name: {name}\\n')\n",
    "    print('#########################################################################\\n\\n')\n",
    "    test_params = {**baseline, **{'num_epochs': 35, 'language': 'de'}}\n",
    "    test_params = {**test_params, **e['rc']}\n",
    "    e = Experiment(main_experiment_name, e['description'], default_params, test_params, dsl, runs=5)\n",
    "    df, e_path = e.run()\n",
    "\n"
   ]
  },
  {
   "cell_type": "code",
   "execution_count": null,
   "metadata": {},
   "outputs": [],
   "source": [
    "p = os.path.join(e_path, 'exp_df.pkl')\n",
    "print('Save dataframe of experiment to ' + p)\n",
    "df.to_pickle(p)"
   ]
  }
 ],
 "metadata": {
  "kernelspec": {
   "display_name": "Python 3",
   "language": "python",
   "name": "python3"
  },
  "language_info": {
   "codemirror_mode": {
    "name": "ipython",
    "version": 3
   },
   "file_extension": ".py",
   "mimetype": "text/x-python",
   "name": "python",
   "nbconvert_exporter": "python",
   "pygments_lexer": "ipython3",
   "version": "3.6.6"
  }
 },
 "nbformat": 4,
 "nbformat_minor": 2
}
