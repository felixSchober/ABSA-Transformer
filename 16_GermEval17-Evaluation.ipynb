{
 "cells": [
  {
   "cell_type": "code",
   "execution_count": 1,
   "metadata": {},
   "outputs": [
    {
     "data": {
      "text/plain": [
       "[('a', 'n/a'),\n",
       " ('a', 'neg'),\n",
       " ('a', 'pos'),\n",
       " ('a', 'neu'),\n",
       " ('b', 'n/a'),\n",
       " ('b', 'neg'),\n",
       " ('b', 'pos'),\n",
       " ('b', 'neu')]"
      ]
     },
     "execution_count": 1,
     "metadata": {},
     "output_type": "execute_result"
    }
   ],
   "source": [
    "def create_gold_combinations(classes, sentiments):\n",
    "    r = []\n",
    "    for c in classes:\n",
    "        for s in sentiments:\n",
    "            r.append((c, s))\n",
    "            \n",
    "    return r\n",
    "create_gold_combinations(['a', 'b'], ['n/a', 'neg', 'pos', 'neu'])"
   ]
  },
  {
   "cell_type": "code",
   "execution_count": 2,
   "metadata": {},
   "outputs": [
    {
     "data": {
      "text/plain": [
       "[(('a', 'neu'), ('a', 'neu')),\n",
       " (('a', 'neu'), ('a', 'neu')),\n",
       " (('b', 'neu'), ('b', 'n/a')),\n",
       " (('b', 'n/a'), ('b', 'pos'))]"
      ]
     },
     "execution_count": 2,
     "metadata": {},
     "output_type": "execute_result"
    }
   ],
   "source": [
    "eval_entries = [\n",
    "    (('a', 'neu'),('a', 'neu')),\n",
    "    (('a', 'neu'), ('a', 'neu')),\n",
    "    (('b', 'neu'), ('b', 'n/a')),\n",
    "    (('b', 'n/a'), ('b', 'pos'))\n",
    "]\n",
    "eval_entries"
   ]
  },
  {
   "cell_type": "code",
   "execution_count": 3,
   "metadata": {},
   "outputs": [
    {
     "data": {
      "text/plain": [
       "(2, 2, 2, 26)"
      ]
     },
     "execution_count": 3,
     "metadata": {},
     "output_type": "execute_result"
    }
   ],
   "source": [
    "def get_metrics(classes, sentiments, eval_entries):\n",
    "    combinations = create_gold_combinations(classes, sentiments)\n",
    "    \n",
    "    tp = 0\n",
    "    fp = 0\n",
    "    tn = 0\n",
    "    fn = 0\n",
    "    \n",
    "    for cls, sent in combinations:\n",
    "        for (g_cls, g_sent), (p_cls, p_sent) in eval_entries:\n",
    "            if g_cls == cls and g_sent == sent:\n",
    "                if g_cls == p_cls and g_sent == p_sent:\n",
    "                    tp += 1\n",
    "                else:\n",
    "                    fn += 1\n",
    "            else:\n",
    "                if p_cls == cls and p_sent == sent:\n",
    "                    fp += 1\n",
    "                else:\n",
    "                    tn += 1\n",
    "                    \n",
    "    return (tp, fp, fn, tn)\n",
    "\n",
    "get_metrics(['a', 'b'], ['n/a', 'neg', 'pos', 'neu'], eval_entries)"
   ]
  },
  {
   "cell_type": "code",
   "execution_count": 5,
   "metadata": {},
   "outputs": [
    {
     "data": {
      "text/plain": [
       "0.5"
      ]
     },
     "execution_count": 5,
     "metadata": {},
     "output_type": "execute_result"
    }
   ],
   "source": [
    "def calculate_micro_f1(classes, sentiments, eval_entries):\n",
    "    tp, fp, fn, _ = get_metrics(classes, sentiments, eval_entries)\n",
    "    micro_precission = tp / (tp + fp)\n",
    "    micro_recall = tp / (tp + fn)\n",
    "    micro_f1 = 2.0 * micro_precission * micro_recall / (micro_precission + micro_recall)\n",
    "    return micro_f1\n",
    "\n",
    "calculate_micro_f1(['a', 'b'], ['n/a', 'neg', 'pos', 'neu'], eval_entries)"
   ]
  },
  {
   "cell_type": "code",
   "execution_count": null,
   "metadata": {
    "collapsed": true
   },
   "outputs": [],
   "source": []
  }
 ],
 "metadata": {
  "kernelspec": {
   "display_name": "Python 3",
   "language": "python",
   "name": "python3"
  },
  "language_info": {
   "codemirror_mode": {
    "name": "ipython",
    "version": 3
   },
   "file_extension": ".py",
   "mimetype": "text/x-python",
   "name": "python",
   "nbconvert_exporter": "python",
   "pygments_lexer": "ipython3",
   "version": "3.6.1"
  }
 },
 "nbformat": 4,
 "nbformat_minor": 2
}
