{
 "cells": [
  {
   "cell_type": "code",
   "execution_count": null,
   "metadata": {
    "collapsed": true
   },
   "outputs": [],
   "source": [
    "from misc.preferences import PREFERENCES\n",
    "from misc.run_configuration import good_organic_hp_params, default_params\n",
    "from data.organic2019 import ORGANIC_TASK_ALL, ORGANIC_TASK_ENTITIES, ORGANIC_TASK_ATTRIBUTES, ORGANIC_TASK_ENTITIES_COMBINE, ORGANIC_TASK_COARSE\n",
    "from misc.experimental_environment import Experiment\n",
    "import time\n",
    "from data.organic2019 import organic_dataset as dsl\n",
    "import pprint\n",
    "from misc import utils\n",
    "\n",
    "STATUS_FAIL = 'fail'\n",
    "STATUS_OK = 'ok'"
   ]
  },
  {
   "cell_type": "code",
   "execution_count": null,
   "metadata": {
    "collapsed": true
   },
   "outputs": [],
   "source": [
    "PREFERENCES.defaults(\n",
    "    data_root='./data/data/organic2019',\n",
    "    data_train='train.csv',    \n",
    "    data_validation='validation.csv',\n",
    "    data_test='test.csv',\n",
    "    source_index=0,\n",
    "    target_vocab_index=1,\n",
    "    file_format='csv'\n",
    ")\n",
    "main_experiment_name = 'Organic19_Experiment'\n",
    "use_cuda = True"
   ]
  },
  {
   "cell_type": "code",
   "execution_count": null,
   "metadata": {},
   "outputs": [],
   "source": [
    "baseline = good_organic_hp_params\n",
    "print(pprint.pformat(baseline, indent=2))"
   ]
  },
  {
   "cell_type": "code",
   "execution_count": null,
   "metadata": {
    "collapsed": true
   },
   "outputs": [],
   "source": [
    "experiments = [\n",
    "    {\n",
    "        'name': 'All aspects',\n",
    "        'description': 'Classification of all entity-attribute combinations',\n",
    "        'loss': 1000,\n",
    "        'f1': -1,\n",
    "        'rc': {'task': ORGANIC_TASK_ALL}\n",
    "    },\n",
    "    {\n",
    "        'name': 'Entities',\n",
    "        'description': 'Classification of only entities',\n",
    "        'loss': 1000,\n",
    "        'f1': -1,\n",
    "        'rc': {\n",
    "            'task': ORGANIC_TASK_ENTITIES\n",
    "        }\n",
    "    },\n",
    "    {\n",
    "        'name': 'Attributes',\n",
    "        'description': 'Classification of only attributes',\n",
    "        'loss': 1000,\n",
    "        'f1': -1,\n",
    "        'rc': {\n",
    "            'task': ORGANIC_TASK_ATTRIBUTES\n",
    "        }\n",
    "    },\n",
    "    {\n",
    "        'name': 'Entities Combine',\n",
    "        'description': 'Uses a combination of the last and the current sentence instead of just the sentence alone',\n",
    "        'loss': 1000,\n",
    "        'f1': -1,\n",
    "        'rc': {\n",
    "            'task': ORGANIC_TASK_ENTITIES_COMBINE\n",
    "        }\n",
    "    },\n",
    "    {\n",
    "        'name': 'Coarse',\n",
    "        'description': 'Uses the classification of coarse aspects',\n",
    "        'loss': 1000,\n",
    "        'f1': -1,\n",
    "        'rc': {\n",
    "            'task': ORGANIC_TASK_COARSE\n",
    "        }\n",
    "    }\n",
    "]"
   ]
  },
  {
   "cell_type": "code",
   "execution_count": null,
   "metadata": {},
   "outputs": [],
   "source": [
    "utils.get_current_git_commit()\n",
    "print('Current commit: ' + utils.get_current_git_commit())"
   ]
  },
  {
   "cell_type": "code",
   "execution_count": null,
   "metadata": {},
   "outputs": [],
   "source": [
    "for e in experiments:\n",
    "    name = e['name']\n",
    "    print(f'#########################################################################\\n\\nExperiment Name: {name}\\n')\n",
    "    print('#########################################################################\\n\\n')\n",
    "    test_params = {**baseline, **{'num_epochs': 35, 'language': 'en'}}\n",
    "    test_params = {**test_params, **e['rc']}\n",
    "    e = Experiment('DockerTest', e['description'], default_params, test_params, dsl, runs=5)\n",
    "    e.run()\n",
    "\n"
   ]
  },
  {
   "cell_type": "code",
   "execution_count": null,
   "metadata": {
    "collapsed": true
   },
   "outputs": [],
   "source": []
  }
 ],
 "metadata": {
  "kernelspec": {
   "display_name": "Python 3",
   "language": "python",
   "name": "python3"
  },
  "language_info": {
   "codemirror_mode": {
    "name": "ipython",
    "version": 3
   },
   "file_extension": ".py",
   "mimetype": "text/x-python",
   "name": "python",
   "nbconvert_exporter": "python",
   "pygments_lexer": "ipython3",
   "version": "3.6.1"
  }
 },
 "nbformat": 4,
 "nbformat_minor": 2
}
