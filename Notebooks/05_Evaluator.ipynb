{
 "cells": [
  {
   "cell_type": "code",
   "execution_count": 1,
   "metadata": {
    "collapsed": true
   },
   "outputs": [],
   "source": [
    "#import matplotlib\n",
    "#import copy\n",
    "import logging\n",
    "#import torch\n",
    "\n",
    "#from tqdm.autonotebook import tqdm\n",
    "\n",
    "from data.data_loader import Dataset\n",
    "from data.germeval2017 import germeval2017_dataset\n",
    "\n",
    "from misc.preferences import PREFERENCES\n",
    "#from misc.visualizer import *\n",
    "from misc.run_configuration import get_default_params, randomize_params\n",
    "from misc import utils\n",
    "\n",
    "#from optimizer import get_default_optimizer\n",
    "#from criterion import NllLoss, LossCombiner\n",
    "\n",
    "#from models.transformer.encoder import TransformerEncoder\n",
    "#from models.jointAspectTagger import JointAspectTagger\n",
    "#from models.transformer.train import Trainer\n",
    "import pprint\n",
    "\n",
    "import torch\n",
    "import torchtext\n",
    "import xml.etree.ElementTree as ET\n",
    "from bs4 import BeautifulSoup"
   ]
  },
  {
   "cell_type": "code",
   "execution_count": 2,
   "metadata": {},
   "outputs": [
    {
     "name": "stdout",
     "output_type": "stream",
     "text": [
      "Log path is  C:\\Users\\felix\\OneDrive\\Studium\\Studium\\6. Semester\\MA\\Project\\ABSA-Transformer\\logs\\testing\\16\n",
      "+------------------------------------------------------+\n",
      "|                   Hyperparameters                    |\n",
      "+-------------------------+----------------------------+\n",
      "|        Parameter        |           Value            |\n",
      "+-------------------------+----------------------------+\n",
      "|        batch_size       |             12             |\n",
      "|        model_size       |            300             |\n",
      "|    learning_rate_type   | LearningSchedulerType.Noam |\n",
      "|      learning_rate      |             1              |\n",
      "|   learning_rate_warmup  |            4800            |\n",
      "|   learning_rate_factor  |             2              |\n",
      "|     optim_adam_beta1    |            0.9             |\n",
      "|     optim_adam_beta2    |            0.98            |\n",
      "|      early_stopping     |             5              |\n",
      "|         use_cuda        |           False            |\n",
      "|       n_enc_blocks      |             3              |\n",
      "|         n_heads         |             6              |\n",
      "|           d_k           |             50             |\n",
      "|           d_v           |             50             |\n",
      "|       dropout_rate      |            0.1             |\n",
      "|   pointwise_layer_size  |            2048            |\n",
      "|    output_layer_type    | OutputLayerType.LinearSum  |\n",
      "| output_conv_num_filters |            300             |\n",
      "| output_conv_kernel_size |             5              |\n",
      "|    output_conv_stride   |             1              |\n",
      "|   output_conv_padding   |             0              |\n",
      "| log_every_xth_iteration |             -1             |\n",
      "|        num_epochs       |             1              |\n",
      "|      embedding_type     |          fasttext          |\n",
      "|      embedding_name     |             6B             |\n",
      "|      embedding_dim      |            300             |\n",
      "|     clip_comments_to    |            100             |\n",
      "|         language        |             de             |\n",
      "|      use_stop_words     |            True            |\n",
      "|           seed          |             42             |\n",
      "+-------------------------+----------------------------+\n"
     ]
    }
   ],
   "source": [
    "PREFERENCES.defaults(\n",
    "    data_root='./data/germeval2017',\n",
    "    data_train='train_v1.4.tsv',    \n",
    "    data_validation='dev_v1.4.tsv',\n",
    "    data_test='test_TIMESTAMP1.tsv',\n",
    "    early_stopping='highest_5_F1'\n",
    ")\n",
    "def load(hp, logger):\n",
    "    dataset = Dataset(\n",
    "        'germeval',\n",
    "        logger,\n",
    "        hp,\n",
    "        source_index=0,\n",
    "        target_vocab_index=2,\n",
    "        data_path=PREFERENCES.data_root,\n",
    "        train_file=PREFERENCES.data_train,\n",
    "        valid_file=PREFERENCES.data_validation,\n",
    "        test_file=PREFERENCES.data_test,\n",
    "        file_format='.tsv',\n",
    "        init_token=None,\n",
    "        eos_token=None\n",
    "    )\n",
    "    dataset.load_data(germeval2017_dataset, verbose=False)\n",
    "    return dataset\n",
    "\n",
    "experiment_name = utils.create_loggers(experiment_name='testing')\n",
    "logger = logging.getLogger(__name__)\n",
    "\n",
    "default_hp = get_default_params(False)\n",
    "\n",
    "logger.info(default_hp)\n",
    "print(default_hp)"
   ]
  },
  {
   "cell_type": "code",
   "execution_count": 3,
   "metadata": {},
   "outputs": [
    {
     "name": "stderr",
     "output_type": "stream",
     "text": [
      "                                          \r"
     ]
    }
   ],
   "source": [
    "dataset = load(default_hp, logger)\n"
   ]
  },
  {
   "cell_type": "code",
   "execution_count": 4,
   "metadata": {
    "collapsed": true
   },
   "outputs": [],
   "source": [
    "def produce_test_gold_labels(iterator: torchtext.data.Iterator, dataset: Dataset, filename='evaluation_output.xml'):\n",
    "\n",
    "    fields = dataset.fields\n",
    "    with torch.no_grad():\n",
    "        iterator.init_epoch()\n",
    "        \n",
    "        tree = ET.ElementTree()\n",
    "        root = ET.Element('Documents')\n",
    "\n",
    "        for batch in iterator:\n",
    "            doc_id, comment, relevance, aspect_sentiment, general_sentiment = batch.id, batch.comments, batch.relevance, batch.aspect_sentiments, batch.general_sentiments\n",
    "            doc_id = fields['id'].reverse(doc_id.unsqueeze(1))\n",
    "            comment = fields['comments'].reverse(comment)\n",
    "            relevance = ['false' if r == 0 else 'true' for r in relevance]\n",
    "            general_sentiment = fields['general_sentiments'].reverse(general_sentiment.unsqueeze(1))\n",
    "            aspect_sentiment = fields['aspect_sentiments'].reverse(aspect_sentiment, detokenize=False)\n",
    "\n",
    "            for i in range(len(doc_id)):\n",
    "                docuement_elem = ET.SubElement(root, 'Document', {'id': doc_id[i]})\n",
    "\n",
    "                rel_field = ET.SubElement(docuement_elem, 'relevance')\n",
    "                rel_field.text = relevance[i]\n",
    "\n",
    "                sen_field = ET.SubElement(docuement_elem, 'sentiment')\n",
    "                sen_field.text = general_sentiment[i]\n",
    "\n",
    "                text_field = ET.SubElement(docuement_elem, 'text')\n",
    "                text_field.text = comment[i]\n",
    "\n",
    "                # don't add aspects if field not relevant\n",
    "                if relevance[i] == 'false':\n",
    "                    continue\n",
    "                options_elem = ET.SubElement(docuement_elem, 'Opinions')\n",
    "\n",
    "                # add aspects\n",
    "                for sentiment, a_name in zip(aspect_sentiment[i], dataset.target_names):\n",
    "                    if sentiment == 'n/a':\n",
    "                        continue\n",
    "\n",
    "                    asp_field = ET.SubElement(options_elem, 'Opinion', {\n",
    "                        'category': a_name,\n",
    "                        'polarity': sentiment\n",
    "                    })\n",
    "\n",
    "        #print(BeautifulSoup(ET.tostring(tree), \"xml\").prettify())\n",
    "        tree._setroot(root)\n",
    "        tree.write(filename, encoding='utf-8')\n"
   ]
  },
  {
   "cell_type": "code",
   "execution_count": 5,
   "metadata": {
    "collapsed": true,
    "scrolled": false
   },
   "outputs": [],
   "source": [
    "produce_test_gold_labels(dataset.test_iter, dataset)"
   ]
  },
  {
   "cell_type": "code",
   "execution_count": null,
   "metadata": {
    "collapsed": true
   },
   "outputs": [],
   "source": []
  }
 ],
 "metadata": {
  "kernelspec": {
   "display_name": "Python 3",
   "language": "python",
   "name": "python3"
  },
  "language_info": {
   "codemirror_mode": {
    "name": "ipython",
    "version": 3
   },
   "file_extension": ".py",
   "mimetype": "text/x-python",
   "name": "python",
   "nbconvert_exporter": "python",
   "pygments_lexer": "ipython3",
   "version": "3.6.1"
  }
 },
 "nbformat": 4,
 "nbformat_minor": 2
}
