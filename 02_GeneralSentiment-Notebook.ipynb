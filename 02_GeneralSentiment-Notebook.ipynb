{
 "cells": [
  {
   "cell_type": "code",
   "execution_count": 1,
   "metadata": {},
   "outputs": [
    {
     "name": "stderr",
     "output_type": "stream",
     "text": [
      "C:\\Users\\felix\\Anaconda3\\lib\\site-packages\\tqdm\\autonotebook\\__init__.py:14: TqdmExperimentalWarning: Using `tqdm.autonotebook.tqdm` in notebook mode. Use `tqdm.tqdm` instead to force console mode (e.g. in jupyter console)\n",
      "  \" (e.g. in jupyter console)\", TqdmExperimentalWarning)\n"
     ]
    }
   ],
   "source": [
    "import matplotlib\n",
    "\n",
    "import logging\n",
    "import torch\n",
    "\n",
    "from data.data_loader import Dataset\n",
    "from data.germeval2017 import germeval2017_dataset\n",
    "\n",
    "from misc.preferences import PREFERENCES\n",
    "from misc.visualizer import *\n",
    "from misc.run_configuration import get_default_params\n",
    "from misc import utils\n",
    "\n",
    "from optimizer import get_default_optimizer\n",
    "from criterion import NllLoss, LossCombiner\n",
    "\n",
    "from models.transformer.encoder import TransformerEncoder\n",
    "from models.softmax_output import SoftmaxOutputLayerWithCommentWiseClass\n",
    "from models.transformer_tagger import TransformerTagger\n",
    "from models.jointAspectTagger import JointAspectTagger\n",
    "from models.transformer.train import Trainer"
   ]
  },
  {
   "cell_type": "code",
   "execution_count": 2,
   "metadata": {
    "collapsed": true
   },
   "outputs": [],
   "source": [
    "experiment_name = 'JointAspectTest'\n",
    "use_cuda = True"
   ]
  },
  {
   "cell_type": "code",
   "execution_count": 3,
   "metadata": {},
   "outputs": [
    {
     "data": {
      "text/plain": [
       "\"b'6239e35'\""
      ]
     },
     "execution_count": 3,
     "metadata": {},
     "output_type": "execute_result"
    }
   ],
   "source": [
    "utils.get_current_git_commit()"
   ]
  },
  {
   "cell_type": "code",
   "execution_count": 4,
   "metadata": {},
   "outputs": [
    {
     "name": "stdout",
     "output_type": "stream",
     "text": [
      "Log path is  C:\\Users\\felix\\OneDrive\\Studium\\Studium\\6. Semester\\MA\\Project\\ABSA-Transformer\\logs\\JointAspectTest\n"
     ]
    }
   ],
   "source": [
    "PREFERENCES.defaults(\n",
    "    data_root='./data/germeval2017',\n",
    "    data_train='train_v1.4.tsv',    \n",
    "    data_validation='dev_v1.4.tsv',\n",
    "    data_test='test_TIMESTAMP1.tsv',\n",
    "    early_stopping='highest_5_F1'\n",
    ")\n",
    "\n",
    "hyperparameters = get_default_params()\n",
    "hyperparameters.model_size = 300\n",
    "hyperparameters.batch_size = 12\n",
    "hyperparameters.num_encoder_blocks = 3\n",
    "hyperparameters.n_heads = 6\n",
    "hyperparameters.d_k = 50\n",
    "hyperparameters.d_v = 50\n",
    "\n",
    "hyperparameters.early_stopping = 5\n",
    "hyperparameters.use_cuda = use_cuda\n",
    "hyperparameters.language = 'de'\n",
    "hyperparameters.num_epochs = 25\n",
    "hyperparameters.log_every_xth_iteration = 500\n",
    "hyperparameters.embedding_type = 'fasttext'\n",
    "\n",
    "experiment_name = utils.create_loggers(experiment_name=experiment_name)"
   ]
  },
  {
   "cell_type": "code",
   "execution_count": 5,
   "metadata": {},
   "outputs": [
    {
     "data": {
      "application/vnd.jupyter.widget-view+json": {
       "model_id": "42e301a30ed1413580c1ce8a8e9de346",
       "version_major": 2,
       "version_minor": 0
      },
      "text/plain": [
       "A Jupyter Widget"
      ]
     },
     "metadata": {},
     "output_type": "display_data"
    },
    {
     "name": "stdout",
     "output_type": "stream",
     "text": [
      "\n",
      "Trying to save loaded dataset to C:\\Users\\felix\\OneDrive\\Studium\\Studium\\6. Semester\\MA\\Project\\ABSA-Transformer\\data\\cache\\train_v1.pkl.\n",
      "Model train_v1 successfully saved.\n"
     ]
    },
    {
     "data": {
      "application/vnd.jupyter.widget-view+json": {
       "model_id": "76d6e89c702f474787715463562d399c",
       "version_major": 2,
       "version_minor": 0
      },
      "text/plain": [
       "A Jupyter Widget"
      ]
     },
     "metadata": {},
     "output_type": "display_data"
    },
    {
     "name": "stdout",
     "output_type": "stream",
     "text": [
      "\n",
      "Trying to save loaded dataset to C:\\Users\\felix\\OneDrive\\Studium\\Studium\\6. Semester\\MA\\Project\\ABSA-Transformer\\data\\cache\\dev_v1.pkl.\n",
      "Model dev_v1 successfully saved.\n"
     ]
    },
    {
     "data": {
      "application/vnd.jupyter.widget-view+json": {
       "model_id": "679e74ecfdb54bfca4d26e655f3197f0",
       "version_major": 2,
       "version_minor": 0
      },
      "text/plain": [
       "A Jupyter Widget"
      ]
     },
     "metadata": {},
     "output_type": "display_data"
    },
    {
     "name": "stdout",
     "output_type": "stream",
     "text": [
      "\n",
      "Trying to save loaded dataset to C:\\Users\\felix\\OneDrive\\Studium\\Studium\\6. Semester\\MA\\Project\\ABSA-Transformer\\data\\cache\\test_TIMESTAMP1.pkl.\n",
      "Model test_TIMESTAMP1 successfully saved.\n",
      "+-------------------------+\n",
      "|  GERM EVAL 2017 DATASET |\n",
      "+---------------+---------+\n",
      "|     Split     |   Size  |\n",
      "+---------------+---------+\n",
      "|     train     |  17043  |\n",
      "|   validation  |   2049  |\n",
      "|      test     |   2095  |\n",
      "+---------------+---------+\n",
      "+--------------------------------------+\n",
      "|           Vocabulary Stats           |\n",
      "+------------------------------+-------+\n",
      "|          Vocabulary          |  Size |\n",
      "+------------------------------+-------+\n",
      "|           comments           | 67041 |\n",
      "|      general_sentiments      |   3   |\n",
      "|      aspect_sentiments       |   4   |\n",
      "|           padding            | 23197 |\n",
      "|   Komfort_und_Ausstattung    |   4   |\n",
      "|        Informationen         |   4   |\n",
      "|            Design            |   4   |\n",
      "|            Image             |   4   |\n",
      "|       Barrierefreiheit       |   4   |\n",
      "| Sonstige_Unregelmässigkeiten |   4   |\n",
      "|          Toiletten           |   4   |\n",
      "|          Allgemein           |   4   |\n",
      "|      DB_App_und_Website      |   4   |\n",
      "|            Gepäck            |   4   |\n",
      "|      Reisen_mit_Kindern      |   4   |\n",
      "|         Connectivity         |   4   |\n",
      "|   Gastronomisches_Angebot    |   4   |\n",
      "|           Zugfahrt           |   4   |\n",
      "|           QR-Code            |   3   |\n",
      "| Auslastung_und_Platzangebot  |   4   |\n",
      "|          Sicherheit          |   4   |\n",
      "| Service_und_Kundenbetreuung  |   4   |\n",
      "|          Atmosphäre          |   4   |\n",
      "|          Ticketkauf          |   4   |\n",
      "+------------------------------+-------+\n",
      "\n",
      "\n",
      "\n",
      "\n",
      "+-----------------------------------------------------------------+\n",
      "|                     Komfort_und_Ausstattung                     |\n",
      "+----------+---------+---------------------+----------------------+\n",
      "|  Label   | Samples |    Triv. Accuracy   |     Class Weight     |\n",
      "+----------+---------+---------------------+----------------------+\n",
      "|   n/a    |  20989  |  99.06546467173266  | 0.009345353282673385 |\n",
      "| positive |    48   |  0.2265540189738991 |  0.997734459810261   |\n",
      "| negative |   117   |  0.5522254212488791 |  0.9944777457875112  |\n",
      "| neutral  |    33   | 0.15575588804455562 |  0.9984424411195545  |\n",
      "|   Sum    |  21187  |                     |         1.0          |\n",
      "+----------+---------+---------------------+----------------------+\n",
      "\n",
      "\n",
      "\n",
      "+-----------------------------------------------------------------+\n",
      "|                          Informationen                          |\n",
      "+----------+---------+---------------------+----------------------+\n",
      "|  Label   | Samples |    Triv. Accuracy   |     Class Weight     |\n",
      "+----------+---------+---------------------+----------------------+\n",
      "|   n/a    |  20765  |   98.0082125831878  | 0.019917874168121963 |\n",
      "| positive |    51   |  0.2407136451597678 |  0.9975928635484024  |\n",
      "| negative |   285   |  1.345164487657526  |  0.9865483551234248  |\n",
      "| neutral  |    86   | 0.40590928399490256 |  0.995940907160051   |\n",
      "|   Sum    |  21187  |                     |         1.0          |\n",
      "+----------+---------+---------------------+----------------------+\n",
      "\n",
      "\n",
      "\n",
      "+-------------------------------------------------------------------+\n",
      "|                               Design                              |\n",
      "+----------+---------+----------------------+-----------------------+\n",
      "|  Label   | Samples |    Triv. Accuracy    |      Class Weight     |\n",
      "+----------+---------+----------------------+-----------------------+\n",
      "|   n/a    |  21148  |   99.8159248595837   | 0.0018407514041629547 |\n",
      "| negative |    18   | 0.08495775711521215  |   0.9991504224288479  |\n",
      "| positive |    19   | 0.08967763251050172  |   0.999103223674895   |\n",
      "| neutral  |    2    | 0.009439750790579128 |   0.9999056024920943  |\n",
      "|   Sum    |  21187  |                      |          1.0          |\n",
      "+----------+---------+----------------------+-----------------------+\n",
      "\n",
      "\n",
      "\n",
      "+-----------------------------------------------------------------+\n",
      "|                              Image                              |\n",
      "+----------+---------+---------------------+----------------------+\n",
      "|  Label   | Samples |    Triv. Accuracy   |     Class Weight     |\n",
      "+----------+---------+---------------------+----------------------+\n",
      "|   n/a    |  21129  |   99.7262472270732  | 0.002737527729267941 |\n",
      "| negative |    34   | 0.16047576343984518 |  0.9983952423656015  |\n",
      "| positive |    10   | 0.04719875395289565 |  0.9995280124604711  |\n",
      "| neutral  |    14   |  0.0660782555340539 |  0.9993392174446595  |\n",
      "|   Sum    |  21187  |                     |         1.0          |\n",
      "+----------+---------+---------------------+----------------------+\n",
      "\n",
      "\n",
      "\n",
      "+-----------------------------------------------------------------+\n",
      "|                         Barrierefreiheit                        |\n",
      "+----------+---------+---------------------+----------------------+\n",
      "|  Label   | Samples |    Triv. Accuracy   |     Class Weight     |\n",
      "+----------+---------+---------------------+----------------------+\n",
      "|   n/a    |  21097  |  99.57521121442394  | 0.004247887855760579 |\n",
      "| positive |    20   |  0.0943975079057913 |  0.999056024920942   |\n",
      "| neutral  |    16   | 0.07551800632463303 |  0.9992448199367536  |\n",
      "| negative |    54   |  0.2548732713456365 |  0.9974512672865437  |\n",
      "|   Sum    |  21187  |                     |         1.0          |\n",
      "+----------+---------+---------------------+----------------------+\n",
      "\n",
      "\n",
      "\n",
      "+----------------------------------------------------------------+\n",
      "|                  Sonstige_Unregelmässigkeiten                  |\n",
      "+----------+---------+---------------------+---------------------+\n",
      "|  Label   | Samples |    Triv. Accuracy   |     Class Weight    |\n",
      "+----------+---------+---------------------+---------------------+\n",
      "|   n/a    |  19483  |  91.95733232642658  | 0.08042667673573423 |\n",
      "| negative |   1582  |  7.4668428753480915 |  0.9253315712465191 |\n",
      "| positive |    49   | 0.23127389436918866 |  0.9976872610563081 |\n",
      "| neutral  |    73   |  0.3445509038561382 |  0.9965544909614387 |\n",
      "|   Sum    |  21187  |                     |         1.0         |\n",
      "+----------+---------+---------------------+---------------------+\n",
      "\n",
      "\n",
      "\n",
      "+----------------------------------------------------------------+\n",
      "|                           Toiletten                            |\n",
      "+----------+---------+----------------------+--------------------+\n",
      "|  Label   | Samples |    Triv. Accuracy    |    Class Weight    |\n",
      "+----------+---------+----------------------+--------------------+\n",
      "|   n/a    |  21131  |  99.73568697786378   | 0.0026431302213622 |\n",
      "| negative |    41   | 0.19351489120687212  | 0.9980648510879313 |\n",
      "| neutral  |    13   | 0.06135838013876433  | 0.9993864161986123 |\n",
      "| positive |    2    | 0.009439750790579128 | 0.9999056024920943 |\n",
      "|   Sum    |  21187  |                      |        1.0         |\n",
      "+----------+---------+----------------------+--------------------+\n",
      "\n",
      "\n",
      "\n",
      "+--------------------------------------------------------------+\n",
      "|                          Allgemein                           |\n",
      "+----------+---------+-------------------+---------------------+\n",
      "|  Label   | Samples |   Triv. Accuracy  |     Class Weight    |\n",
      "+----------+---------+-------------------+---------------------+\n",
      "| neutral  |  12308  | 58.09222636522395 | 0.41907773634776047 |\n",
      "|   n/a    |   6176  | 29.14995044130835 |  0.7085004955869165 |\n",
      "| negative |   1922  | 9.071600509746542 |  0.9092839949025345 |\n",
      "| positive |   781   |  3.68622268372115 |  0.9631377731627885 |\n",
      "|   Sum    |  21187  |                   |         1.0         |\n",
      "+----------+---------+-------------------+---------------------+\n",
      "\n",
      "\n",
      "\n",
      "+-----------------------------------------------------------------+\n",
      "|                        DB_App_und_Website                       |\n",
      "+----------+---------+---------------------+----------------------+\n",
      "|  Label   | Samples |    Triv. Accuracy   |     Class Weight     |\n",
      "+----------+---------+---------------------+----------------------+\n",
      "|   n/a    |  20951  |  98.88610940671167  | 0.011138905932883358 |\n",
      "| positive |    41   | 0.19351489120687212 |  0.9980648510879313  |\n",
      "| negative |   134   |  0.6324633029688016 |  0.993675366970312   |\n",
      "| neutral  |    61   |  0.2879123991126634 |  0.9971208760088733  |\n",
      "|   Sum    |  21187  |                     |         1.0          |\n",
      "+----------+---------+---------------------+----------------------+\n",
      "\n",
      "\n",
      "\n",
      "+-------------------------------------------------------------------+\n",
      "|                               Gepäck                              |\n",
      "+----------+---------+----------------------+-----------------------+\n",
      "|  Label   | Samples |    Triv. Accuracy    |      Class Weight     |\n",
      "+----------+---------+----------------------+-----------------------+\n",
      "|   n/a    |  21164  |  99.89144286590835   | 0.0010855713409165801 |\n",
      "| neutral  |    10   | 0.04719875395289565  |   0.9995280124604711  |\n",
      "| negative |    12   | 0.056638504743474774 |   0.9994336149525652  |\n",
      "| positive |    1    | 0.004719875395289564 |   0.9999528012460471  |\n",
      "|   Sum    |  21187  |                      |          1.0          |\n",
      "+----------+---------+----------------------+-----------------------+\n",
      "\n",
      "\n",
      "\n",
      "+------------------------------------------------------------------+\n",
      "|                        Reisen_mit_Kindern                        |\n",
      "+----------+---------+----------------------+----------------------+\n",
      "|  Label   | Samples |    Triv. Accuracy    |     Class Weight     |\n",
      "+----------+---------+----------------------+----------------------+\n",
      "|   n/a    |  21132  |  99.74040685325907   | 0.002595931467409218 |\n",
      "| positive |    8    | 0.037759003162316514 |  0.9996224099683768  |\n",
      "| neutral  |    17   | 0.08023788171992259  |  0.9991976211828008  |\n",
      "| negative |    30   | 0.14159626185868693  |  0.9985840373814131  |\n",
      "|   Sum    |  21187  |                      |         1.0          |\n",
      "+----------+---------+----------------------+----------------------+\n",
      "\n",
      "\n",
      "\n",
      "+-----------------------------------------------------------------+\n",
      "|                           Connectivity                          |\n",
      "+----------+---------+---------------------+----------------------+\n",
      "|  Label   | Samples |    Triv. Accuracy   |     Class Weight     |\n",
      "+----------+---------+---------------------+----------------------+\n",
      "|   n/a    |  20871  |   98.5085193750885  | 0.014914806249115009 |\n",
      "| positive |    69   |  0.3256714022749799 |  0.9967432859772501  |\n",
      "| negative |   197   |  0.9298154528720441 |  0.9907018454712796  |\n",
      "| neutral  |    50   | 0.23599376976447822 |  0.9976400623023552  |\n",
      "|   Sum    |  21187  |                     |         1.0          |\n",
      "+----------+---------+---------------------+----------------------+\n",
      "\n",
      "\n",
      "\n",
      "+------------------------------------------------------------------+\n",
      "|                     Gastronomisches_Angebot                      |\n",
      "+----------+---------+---------------------+-----------------------+\n",
      "|  Label   | Samples |    Triv. Accuracy   |      Class Weight     |\n",
      "+----------+---------+---------------------+-----------------------+\n",
      "|   n/a    |  21136  |  99.75928635484024  | 0.0024071364515976246 |\n",
      "| negative |    32   | 0.15103601264926605 |   0.9984896398735074  |\n",
      "| neutral  |    10   | 0.04719875395289565 |   0.9995280124604711  |\n",
      "| positive |    9    | 0.04247887855760608 |   0.9995752112144239  |\n",
      "|   Sum    |  21187  |                     |          1.0          |\n",
      "+----------+---------+---------------------+-----------------------+\n",
      "\n",
      "\n",
      "\n",
      "+---------------------------------------------------------------+\n",
      "|                            Zugfahrt                           |\n",
      "+----------+---------+--------------------+---------------------+\n",
      "|  Label   | Samples |   Triv. Accuracy   |     Class Weight    |\n",
      "+----------+---------+--------------------+---------------------+\n",
      "|   n/a    |  18958  | 89.47939774389955  | 0.10520602256100442 |\n",
      "| positive |   371   | 1.7510737716524283 |  0.9824892622834758 |\n",
      "| negative |   1706  | 8.052107424363996  |   0.91947892575636  |\n",
      "| neutral  |   152   | 0.7174210600840137 |  0.9928257893991599 |\n",
      "|   Sum    |  21187  |                    |         1.0         |\n",
      "+----------+---------+--------------------+---------------------+\n",
      "\n",
      "\n",
      "\n",
      "+-------------------------------------------------------------------+\n",
      "|                              QR-Code                              |\n",
      "+----------+---------+----------------------+-----------------------+\n",
      "|  Label   | Samples |    Triv. Accuracy    |      Class Weight     |\n",
      "+----------+---------+----------------------+-----------------------+\n",
      "|   n/a    |  21185  |  99.99056024920942   | 9.439750790574131e-05 |\n",
      "| positive |    1    | 0.004719875395289564 |   0.9999528012460471  |\n",
      "| neutral  |    1    | 0.004719875395289564 |   0.9999528012460471  |\n",
      "|   Sum    |  21187  |                      |          1.0          |\n",
      "+----------+---------+----------------------+-----------------------+\n",
      "\n",
      "\n",
      "\n",
      "+-----------------------------------------------------------------+\n",
      "|                   Auslastung_und_Platzangebot                   |\n",
      "+----------+---------+---------------------+----------------------+\n",
      "|  Label   | Samples |    Triv. Accuracy   |     Class Weight     |\n",
      "+----------+---------+---------------------+----------------------+\n",
      "|   n/a    |  20868  |  98.49435974890262  | 0.015056402510973732 |\n",
      "| negative |   261   |  1.2318874781705764 |  0.9876811252182942  |\n",
      "| positive |    48   |  0.2265540189738991 |  0.997734459810261   |\n",
      "| neutral  |    10   | 0.04719875395289565 |  0.9995280124604711  |\n",
      "|   Sum    |  21187  |                     |         1.0          |\n",
      "+----------+---------+---------------------+----------------------+\n",
      "\n",
      "\n",
      "\n",
      "+-----------------------------------------------------------------+\n",
      "|                            Sicherheit                           |\n",
      "+----------+---------+----------------------+---------------------+\n",
      "|  Label   | Samples |    Triv. Accuracy    |     Class Weight    |\n",
      "+----------+---------+----------------------+---------------------+\n",
      "|   n/a    |  20611  |   97.2813517723132   | 0.02718648227686793 |\n",
      "| negative |   542   |  2.558172464246944   |  0.9744182753575306 |\n",
      "| positive |    22   | 0.10383725869637041  |  0.9989616274130363 |\n",
      "| neutral  |    12   | 0.056638504743474774 |  0.9994336149525652 |\n",
      "|   Sum    |  21187  |                      |         1.0         |\n",
      "+----------+---------+----------------------+---------------------+\n",
      "\n",
      "\n",
      "\n",
      "+---------------------------------------------------------------+\n",
      "|                  Service_und_Kundenbetreuung                  |\n",
      "+----------+---------+--------------------+---------------------+\n",
      "|  Label   | Samples |   Triv. Accuracy   |     Class Weight    |\n",
      "+----------+---------+--------------------+---------------------+\n",
      "|   n/a    |  20589  | 97.17751451361684  | 0.02822485486383164 |\n",
      "| negative |   388   | 1.831311653372351  |  0.9816868834662765 |\n",
      "| positive |   146   | 0.6891018077122764 |  0.9931089819228772 |\n",
      "| neutral  |    64   | 0.3020720252985321 |  0.9969792797470147 |\n",
      "|   Sum    |  21187  |                    |         1.0         |\n",
      "+----------+---------+--------------------+---------------------+\n",
      "\n",
      "\n",
      "\n",
      "+---------------------------------------------------------------+\n",
      "|                           Atmosphäre                          |\n",
      "+----------+---------+--------------------+---------------------+\n",
      "|  Label   | Samples |   Triv. Accuracy   |     Class Weight    |\n",
      "+----------+---------+--------------------+---------------------+\n",
      "|   n/a    |  19854  | 93.70840609807901  | 0.06291593901920989 |\n",
      "| negative |   1035  | 4.8850710341246995 |  0.951149289658753  |\n",
      "| positive |   133   | 0.6277434275735121 |  0.9937225657242649 |\n",
      "| neutral  |   165   | 0.7787794402227781 |  0.9922122055977722 |\n",
      "|   Sum    |  21187  |                    |         1.0         |\n",
      "+----------+---------+--------------------+---------------------+\n",
      "\n",
      "\n",
      "\n",
      "+---------------------------------------------------------------+\n",
      "|                           Ticketkauf                          |\n",
      "+----------+---------+--------------------+---------------------+\n",
      "|  Label   | Samples |   Triv. Accuracy   |     Class Weight    |\n",
      "+----------+---------+--------------------+---------------------+\n",
      "|   n/a    |  20429  |  96.4223344503705  | 0.03577665549629494 |\n",
      "| negative |   505   | 2.3835370746212297 |  0.9761646292537877 |\n",
      "| neutral  |   137   | 0.6466229291546703 |  0.9935337707084533 |\n",
      "| positive |   116   | 0.5475055458535895 |  0.9945249445414641 |\n",
      "|   Sum    |  21187  |                    |         1.0         |\n",
      "+----------+---------+--------------------+---------------------+\n",
      "\n"
     ]
    },
    {
     "name": "stdout",
     "output_type": "stream",
     "text": [
      "\n"
     ]
    }
   ],
   "source": [
    "dataset = Dataset(\n",
    "    'germeval',\n",
    "    logging.getLogger('data_loaoder'),\n",
    "    hyperparameters,\n",
    "    source_index=0,\n",
    "    target_vocab_index=2,\n",
    "    data_path=PREFERENCES.data_root,\n",
    "    train_file=PREFERENCES.data_train,\n",
    "    valid_file=PREFERENCES.data_validation,\n",
    "    test_file=PREFERENCES.data_test,\n",
    "    file_format='.tsv',\n",
    "    init_token=None,\n",
    "    eos_token=None\n",
    ")\n",
    "dataset.load_data(germeval2017_dataset)"
   ]
  },
  {
   "cell_type": "code",
   "execution_count": 6,
   "metadata": {},
   "outputs": [
    {
     "name": "stdout",
     "output_type": "stream",
     "text": [
      "[[0.009345353282673385, 0.9944777457875112, 0.997734459810261, 0.9984424411195545], [0.019917874168121963, 0.9865483551234248, 0.995940907160051, 0.9975928635484024], [0.0018407514041629547, 0.999103223674895, 0.9991504224288479, 0.9999056024920943], [0.002737527729267941, 0.9983952423656015, 0.9993392174446595, 0.9995280124604711], [0.004247887855760579, 0.9974512672865437, 0.999056024920942, 0.9992448199367536], [0.08042667673573423, 0.9253315712465191, 0.9965544909614387, 0.9976872610563081], [0.0026431302213622, 0.9980648510879313, 0.9993864161986123, 0.9999056024920943], [0.41907773634776047, 0.7085004955869165, 0.9092839949025345, 0.9631377731627885], [0.011138905932883358, 0.993675366970312, 0.9971208760088733, 0.9980648510879313], [0.0010855713409165801, 0.9994336149525652, 0.9995280124604711, 0.9999528012460471], [0.002595931467409218, 0.9985840373814131, 0.9991976211828008, 0.9996224099683768], [0.014914806249115009, 0.9907018454712796, 0.9967432859772501, 0.9976400623023552], [0.0024071364515976246, 0.9984896398735074, 0.9995280124604711, 0.9995752112144239], [0.10520602256100442, 0.91947892575636, 0.9824892622834758, 0.9928257893991599], [9.439750790574131e-05, 0.9999528012460471, 0.9999528012460471, 0.0], [0.015056402510973732, 0.9876811252182942, 0.997734459810261, 0.9995280124604711], [0.02718648227686793, 0.9744182753575306, 0.9989616274130363, 0.9994336149525652], [0.02822485486383164, 0.9816868834662765, 0.9931089819228772, 0.9969792797470147], [0.06291593901920989, 0.951149289658753, 0.9922122055977722, 0.9937225657242649], [0.03577665549629494, 0.9761646292537877, 0.9935337707084533, 0.9945249445414641]]\n",
      "['n/a', 'neutral', 'negative', 'positive']\n"
     ]
    }
   ],
   "source": [
    "print(dataset.class_weights)\n",
    "print(dataset.class_labels)"
   ]
  },
  {
   "cell_type": "code",
   "execution_count": 7,
   "metadata": {},
   "outputs": [
    {
     "name": "stdout",
     "output_type": "stream",
     "text": [
      "pre_training - DEBUG - 20 initialized\n",
      "pre_training - DEBUG - Initilize parameters with nn.init.xavier_uniform_\n",
      "pre_training - DEBUG - Tagger initialized\n"
     ]
    }
   ],
   "source": [
    "loss = LossCombiner(4, dataset.class_weights, NllLoss)\n",
    "transformer = TransformerEncoder(dataset.source_embedding,\n",
    "                                 hyperparameters=hyperparameters)\n",
    "tagging_softmax = SoftmaxOutputLayerWithCommentWiseClass(hyperparameters.model_size, dataset.target_size)\n",
    "model = JointAspectTagger(transformer, hyperparameters.model_size, 4, 20, dataset.target_names)\n"
   ]
  },
  {
   "cell_type": "code",
   "execution_count": 8,
   "metadata": {},
   "outputs": [
    {
     "name": "stdout",
     "output_type": "stream",
     "text": [
      "pre_training - INFO - JointAspectTagger (\n",
      "  (encoder): TransformerEncoder(\n",
      "    (src_embeddings): Embedding(67041, 300)\n",
      "    (positional_encoding): PositionalEncoding2(\n",
      "      (dropout): Dropout(p=0.1)\n",
      "    )\n",
      "    (encoder_blocks): ModuleList(\n",
      "      (0): EncoderBlock(\n",
      "        (self_attention_layer): MultiHeadedSelfAttentionLayer(\n",
      "          (query_projections): Linear(in_features=300, out_features=300, bias=False)\n",
      "          (key_projections): Linear(in_features=300, out_features=300, bias=False)\n",
      "          (value_projections): Linear(in_features=300, out_features=300, bias=False)\n",
      "          (attention_layer): ScaledDotProductAttentionLayer(\n",
      "            (dropout): Dropout(p=0.1)\n",
      "          )\n",
      "          (layer_norm): LayerNorm()\n",
      "          (w_0): Linear(in_features=300, out_features=300, bias=False)\n",
      "          (dropout): Dropout(p=0.1)\n",
      "        )\n",
      "        (feed_forward_layer): PointWiseFCLayer(\n",
      "          (layer_norm): LayerNorm()\n",
      "          (w_1): Linear(in_features=300, out_features=2048, bias=True)\n",
      "          (w_2): Linear(in_features=2048, out_features=300, bias=True)\n",
      "          (dropout): Dropout(p=0.1)\n",
      "        )\n",
      "        (layer_norm): LayerNorm()\n",
      "      )\n",
      "      (1): EncoderBlock(\n",
      "        (self_attention_layer): MultiHeadedSelfAttentionLayer(\n",
      "          (query_projections): Linear(in_features=300, out_features=300, bias=False)\n",
      "          (key_projections): Linear(in_features=300, out_features=300, bias=False)\n",
      "          (value_projections): Linear(in_features=300, out_features=300, bias=False)\n",
      "          (attention_layer): ScaledDotProductAttentionLayer(\n",
      "            (dropout): Dropout(p=0.1)\n",
      "          )\n",
      "          (layer_norm): LayerNorm()\n",
      "          (w_0): Linear(in_features=300, out_features=300, bias=False)\n",
      "          (dropout): Dropout(p=0.1)\n",
      "        )\n",
      "        (feed_forward_layer): PointWiseFCLayer(\n",
      "          (layer_norm): LayerNorm()\n",
      "          (w_1): Linear(in_features=300, out_features=2048, bias=True)\n",
      "          (w_2): Linear(in_features=2048, out_features=300, bias=True)\n",
      "          (dropout): Dropout(p=0.1)\n",
      "        )\n",
      "        (layer_norm): LayerNorm()\n",
      "      )\n",
      "    )\n",
      "    (layer_norm): LayerNorm()\n",
      "  ), weights=((67041, 300), (300, 300), (300, 300), (300, 300), (300,), (300,), (300, 300), (300,), (300,), (2048, 300), (2048,), (300, 2048), (300,), (300,), (300,), (300, 300), (300, 300), (300, 300), (300,), (300,), (300, 300), (300,), (300,), (2048, 300), (2048,), (300, 2048), (300,), (300,), (300,), (300,), (300,)), parameters=23298796\n",
      "  (taggers): ModuleList(\n",
      "    (0): SoftmaxOutputLayerWithCommentWiseClass(\n",
      "      (output_projection): Linear(in_features=300, out_features=4, bias=True)\n",
      "    )\n",
      "    (1): SoftmaxOutputLayerWithCommentWiseClass(\n",
      "      (output_projection): Linear(in_features=300, out_features=4, bias=True)\n",
      "    )\n",
      "    (2): SoftmaxOutputLayerWithCommentWiseClass(\n",
      "      (output_projection): Linear(in_features=300, out_features=4, bias=True)\n",
      "    )\n",
      "    (3): SoftmaxOutputLayerWithCommentWiseClass(\n",
      "      (output_projection): Linear(in_features=300, out_features=4, bias=True)\n",
      "    )\n",
      "    (4): SoftmaxOutputLayerWithCommentWiseClass(\n",
      "      (output_projection): Linear(in_features=300, out_features=4, bias=True)\n",
      "    )\n",
      "    (5): SoftmaxOutputLayerWithCommentWiseClass(\n",
      "      (output_projection): Linear(in_features=300, out_features=4, bias=True)\n",
      "    )\n",
      "    (6): SoftmaxOutputLayerWithCommentWiseClass(\n",
      "      (output_projection): Linear(in_features=300, out_features=4, bias=True)\n",
      "    )\n",
      "    (7): SoftmaxOutputLayerWithCommentWiseClass(\n",
      "      (output_projection): Linear(in_features=300, out_features=4, bias=True)\n",
      "    )\n",
      "    (8): SoftmaxOutputLayerWithCommentWiseClass(\n",
      "      (output_projection): Linear(in_features=300, out_features=4, bias=True)\n",
      "    )\n",
      "    (9): SoftmaxOutputLayerWithCommentWiseClass(\n",
      "      (output_projection): Linear(in_features=300, out_features=4, bias=True)\n",
      "    )\n",
      "    (10): SoftmaxOutputLayerWithCommentWiseClass(\n",
      "      (output_projection): Linear(in_features=300, out_features=4, bias=True)\n",
      "    )\n",
      "    (11): SoftmaxOutputLayerWithCommentWiseClass(\n",
      "      (output_projection): Linear(in_features=300, out_features=4, bias=True)\n",
      "    )\n",
      "    (12): SoftmaxOutputLayerWithCommentWiseClass(\n",
      "      (output_projection): Linear(in_features=300, out_features=4, bias=True)\n",
      "    )\n",
      "    (13): SoftmaxOutputLayerWithCommentWiseClass(\n",
      "      (output_projection): Linear(in_features=300, out_features=4, bias=True)\n",
      "    )\n",
      "    (14): SoftmaxOutputLayerWithCommentWiseClass(\n",
      "      (output_projection): Linear(in_features=300, out_features=4, bias=True)\n",
      "    )\n",
      "    (15): SoftmaxOutputLayerWithCommentWiseClass(\n",
      "      (output_projection): Linear(in_features=300, out_features=4, bias=True)\n",
      "    )\n",
      "    (16): SoftmaxOutputLayerWithCommentWiseClass(\n",
      "      (output_projection): Linear(in_features=300, out_features=4, bias=True)\n",
      "    )\n",
      "    (17): SoftmaxOutputLayerWithCommentWiseClass(\n",
      "      (output_projection): Linear(in_features=300, out_features=4, bias=True)\n",
      "    )\n",
      "    (18): SoftmaxOutputLayerWithCommentWiseClass(\n",
      "      (output_projection): Linear(in_features=300, out_features=4, bias=True)\n",
      "    )\n",
      "    (19): SoftmaxOutputLayerWithCommentWiseClass(\n",
      "      (output_projection): Linear(in_features=300, out_features=4, bias=True)\n",
      "    )\n",
      "  ), weights=((4, 300), (4,), (4, 300), (4,), (4, 300), (4,), (4, 300), (4,), (4, 300), (4,), (4, 300), (4,), (4, 300), (4,), (4, 300), (4,), (4, 300), (4,), (4, 300), (4,), (4, 300), (4,), (4, 300), (4,), (4, 300), (4,), (4, 300), (4,), (4, 300), (4,), (4, 300), (4,), (4, 300), (4,), (4, 300), (4,), (4, 300), (4,), (4, 300), (4,)), parameters=24080\n",
      ")\n",
      "==================================\n",
      "Total Number of parameters: 23.322.876\n",
      "==================================\n",
      "\n",
      "----------------------------------------------------------------\n",
      "        Layer (type)               Output Shape         Param #\n",
      "================================================================\n",
      "         Embedding-1              [-1, 42, 300]      20,112,300\n",
      "           Dropout-2              [-1, 42, 300]               0\n",
      "PositionalEncoding2-3              [-1, 42, 300]               0\n",
      "            Linear-4              [-1, 42, 300]          90,000\n",
      "            Linear-5              [-1, 42, 300]          90,000\n",
      "            Linear-6              [-1, 42, 300]          90,000\n",
      "           Dropout-7               [-1, 42, 42]               0\n",
      "ScaledDotProductAttentionLayer-8               [-1, 42, 50]               0\n",
      "            Linear-9              [-1, 42, 300]          90,000\n",
      "          Dropout-10              [-1, 42, 300]               0\n",
      "        LayerNorm-11              [-1, 42, 300]               0\n",
      "MultiHeadedSelfAttentionLayer-12              [-1, 42, 300]               0\n",
      "           Linear-13             [-1, 42, 2048]         616,448\n",
      "           Linear-14              [-1, 42, 300]         614,700\n",
      "          Dropout-15              [-1, 42, 300]               0\n",
      "        LayerNorm-16              [-1, 42, 300]               0\n",
      "     EncoderBlock-17              [-1, 42, 300]               0\n",
      "           Linear-18              [-1, 42, 300]          90,000\n",
      "           Linear-19              [-1, 42, 300]          90,000\n",
      "           Linear-20              [-1, 42, 300]          90,000\n",
      "          Dropout-21               [-1, 42, 42]               0\n",
      "ScaledDotProductAttentionLayer-22               [-1, 42, 50]               0\n",
      "           Linear-23              [-1, 42, 300]          90,000\n",
      "          Dropout-24              [-1, 42, 300]               0\n",
      "        LayerNorm-25              [-1, 42, 300]               0\n",
      "MultiHeadedSelfAttentionLayer-26              [-1, 42, 300]               0\n",
      "           Linear-27             [-1, 42, 2048]         616,448\n",
      "           Linear-28              [-1, 42, 300]         614,700\n",
      "          Dropout-29              [-1, 42, 300]               0\n",
      "        LayerNorm-30              [-1, 42, 300]               0\n",
      "     EncoderBlock-31              [-1, 42, 300]               0\n",
      "TransformerEncoder-32              [-1, 42, 300]               0\n",
      "           Linear-33                [-1, 42, 4]           1,204\n",
      "SoftmaxOutputLayerWithCommentWiseClass-34                    [-1, 4]               0\n",
      "           Linear-35                [-1, 42, 4]           1,204\n"
     ]
    },
    {
     "name": "stdout",
     "output_type": "stream",
     "text": [
      "SoftmaxOutputLayerWithCommentWiseClass-36                    [-1, 4]               0\n",
      "           Linear-37                [-1, 42, 4]           1,204\n",
      "SoftmaxOutputLayerWithCommentWiseClass-38                    [-1, 4]               0\n",
      "           Linear-39                [-1, 42, 4]           1,204\n",
      "SoftmaxOutputLayerWithCommentWiseClass-40                    [-1, 4]               0\n",
      "           Linear-41                [-1, 42, 4]           1,204\n",
      "SoftmaxOutputLayerWithCommentWiseClass-42                    [-1, 4]               0\n",
      "           Linear-43                [-1, 42, 4]           1,204\n",
      "SoftmaxOutputLayerWithCommentWiseClass-44                    [-1, 4]               0\n",
      "           Linear-45                [-1, 42, 4]           1,204\n",
      "SoftmaxOutputLayerWithCommentWiseClass-46                    [-1, 4]               0\n",
      "           Linear-47                [-1, 42, 4]           1,204\n",
      "SoftmaxOutputLayerWithCommentWiseClass-48                    [-1, 4]               0\n",
      "           Linear-49                [-1, 42, 4]           1,204\n",
      "SoftmaxOutputLayerWithCommentWiseClass-50                    [-1, 4]               0\n",
      "           Linear-51                [-1, 42, 4]           1,204\n",
      "SoftmaxOutputLayerWithCommentWiseClass-52                    [-1, 4]               0\n",
      "           Linear-53                [-1, 42, 4]           1,204\n",
      "SoftmaxOutputLayerWithCommentWiseClass-54                    [-1, 4]               0\n",
      "           Linear-55                [-1, 42, 4]           1,204\n",
      "SoftmaxOutputLayerWithCommentWiseClass-56                    [-1, 4]               0\n",
      "           Linear-57                [-1, 42, 4]           1,204\n",
      "SoftmaxOutputLayerWithCommentWiseClass-58                    [-1, 4]               0\n",
      "           Linear-59                [-1, 42, 4]           1,204\n",
      "SoftmaxOutputLayerWithCommentWiseClass-60                    [-1, 4]               0\n",
      "           Linear-61                [-1, 42, 4]           1,204\n",
      "SoftmaxOutputLayerWithCommentWiseClass-62                    [-1, 4]               0\n",
      "           Linear-63                [-1, 42, 4]           1,204\n",
      "SoftmaxOutputLayerWithCommentWiseClass-64                    [-1, 4]               0\n",
      "           Linear-65                [-1, 42, 4]           1,204\n",
      "SoftmaxOutputLayerWithCommentWiseClass-66                    [-1, 4]               0\n",
      "           Linear-67                [-1, 42, 4]           1,204\n",
      "SoftmaxOutputLayerWithCommentWiseClass-68                    [-1, 4]               0\n",
      "           Linear-69                [-1, 42, 4]           1,204\n",
      "SoftmaxOutputLayerWithCommentWiseClass-70                    [-1, 4]               0\n",
      "           Linear-71                [-1, 42, 4]           1,204\n",
      "SoftmaxOutputLayerWithCommentWiseClass-72                    [-1, 4]               0\n",
      "================================================================\n",
      "Total params: 23,318,676\n",
      "Trainable params: 23,318,676\n",
      "Non-trainable params: 0\n",
      "----------------------------------------------------------------\n",
      "Input size (MB): 0.00\n",
      "Forward/backward pass size (MB): 3.90\n",
      "Params size (MB): 88.95\n",
      "Estimated Total Size (MB): 92.85\n",
      "----------------------------------------------------------------\n",
      "pre_training - INFO - JointAspectTagger (\n",
      "  (encoder): TransformerEncoder(\n",
      "    (src_embeddings): Embedding(67041, 300)\n",
      "    (positional_encoding): PositionalEncoding2(\n",
      "      (dropout): Dropout(p=0.1)\n",
      "    )\n",
      "    (encoder_blocks): ModuleList(\n",
      "      (0): EncoderBlock(\n",
      "        (self_attention_layer): MultiHeadedSelfAttentionLayer(\n",
      "          (query_projections): Linear(in_features=300, out_features=300, bias=False)\n",
      "          (key_projections): Linear(in_features=300, out_features=300, bias=False)\n",
      "          (value_projections): Linear(in_features=300, out_features=300, bias=False)\n",
      "          (attention_layer): ScaledDotProductAttentionLayer(\n",
      "            (dropout): Dropout(p=0.1)\n",
      "          )\n",
      "          (layer_norm): LayerNorm()\n",
      "          (w_0): Linear(in_features=300, out_features=300, bias=False)\n",
      "          (dropout): Dropout(p=0.1)\n",
      "        )\n",
      "        (feed_forward_layer): PointWiseFCLayer(\n",
      "          (layer_norm): LayerNorm()\n",
      "          (w_1): Linear(in_features=300, out_features=2048, bias=True)\n",
      "          (w_2): Linear(in_features=2048, out_features=300, bias=True)\n",
      "          (dropout): Dropout(p=0.1)\n",
      "        )\n",
      "        (layer_norm): LayerNorm()\n",
      "      )\n",
      "      (1): EncoderBlock(\n",
      "        (self_attention_layer): MultiHeadedSelfAttentionLayer(\n",
      "          (query_projections): Linear(in_features=300, out_features=300, bias=False)\n",
      "          (key_projections): Linear(in_features=300, out_features=300, bias=False)\n",
      "          (value_projections): Linear(in_features=300, out_features=300, bias=False)\n",
      "          (attention_layer): ScaledDotProductAttentionLayer(\n",
      "            (dropout): Dropout(p=0.1)\n",
      "          )\n",
      "          (layer_norm): LayerNorm()\n",
      "          (w_0): Linear(in_features=300, out_features=300, bias=False)\n",
      "          (dropout): Dropout(p=0.1)\n",
      "        )\n",
      "        (feed_forward_layer): PointWiseFCLayer(\n",
      "          (layer_norm): LayerNorm()\n",
      "          (w_1): Linear(in_features=300, out_features=2048, bias=True)\n",
      "          (w_2): Linear(in_features=2048, out_features=300, bias=True)\n",
      "          (dropout): Dropout(p=0.1)\n",
      "        )\n",
      "        (layer_norm): LayerNorm()\n",
      "      )\n",
      "    )\n",
      "    (layer_norm): LayerNorm()\n",
      "  ), weights=((67041, 300), (300, 300), (300, 300), (300, 300), (300,), (300,), (300, 300), (300,), (300,), (2048, 300), (2048,), (300, 2048), (300,), (300,), (300,), (300, 300), (300, 300), (300, 300), (300,), (300,), (300, 300), (300,), (300,), (2048, 300), (2048,), (300, 2048), (300,), (300,), (300,), (300,), (300,)), parameters=23298796\n",
      "  (taggers): ModuleList(\n",
      "    (0): SoftmaxOutputLayerWithCommentWiseClass(\n",
      "      (output_projection): Linear(in_features=300, out_features=4, bias=True)\n",
      "    )\n",
      "    (1): SoftmaxOutputLayerWithCommentWiseClass(\n",
      "      (output_projection): Linear(in_features=300, out_features=4, bias=True)\n",
      "    )\n",
      "    (2): SoftmaxOutputLayerWithCommentWiseClass(\n",
      "      (output_projection): Linear(in_features=300, out_features=4, bias=True)\n",
      "    )\n",
      "    (3): SoftmaxOutputLayerWithCommentWiseClass(\n",
      "      (output_projection): Linear(in_features=300, out_features=4, bias=True)\n",
      "    )\n",
      "    (4): SoftmaxOutputLayerWithCommentWiseClass(\n",
      "      (output_projection): Linear(in_features=300, out_features=4, bias=True)\n",
      "    )\n",
      "    (5): SoftmaxOutputLayerWithCommentWiseClass(\n",
      "      (output_projection): Linear(in_features=300, out_features=4, bias=True)\n",
      "    )\n",
      "    (6): SoftmaxOutputLayerWithCommentWiseClass(\n",
      "      (output_projection): Linear(in_features=300, out_features=4, bias=True)\n",
      "    )\n",
      "    (7): SoftmaxOutputLayerWithCommentWiseClass(\n",
      "      (output_projection): Linear(in_features=300, out_features=4, bias=True)\n",
      "    )\n",
      "    (8): SoftmaxOutputLayerWithCommentWiseClass(\n",
      "      (output_projection): Linear(in_features=300, out_features=4, bias=True)\n",
      "    )\n",
      "    (9): SoftmaxOutputLayerWithCommentWiseClass(\n",
      "      (output_projection): Linear(in_features=300, out_features=4, bias=True)\n",
      "    )\n",
      "    (10): SoftmaxOutputLayerWithCommentWiseClass(\n",
      "      (output_projection): Linear(in_features=300, out_features=4, bias=True)\n",
      "    )\n",
      "    (11): SoftmaxOutputLayerWithCommentWiseClass(\n",
      "      (output_projection): Linear(in_features=300, out_features=4, bias=True)\n",
      "    )\n",
      "    (12): SoftmaxOutputLayerWithCommentWiseClass(\n",
      "      (output_projection): Linear(in_features=300, out_features=4, bias=True)\n",
      "    )\n",
      "    (13): SoftmaxOutputLayerWithCommentWiseClass(\n",
      "      (output_projection): Linear(in_features=300, out_features=4, bias=True)\n",
      "    )\n",
      "    (14): SoftmaxOutputLayerWithCommentWiseClass(\n",
      "      (output_projection): Linear(in_features=300, out_features=4, bias=True)\n",
      "    )\n",
      "    (15): SoftmaxOutputLayerWithCommentWiseClass(\n",
      "      (output_projection): Linear(in_features=300, out_features=4, bias=True)\n",
      "    )\n",
      "    (16): SoftmaxOutputLayerWithCommentWiseClass(\n",
      "      (output_projection): Linear(in_features=300, out_features=4, bias=True)\n",
      "    )\n",
      "    (17): SoftmaxOutputLayerWithCommentWiseClass(\n",
      "      (output_projection): Linear(in_features=300, out_features=4, bias=True)\n",
      "    )\n",
      "    (18): SoftmaxOutputLayerWithCommentWiseClass(\n",
      "      (output_projection): Linear(in_features=300, out_features=4, bias=True)\n",
      "    )\n",
      "    (19): SoftmaxOutputLayerWithCommentWiseClass(\n",
      "      (output_projection): Linear(in_features=300, out_features=4, bias=True)\n",
      "    )\n",
      "  ), weights=((4, 300), (4,), (4, 300), (4,), (4, 300), (4,), (4, 300), (4,), (4, 300), (4,), (4, 300), (4,), (4, 300), (4,), (4, 300), (4,), (4, 300), (4,), (4, 300), (4,), (4, 300), (4,), (4, 300), (4,), (4, 300), (4,), (4, 300), (4,), (4, 300), (4,), (4, 300), (4,), (4, 300), (4,), (4, 300), (4,), (4, 300), (4,), (4, 300), (4,)), parameters=24080\n",
      ")\n",
      "==================================\n",
      "Total Number of parameters: 23.322.876\n",
      "==================================\n"
     ]
    },
    {
     "name": "stdout",
     "output_type": "stream",
     "text": [
      "\n",
      "pre_training - INFO - Classes: ['n/a', 'neutral', 'negative', 'positive']\n",
      "pre_training - INFO - Tensorboard enabled. Run will be located at /runs/JointAspectTest/20190212/25/0/. Full path is C:\\Users\\felix\\OneDrive\\Studium\\Studium\\6. Semester\\MA\\Project\\ABSA-Transformer\\runs\\JointAspectTest\\20190212\\25EP\\0\n"
     ]
    }
   ],
   "source": [
    "hyperparameters.num_epochs = 25\n",
    "\n",
    "optimizer = get_default_optimizer(model, hyperparameters)\n",
    "trainer = Trainer(\n",
    "                    model,\n",
    "                    loss,\n",
    "                    optimizer,\n",
    "                    hyperparameters,\n",
    "                    dataset,\n",
    "                    experiment_name,\n",
    "                    enable_tensorboard=True)"
   ]
  },
  {
   "cell_type": "code",
   "execution_count": 10,
   "metadata": {},
   "outputs": [
    {
     "name": "stdout",
     "output_type": "stream",
     "text": [
      "pre_training - DEBUG - train with cuda support\n",
      "pre_training - INFO - 1421 Iterations per epoch with batch size of 12\n",
      "pre_training - INFO - Total iterations: 35525\n",
      "pre_training - INFO - START training.\n",
      "\n",
      "\n",
      "\n"
     ]
    },
    {
     "data": {
      "application/vnd.jupyter.widget-view+json": {
       "model_id": "77a0d393f28440e580f871b2599cc04b",
       "version_major": 2,
       "version_minor": 0
      },
      "text/plain": [
       "A Jupyter Widget"
      ]
     },
     "metadata": {},
     "output_type": "display_data"
    },
    {
     "name": "stdout",
     "output_type": "stream",
     "text": [
      "# EP\t# IT\ttr loss\t\tval loss\tf1\t\tacc\t\tduration / total time\n",
      "1\t500\t264.56\t\t139.12\t\t0.827\t\t0.827\t\t0.00m - 1.0m / 0.0m\n",
      "1\t1000\t132.48\t\t98.50\t\t0.916\t\t0.916\t\t0.00m - 2.3m / 0.0m\n",
      "1\t1421\t174.96\t\t23.99\t\t0.875\t\t0.875\t\t5.68m - 5.7m / 0.0m\n",
      "2\t1500\t116.43\t\t77.48\t\t0.823\t\t0.823\t\t5.68m - 5.8m / 142.0m\n",
      "2\t2000\t101.35\t\t100.78\t\t0.891\t\t0.891\t\t5.68m - 7.1m / 142.0m\n",
      "2\t2500\t97.93\t\t80.51\t\t0.794\t\t0.794\t\t5.68m - 8.3m / 142.0m\n",
      "2\t2842\t95.94\t\t19.45\t\t0.826\t\t0.826\t\t5.59m - 11.3m / 142.0m\n",
      "3\t3000\t81.87\t\t64.66\t\t0.900\t\t0.900\t\t5.59m - 11.6m / 139.8m\n",
      "3\t3500\t75.97\t\t61.34\t\t0.886\t\t0.886\t\t5.59m - 12.8m / 139.8m\n",
      "3\t4000\t59.19\t\t53.70\t\t0.912\t\t0.912\t\t5.59m - 14.0m / 139.8m\n",
      "3\t4263\t65.39\t\t8.75\t\t0.886\t\t0.886\t\t5.54m - 16.8m / 139.8m\n",
      "4\t4500\t49.00\t\t51.27\t\t0.890\t\t0.890\t\t5.54m - 17.3m / 138.7m\n",
      "4\t5000\t44.05\t\t35.99\t\t0.897\t\t0.897\t\t5.54m - 18.5m / 138.7m\n",
      "4\t5500\t32.98\t\t25.49\t\t0.837\t\t0.837\t\t5.54m - 19.7m / 138.7m\n",
      "4\t5684\t37.70\t\t6.79\t\t0.920\t\t0.920\t\t5.49m - 22.3m / 138.7m\n",
      "5\t6000\t15.01\t\t14.46\t\t0.914\t\t0.914\t\t5.49m - 23.1m / 137.8m\n",
      "5\t6500\t8.38\t\t11.11\t\t0.938\t\t0.938\t\t5.49m - 24.3m / 137.8m\n",
      "5\t7000\t7.41\t\t9.79\t\t0.892\t\t0.892\t\t5.49m - 25.5m / 137.8m\n",
      "5\t7105\t8.90\t\t9.02\t\t0.922\t\t0.922\t\t5.64m - 28.0m / 137.8m\n",
      "6\t7500\t6.56\t\t9.50\t\t0.918\t\t0.918\t\t5.64m - 28.8m / 140.8m\n",
      "6\t8000\t6.15\t\t9.74\t\t0.937\t\t0.937\t\t5.64m - 30.2m / 140.8m\n",
      "6\t8500\t5.94\t\t10.54\t\t0.917\t\t0.917\t\t5.64m - 31.6m / 140.8m\n",
      "6\t8526\t6.11\t\t8.70\t\t0.933\t\t0.933\t\t6.47m - 34.5m / 140.8m\n",
      "7\t9000\t5.06\t\t10.07\t\t0.950\t\t0.950\t\t6.47m - 35.6m / 157.5m\n",
      "7\t9500\t4.80\t\t10.71\t\t0.946\t\t0.946\t\t6.47m - 37.0m / 157.5m\n",
      "7\t9947\t5.13\t\t8.27\t\t0.941\t\t0.941\t\t6.23m - 40.7m / 157.5m\n",
      "8\t10000\t5.41\t\t11.20\t\t0.926\t\t0.926\t\t6.23m - 40.8m / 152.9m\n",
      "8\t10500\t4.52\t\t10.68\t\t0.948\t\t0.948\t\t6.23m - 42.0m / 152.9m\n",
      "8\t11000\t4.16\t\t12.70\t\t0.948\t\t0.948\t\t6.23m - 43.2m / 152.9m\n",
      "8\t11368\t4.40\t\t7.10\t\t0.942\t\t0.942\t\t5.47m - 46.2m / 152.9m\n",
      "9\t11500\t4.32\t\t10.98\t\t0.950\t\t0.950\t\t5.47m - 46.5m / 139.1m\n",
      "9\t12000\t4.01\t\t11.99\t\t0.918\t\t0.918\t\t5.47m - 47.7m / 139.1m\n",
      "9\t12500\t3.82\t\t11.92\t\t0.941\t\t0.941\t\t5.47m - 48.9m / 139.1m\n",
      "9\t12789\t3.93\t\t7.24\t\t0.944\t\t0.944\t\t5.52m - 51.7m / 139.1m\n",
      "10\t13000\t3.69\t\t13.37\t\t0.942\t\t0.942\t\t5.52m - 52.1m / 140.1m\n",
      "10\t13500\t3.30\t\t13.32\t\t0.902\t\t0.902\t\t5.52m - 53.3m / 140.1m\n",
      "10\t14000\t3.89\t\t11.96\t\t0.925\t\t0.925\t\t5.52m - 54.5m / 140.1m\n",
      "10\t14210\t3.51\t\t8.12\t\t0.922\t\t0.922\t\t5.40m - 57.1m / 140.1m\n",
      "11\t14500\t3.13\t\t14.08\t\t0.940\t\t0.940\t\t5.40m - 57.7m / 138.1m\n",
      "11\t15000\t3.05\t\t12.74\t\t0.938\t\t0.938\t\t5.40m - 58.9m / 138.1m\n",
      "11\t15500\t3.32\t\t13.84\t\t0.917\t\t0.917\t\t5.40m - 60.0m / 138.1m\n",
      "11\t15631\t3.13\t\t8.00\t\t0.926\t\t0.926\t\t5.44m - 62.6m / 138.1m\n",
      "\n"
     ]
    }
   ],
   "source": [
    "#trainer.load_model()\n",
    "result = trainer.train(use_cuda=hyperparameters.use_cuda, perform_evaluation=False)"
   ]
  },
  {
   "cell_type": "code",
   "execution_count": 9,
   "metadata": {
    "collapsed": true
   },
   "outputs": [],
   "source": [
    "plt.rcParams['figure.figsize'] = [15, 15]"
   ]
  },
  {
   "cell_type": "code",
   "execution_count": null,
   "metadata": {},
   "outputs": [],
   "source": [
    "model = result['model']"
   ]
  },
  {
   "cell_type": "code",
   "execution_count": null,
   "metadata": {
    "collapsed": true
   },
   "outputs": [],
   "source": [
    "result_labels = trainer.classify_sentence('I was born in 1993 in Stuttgart')\n",
    "\n",
    "\n",
    "\n",
    "print(result_labels)"
   ]
  },
  {
   "cell_type": "code",
   "execution_count": null,
   "metadata": {
    "collapsed": true
   },
   "outputs": [],
   "source": [
    "tr = trainer.text_reverser[1]\n",
    "lr = trainer.label_reverser\n",
    "\n",
    "test_sentence = ['china', 'controlled', 'most', 'of', 'the', 'match']\n",
    "test_sentence"
   ]
  },
  {
   "cell_type": "code",
   "execution_count": null,
   "metadata": {
    "collapsed": true
   },
   "outputs": [],
   "source": [
    "test_sentence = tr.preprocess('Die Bahn ist nicht gut')\n",
    "\n",
    "#test_sentence = tr.preprocess('china controlled most of the match on 1993')\n",
    "test_sentence = [x.strip(' ') for x in test_sentence]\n",
    "test_sentence = [test_sentence]\n",
    "test_sentence"
   ]
  },
  {
   "cell_type": "code",
   "execution_count": null,
   "metadata": {
    "collapsed": true
   },
   "outputs": [],
   "source": [
    "\n",
    "#test = tr.preprocess('china controlled most of the match')\n",
    "#print(test)\n",
    "\n",
    "#test_sentence = [['china', 'controlled', 'most', 'of', 'the', 'match']]\n",
    "x = tr.process(test_sentence)\n",
    "\n",
    "print(\"X TENSOR \",x)\n",
    "print('X Size', x.size())\n",
    "print(\"Reversed X\", tr.reverse(x))\n",
    "x = x.cuda()\n",
    "y_hat = model.predict(x)\n",
    "y_hat_label = lr.reverse(y_hat)\n",
    "print(y_hat_label)\n",
    "\n"
   ]
  },
  {
   "cell_type": "code",
   "execution_count": 11,
   "metadata": {},
   "outputs": [
    {
     "name": "stdout",
     "output_type": "stream",
     "text": [
      "pre_training - INFO - Perform final model evaluation\n",
      "pre_training - DEBUG - --- Train Scores ---\n"
     ]
    },
    {
     "data": {
      "application/vnd.jupyter.widget-view+json": {
       "model_id": "7189908ebfa84e999ad4abcf4670550b",
       "version_major": 2,
       "version_minor": 0
      },
      "text/plain": [
       "A Jupyter Widget"
      ]
     },
     "metadata": {},
     "output_type": "display_data"
    },
    {
     "name": "stdout",
     "output_type": "stream",
     "text": [
      "pre_training - INFO - TRAIN loss:\t2.6783498203811837\n",
      "pre_training - INFO - TRAIN f1-s:\t0.9771753799213754\n",
      "pre_training - INFO - TRAIN accuracy:\t0.9771753799213754\n",
      "pre_training - DEBUG - --- Valid Scores ---\n"
     ]
    },
    {
     "data": {
      "application/vnd.jupyter.widget-view+json": {
       "model_id": "d1d8f799fc8548b5bfca825402e09d57",
       "version_major": 2,
       "version_minor": 0
      },
      "text/plain": [
       "A Jupyter Widget"
      ]
     },
     "metadata": {},
     "output_type": "display_data"
    },
    {
     "name": "stdout",
     "output_type": "stream",
     "text": [
      "pre_training - INFO - VALID loss:\t8.001406143626225\n",
      "pre_training - INFO - VALID f1-s:\t0.9250122010736945\n",
      "pre_training - INFO - VALID accuracy:\t0.9250122010736945\n"
     ]
    },
    {
     "data": {
      "text/plain": [
       "<matplotlib.figure.Figure at 0x26e312582e8>"
      ]
     },
     "metadata": {},
     "output_type": "display_data"
    },
    {
     "data": {
      "image/png": "[encoded data removed]",
      "text/plain": [
       "<matplotlib.figure.Figure at 0x26edeb2b9b0>"
      ]
     },
     "metadata": {},
     "output_type": "display_data"
    },
    {
     "data": {
      "application/vnd.jupyter.widget-view+json": {
       "model_id": "99b422c9c3a7404ba708e96729856d1f",
       "version_major": 2,
       "version_minor": 0
      },
      "text/plain": [
       "A Jupyter Widget"
      ]
     },
     "metadata": {},
     "output_type": "display_data"
    },
    {
     "name": "stdout",
     "output_type": "stream",
     "text": [
      "pre_training - INFO - TEST loss:\t8.16391949563919\n",
      "pre_training - INFO - TEST f1-s:\t0.9210262529832935\n",
      "pre_training - INFO - TEST accuracy:\t0.9210262529832935\n"
     ]
    },
    {
     "data": {
      "text/plain": [
       "<matplotlib.figure.Figure at 0x26edfdcacc0>"
      ]
     },
     "metadata": {},
     "output_type": "display_data"
    },
    {
     "data": {
      "image/png": "[encoded data removed]",
      "text/plain": [
       "<matplotlib.figure.Figure at 0x26ee02fa8d0>"
      ]
     },
     "metadata": {},
     "output_type": "display_data"
    }
   ],
   "source": [
    "trainer.tb_writer = None\n",
    "trainer.enable_tensorboard = False\n",
    "evaluation_results = trainer.perform_final_evaluation()"
   ]
  },
  {
   "cell_type": "code",
   "execution_count": null,
   "metadata": {
    "collapsed": true
   },
   "outputs": [],
   "source": [
    "c_matrix = evaluation_results[1][2]\n",
    "c_matrix"
   ]
  },
  {
   "cell_type": "code",
   "execution_count": null,
   "metadata": {
    "collapsed": true
   },
   "outputs": [],
   "source": [
    "fig = plot_confusion_matrix(c_matrix, class_labels)\n",
    "plt.show()"
   ]
  },
  {
   "cell_type": "code",
   "execution_count": null,
   "metadata": {
    "collapsed": true
   },
   "outputs": [],
   "source": [
    "fig = plot_confusion_matrix(c_matrix, dataset.class_labels, normalize=True)\n",
    "plt.show()"
   ]
  },
  {
   "cell_type": "code",
   "execution_count": null,
   "metadata": {
    "collapsed": true
   },
   "outputs": [],
   "source": [
    "# predict now to see model in final state\n",
    "from IPython.display import display, HTML\n",
    "\n",
    "df = predict_some_examples_to_df(model, conll2003['iters'][2], num_samples=800)\n",
    "display(HTML(df.to_html()))"
   ]
  },
  {
   "cell_type": "code",
   "execution_count": null,
   "metadata": {
    "collapsed": true
   },
   "outputs": [],
   "source": [
    "df = predict_some_examples_to_df(model, conll2003['iters'][1], num_samples=800)\n",
    "display(HTML(df.to_html()))"
   ]
  },
  {
   "cell_type": "code",
   "execution_count": null,
   "metadata": {
    "collapsed": true,
    "scrolled": false
   },
   "outputs": [],
   "source": [
    "df = predict_some_examples_to_df(model, conll2003['iters'][0], num_samples=800)\n",
    "display(HTML(df.to_html()))"
   ]
  },
  {
   "cell_type": "code",
   "execution_count": null,
   "metadata": {
    "collapsed": true
   },
   "outputs": [],
   "source": [
    "import numpy as np\n",
    "a = np.array([\n",
    "    np.array([[1, 1], [1, 1]]),\n",
    "    np.array([[2, 2], [-2, -3]])\n",
    "])\n",
    "print(a)"
   ]
  },
  {
   "cell_type": "code",
   "execution_count": null,
   "metadata": {
    "collapsed": true
   },
   "outputs": [],
   "source": [
    "a.sum(axis=0)"
   ]
  },
  {
   "cell_type": "code",
   "execution_count": null,
   "metadata": {
    "collapsed": true
   },
   "outputs": [],
   "source": []
  },
  {
   "cell_type": "code",
   "execution_count": null,
   "metadata": {
    "collapsed": true
   },
   "outputs": [],
   "source": [
    "#df = predict_some_examples_to_df(model, test_sample_iter)\n",
    "#print(df)"
   ]
  },
  {
   "cell_type": "code",
   "execution_count": null,
   "metadata": {
    "collapsed": true
   },
   "outputs": [],
   "source": [
    "#print(result)"
   ]
  },
  {
   "cell_type": "code",
   "execution_count": null,
   "metadata": {
    "collapsed": true
   },
   "outputs": [],
   "source": [
    "(tr_loss, tr_f1) = result['result_train']\n"
   ]
  }
 ],
 "metadata": {
  "kernelspec": {
   "display_name": "Python 3",
   "language": "python",
   "name": "python3"
  },
  "language_info": {
   "codemirror_mode": {
    "name": "ipython",
    "version": 3
   },
   "file_extension": ".py",
   "mimetype": "text/x-python",
   "name": "python",
   "nbconvert_exporter": "python",
   "pygments_lexer": "ipython3",
   "version": "3.6.1"
  },
  "widgets": {
   "application/vnd.jupyter.widget-state+json": {
    "state": {
     "0114ef24a1354aff835d935c39084552": {
      "model_module": "@jupyter-widgets/base",
      "model_module_version": "1.0.0",
      "model_name": "LayoutModel",
      "state": {}
     },
     "018a13be78114ba982700d962d0b654b": {
      "model_module": "@jupyter-widgets/base",
      "model_module_version": "1.0.0",
      "model_name": "LayoutModel",
      "state": {}
     },
     "02242737502f42f3b4d196bf0a47168b": {
      "model_module": "@jupyter-widgets/base",
      "model_module_version": "1.0.0",
      "model_name": "LayoutModel",
      "state": {}
     },
     "02fcd09589084c0bb78331fc3171abd9": {
      "model_module": "@jupyter-widgets/controls",
      "model_module_version": "1.0.0",
      "model_name": "HTMLModel",
      "state": {
       "layout": "IPY_MODEL_4c34232766c6439f87273544af1f3f76",
       "style": "IPY_MODEL_ea44fa8b1fa54fda96a55a9af21ad428",
       "value": "100% 2046/2049 [00:56&lt;00:00, 33.91it/s]"
      }
     },
     "038dd05c43e14daaadb04ef39b548cbe": {
      "model_module": "@jupyter-widgets/base",
      "model_module_version": "1.0.0",
      "model_name": "LayoutModel",
      "state": {}
     },
     "047a5c4b2c78478fa341b882880e5161": {
      "model_module": "@jupyter-widgets/base",
      "model_module_version": "1.0.0",
      "model_name": "LayoutModel",
      "state": {}
     },
     "05872e082ffe4e278a6d26435eed56e1": {
      "model_module": "@jupyter-widgets/base",
      "model_module_version": "1.0.0",
      "model_name": "LayoutModel",
      "state": {}
     },
     "0672c9fcd4a04e2f842d26fe777947a2": {
      "model_module": "@jupyter-widgets/base",
      "model_module_version": "1.0.0",
      "model_name": "LayoutModel",
      "state": {}
     },
     "07c088ab945c4d53b27ce11bc6c05796": {
      "model_module": "@jupyter-widgets/controls",
      "model_module_version": "1.0.0",
      "model_name": "ProgressStyleModel",
      "state": {
       "description_width": "initial"
      }
     },
     "087103b218f549d79f7a2bdbfbca2588": {
      "model_module": "@jupyter-widgets/controls",
      "model_module_version": "1.0.0",
      "model_name": "HBoxModel",
      "state": {
       "children": [
        "IPY_MODEL_fc35f2c1adbf4899a6a64c43a9acc058",
        "IPY_MODEL_4e6cfa2d6ffd427b82483476d86cf577"
       ],
       "layout": "IPY_MODEL_ec6117f3898843de8e631cab8a0e1ec6"
      }
     },
     "08eef908165148a6ab89e57d328cafa5": {
      "model_module": "@jupyter-widgets/base",
      "model_module_version": "1.0.0",
      "model_name": "LayoutModel",
      "state": {}
     },
     "0ca64a1b2edc4b86a834473661c5a1f4": {
      "model_module": "@jupyter-widgets/base",
      "model_module_version": "1.0.0",
      "model_name": "LayoutModel",
      "state": {}
     },
     "0d19726221e5488caf4f6a4623cb0e64": {
      "model_module": "@jupyter-widgets/base",
      "model_module_version": "1.0.0",
      "model_name": "LayoutModel",
      "state": {}
     },
     "0f58dc6473424071acbe87d8c63c0694": {
      "model_module": "@jupyter-widgets/base",
      "model_module_version": "1.0.0",
      "model_name": "LayoutModel",
      "state": {}
     },
     "0fa82897fd9b44c3ac09e3097558342d": {
      "model_module": "@jupyter-widgets/controls",
      "model_module_version": "1.0.0",
      "model_name": "DescriptionStyleModel",
      "state": {
       "description_width": ""
      }
     },
     "10352eb1f6a1492bad9fefa0c4b4a1a0": {
      "model_module": "@jupyter-widgets/controls",
      "model_module_version": "1.0.0",
      "model_name": "HTMLModel",
      "state": {
       "layout": "IPY_MODEL_b608d0811073419d9987ee5dce33067e",
       "style": "IPY_MODEL_dadc908732094dba89eaa5482e3117b5",
       "value": "100% 2047/2049 [00:57&lt;00:00, 36.38it/s]"
      }
     },
     "103585552e21456187d1c2e2457357ae": {
      "model_module": "@jupyter-widgets/controls",
      "model_module_version": "1.0.0",
      "model_name": "IntProgressModel",
      "state": {
       "description": "EP 1",
       "layout": "IPY_MODEL_63108e7f82a7426fa917fb163a5488ca",
       "max": 1421,
       "style": "IPY_MODEL_76edd2f6b17c491baa3998e22bd0808f",
       "value": 1420
      }
     },
     "10e2dc431efe4080b611bb9cc0d03e80": {
      "model_module": "@jupyter-widgets/controls",
      "model_module_version": "1.0.0",
      "model_name": "DescriptionStyleModel",
      "state": {
       "description_width": ""
      }
     },
     "10ec505232ca48f6bf166e28521c42bd": {
      "model_module": "@jupyter-widgets/controls",
      "model_module_version": "1.0.0",
      "model_name": "DescriptionStyleModel",
      "state": {
       "description_width": ""
      }
     },
     "10fcea5ecad2496788876feb6ec02aa1": {
      "model_module": "@jupyter-widgets/controls",
      "model_module_version": "1.0.0",
      "model_name": "HTMLModel",
      "state": {
       "layout": "IPY_MODEL_3b65af4aa95645dabfe66d7663bd6bde",
       "style": "IPY_MODEL_cc93f6675c6e4d3c8dd2f5d477da7e6b",
       "value": "100% 1420/1421 [03:07&lt;00:00, 10.70it/s]"
      }
     },
     "129294a8081b40b0a67184d21253db30": {
      "model_module": "@jupyter-widgets/controls",
      "model_module_version": "1.0.0",
      "model_name": "DescriptionStyleModel",
      "state": {
       "description_width": ""
      }
     },
     "13171b2b1b3344ca8be40448e7b820f9": {
      "model_module": "@jupyter-widgets/controls",
      "model_module_version": "1.0.0",
      "model_name": "ProgressStyleModel",
      "state": {
       "description_width": "initial"
      }
     },
     "132bdebc03e14c06aa9b635a3232c1fa": {
      "model_module": "@jupyter-widgets/controls",
      "model_module_version": "1.0.0",
      "model_name": "DescriptionStyleModel",
      "state": {
       "description_width": ""
      }
     },
     "1652950bf20a4fd0a30a0c0e246df3d5": {
      "model_module": "@jupyter-widgets/controls",
      "model_module_version": "1.0.0",
      "model_name": "ProgressStyleModel",
      "state": {
       "description_width": "initial"
      }
     },
     "17a379e0c0274bf4b8aacf4265e72c62": {
      "model_module": "@jupyter-widgets/controls",
      "model_module_version": "1.0.0",
      "model_name": "HTMLModel",
      "state": {
       "layout": "IPY_MODEL_5fc3fc4d2c8d48c5bdaa37d4d14b01d8",
       "style": "IPY_MODEL_f73ca9d78a724e398d3797aef066ae1d",
       "value": "100% 1420/1421 [03:11&lt;00:00,  7.81it/s]"
      }
     },
     "19735499fcb74363a7d0f9e5f901ad0a": {
      "model_module": "@jupyter-widgets/base",
      "model_module_version": "1.0.0",
      "model_name": "LayoutModel",
      "state": {}
     },
     "19bf090c91924731878567c4f16d17d2": {
      "model_module": "@jupyter-widgets/base",
      "model_module_version": "1.0.0",
      "model_name": "LayoutModel",
      "state": {}
     },
     "1b6f03d69872402ca74dd881aec41dd9": {
      "model_module": "@jupyter-widgets/base",
      "model_module_version": "1.0.0",
      "model_name": "LayoutModel",
      "state": {}
     },
     "1b71c80a44da4a188071bbd5af334c5d": {
      "model_module": "@jupyter-widgets/controls",
      "model_module_version": "1.0.0",
      "model_name": "HTMLModel",
      "state": {
       "layout": "IPY_MODEL_534dbabf3ab846759ecaf01d3a93e2a7",
       "style": "IPY_MODEL_6d3c41c1b9374930965e404d1c7bd7ca",
       "value": "100% 1421/1421 [03:17&lt;00:00,  5.71it/s]"
      }
     },
     "1c551f2a918a4064830193c09af53d6c": {
      "model_module": "@jupyter-widgets/base",
      "model_module_version": "1.0.0",
      "model_name": "LayoutModel",
      "state": {}
     },
     "1dc63ac0885548edaa14bb967dfd351b": {
      "model_module": "@jupyter-widgets/controls",
      "model_module_version": "1.0.0",
      "model_name": "HTMLModel",
      "state": {
       "layout": "IPY_MODEL_ba4cb516332549e9b5493dd4bd11e0d4",
       "style": "IPY_MODEL_c1bc12c9e7cd486486feb5bce975e42d",
       "value": "100% 2046/2049 [01:01&lt;00:00, 32.55it/s]"
      }
     },
     "1df5627180f943e5bf085637bee4e9cb": {
      "model_module": "@jupyter-widgets/base",
      "model_module_version": "1.0.0",
      "model_name": "LayoutModel",
      "state": {}
     },
     "1e6b95f7d7c0445a8c151f0f897bd881": {
      "model_module": "@jupyter-widgets/controls",
      "model_module_version": "1.0.0",
      "model_name": "ProgressStyleModel",
      "state": {
       "description_width": "initial"
      }
     },
     "1fe01d2a7a794fee955ebf04947a5a8e": {
      "model_module": "@jupyter-widgets/controls",
      "model_module_version": "1.0.0",
      "model_name": "ProgressStyleModel",
      "state": {
       "description_width": "initial"
      }
     },
     "20e9a459bf41410b9e0a8fbe16471ee1": {
      "model_module": "@jupyter-widgets/base",
      "model_module_version": "1.0.0",
      "model_name": "LayoutModel",
      "state": {}
     },
     "214dd1f1a03e47f3b40853746437a316": {
      "model_module": "@jupyter-widgets/controls",
      "model_module_version": "1.0.0",
      "model_name": "IntProgressModel",
      "state": {
       "description": "EP 3",
       "layout": "IPY_MODEL_25029e60487043439dba6def699df97a",
       "max": 1421,
       "style": "IPY_MODEL_a51e247908444b528b49b580772d49ac",
       "value": 1420
      }
     },
     "2275303000a34e2cb4cd8318d91addeb": {
      "model_module": "@jupyter-widgets/controls",
      "model_module_version": "1.0.0",
      "model_name": "ProgressStyleModel",
      "state": {
       "description_width": "initial"
      }
     },
     "2334ddd9ec5a446391316ee17797ab42": {
      "model_module": "@jupyter-widgets/base",
      "model_module_version": "1.0.0",
      "model_name": "LayoutModel",
      "state": {}
     },
     "2414f773918e4f27b3cfd1af3b18f228": {
      "model_module": "@jupyter-widgets/controls",
      "model_module_version": "1.0.0",
      "model_name": "IntProgressModel",
      "state": {
       "description": "Evaluation",
       "layout": "IPY_MODEL_e707fa04cc6944dfa82269194c4ed27a",
       "max": 2049,
       "style": "IPY_MODEL_7cba489e218a4477ad600ec83c63a567",
       "value": 2047
      }
     },
     "24910be53da1437aa72400d08ce1906b": {
      "model_module": "@jupyter-widgets/base",
      "model_module_version": "1.0.0",
      "model_name": "LayoutModel",
      "state": {}
     },
     "25029e60487043439dba6def699df97a": {
      "model_module": "@jupyter-widgets/base",
      "model_module_version": "1.0.0",
      "model_name": "LayoutModel",
      "state": {}
     },
     "257452e642fa4ac4b4218b1abf60ed76": {
      "model_module": "@jupyter-widgets/controls",
      "model_module_version": "1.0.0",
      "model_name": "HTMLModel",
      "state": {
       "layout": "IPY_MODEL_ed62afd139b849a9ab570fde3842c75a",
       "style": "IPY_MODEL_7de09be152c84c2899f50ff2604e59b0",
       "value": "2566it [00:00, 9792.57it/s]"
      }
     },
     "25e0e4f4bef34e27a3db15c0efeb8cd4": {
      "model_module": "@jupyter-widgets/controls",
      "model_module_version": "1.0.0",
      "model_name": "ProgressStyleModel",
      "state": {
       "description_width": "initial"
      }
     },
     "265a51434fa542fea3d6151ea1dca9b5": {
      "model_module": "@jupyter-widgets/controls",
      "model_module_version": "1.0.0",
      "model_name": "IntProgressModel",
      "state": {
       "description": "Evaluation",
       "layout": "IPY_MODEL_34b5a566909d4319acd95ddf38f2d4f6",
       "max": 2049,
       "style": "IPY_MODEL_4d8c4b9ba0c24f66b90819b444d369f1",
       "value": 2046
      }
     },
     "26daa3a346e0490dae2c559ac0711f28": {
      "model_module": "@jupyter-widgets/base",
      "model_module_version": "1.0.0",
      "model_name": "LayoutModel",
      "state": {}
     },
     "275a9fecdf0b46fca7b6787e033f544d": {
      "model_module": "@jupyter-widgets/base",
      "model_module_version": "1.0.0",
      "model_name": "LayoutModel",
      "state": {}
     },
     "27ce962cd0c74603914a1680d7b59b2f": {
      "model_module": "@jupyter-widgets/base",
      "model_module_version": "1.0.0",
      "model_name": "LayoutModel",
      "state": {}
     },
     "30452d2f4dd84d54a6bc4484af9bcc92": {
      "model_module": "@jupyter-widgets/base",
      "model_module_version": "1.0.0",
      "model_name": "LayoutModel",
      "state": {}
     },
     "307ced9853dd41a59f55a04185bd624e": {
      "model_module": "@jupyter-widgets/base",
      "model_module_version": "1.0.0",
      "model_name": "LayoutModel",
      "state": {}
     },
     "309c605fc6244e5ca4ec374472ac3185": {
      "model_module": "@jupyter-widgets/controls",
      "model_module_version": "1.0.0",
      "model_name": "HTMLModel",
      "state": {
       "layout": "IPY_MODEL_841b48c682e14d779dfadeaf763c88fa",
       "style": "IPY_MODEL_eb81c5fac35843ecb5146f6755a5971f",
       "value": "100% 2048/2049 [00:56&lt;00:00, 35.50it/s]"
      }
     },
     "31f00a5f29c243e39a92443484ae9537": {
      "model_module": "@jupyter-widgets/base",
      "model_module_version": "1.0.0",
      "model_name": "LayoutModel",
      "state": {}
     },
     "32fbdd4d8af84154bb5ac55e5f1213e2": {
      "model_module": "@jupyter-widgets/base",
      "model_module_version": "1.0.0",
      "model_name": "LayoutModel",
      "state": {}
     },
     "33b937c5340e4e669c913a9d36d49105": {
      "model_module": "@jupyter-widgets/controls",
      "model_module_version": "1.0.0",
      "model_name": "DescriptionStyleModel",
      "state": {
       "description_width": ""
      }
     },
     "34b5a566909d4319acd95ddf38f2d4f6": {
      "model_module": "@jupyter-widgets/base",
      "model_module_version": "1.0.0",
      "model_name": "LayoutModel",
      "state": {}
     },
     "35ae7889f5cc493c8af57f33ac39f158": {
      "model_module": "@jupyter-widgets/base",
      "model_module_version": "1.0.0",
      "model_name": "LayoutModel",
      "state": {}
     },
     "35ebb5ac3c0c4408bae06bdcff2942c4": {
      "model_module": "@jupyter-widgets/controls",
      "model_module_version": "1.0.0",
      "model_name": "ProgressStyleModel",
      "state": {
       "description_width": "initial"
      }
     },
     "3665031eb9bb484b9c40e6698e9cf11c": {
      "model_module": "@jupyter-widgets/controls",
      "model_module_version": "1.0.0",
      "model_name": "IntProgressModel",
      "state": {
       "description": "EP 15",
       "layout": "IPY_MODEL_0d19726221e5488caf4f6a4623cb0e64",
       "max": 1421,
       "style": "IPY_MODEL_07c088ab945c4d53b27ce11bc6c05796",
       "value": 1420
      }
     },
     "36e5f7a80e3545ea8f295911dd324e0d": {
      "model_module": "@jupyter-widgets/controls",
      "model_module_version": "1.0.0",
      "model_name": "ProgressStyleModel",
      "state": {
       "description_width": "initial"
      }
     },
     "3a302c1b60ed4f7d8990c454602956c8": {
      "model_module": "@jupyter-widgets/controls",
      "model_module_version": "1.0.0",
      "model_name": "IntProgressModel",
      "state": {
       "description": "Evaluation",
       "layout": "IPY_MODEL_62441cca80c0477ba7a41414c9e56680",
       "max": 2049,
       "style": "IPY_MODEL_13171b2b1b3344ca8be40448e7b820f9",
       "value": 2048
      }
     },
     "3b538cfa24f448cfb3e0b3dec6e82e32": {
      "model_module": "@jupyter-widgets/controls",
      "model_module_version": "1.0.0",
      "model_name": "HTMLModel",
      "state": {
       "layout": "IPY_MODEL_7b7fecc8eda3490b9830ba5cfb125e4e",
       "style": "IPY_MODEL_0fa82897fd9b44c3ac09e3097558342d",
       "value": "100% 2048/2049 [01:01&lt;00:00, 25.70it/s]"
      }
     },
     "3b65af4aa95645dabfe66d7663bd6bde": {
      "model_module": "@jupyter-widgets/base",
      "model_module_version": "1.0.0",
      "model_name": "LayoutModel",
      "state": {}
     },
     "3b9162b412bc493bb1f3949ecc17ba8b": {
      "model_module": "@jupyter-widgets/controls",
      "model_module_version": "1.0.0",
      "model_name": "ProgressStyleModel",
      "state": {
       "description_width": "initial"
      }
     },
     "3e1056ad1b834ee0aaffae7b50ac28e7": {
      "model_module": "@jupyter-widgets/base",
      "model_module_version": "1.0.0",
      "model_name": "LayoutModel",
      "state": {}
     },
     "4006520cbad949e8ad9e01f902c06571": {
      "model_module": "@jupyter-widgets/controls",
      "model_module_version": "1.0.0",
      "model_name": "IntProgressModel",
      "state": {
       "description": "Evaluating TRAIN",
       "layout": "IPY_MODEL_80f7b75312fe4d04b1f4ee3da4fb7510",
       "max": 1421,
       "style": "IPY_MODEL_c8f388c88e6f48a1a31427211fd78b3b",
       "value": 1420
      }
     },
     "40e1478134bf47549c6629968a5afd5d": {
      "model_module": "@jupyter-widgets/base",
      "model_module_version": "1.0.0",
      "model_name": "LayoutModel",
      "state": {}
     },
     "412854d53c874af0b77a1acb467cd51d": {
      "model_module": "@jupyter-widgets/controls",
      "model_module_version": "1.0.0",
      "model_name": "DescriptionStyleModel",
      "state": {
       "description_width": ""
      }
     },
     "41aee163030e46d8b95d628a6dcc4a4e": {
      "model_module": "@jupyter-widgets/controls",
      "model_module_version": "1.0.0",
      "model_name": "IntProgressModel",
      "state": {
       "description": "Evaluation",
       "layout": "IPY_MODEL_7588eb6924b24323b53d431949091f2b",
       "max": 2049,
       "style": "IPY_MODEL_7a546bc1fcd34dab98eff17946237cdf",
       "value": 2046
      }
     },
     "41ba5d8d27ca43a4a114fc48ecaafdbe": {
      "model_module": "@jupyter-widgets/controls",
      "model_module_version": "1.0.0",
      "model_name": "ProgressStyleModel",
      "state": {
       "description_width": "initial"
      }
     },
     "43f6b6840e324f81ab5162c93c287fe4": {
      "model_module": "@jupyter-widgets/controls",
      "model_module_version": "1.0.0",
      "model_name": "ProgressStyleModel",
      "state": {
       "description_width": "initial"
      }
     },
     "44319b24e38647c297dd8aeb1b119ffb": {
      "model_module": "@jupyter-widgets/base",
      "model_module_version": "1.0.0",
      "model_name": "LayoutModel",
      "state": {}
     },
     "44ee98b5b6664dae90807168fd3df1a5": {
      "model_module": "@jupyter-widgets/base",
      "model_module_version": "1.0.0",
      "model_name": "LayoutModel",
      "state": {}
     },
     "46df88c2cfc943ea8a63a2f4ea43df4e": {
      "model_module": "@jupyter-widgets/controls",
      "model_module_version": "1.0.0",
      "model_name": "HTMLModel",
      "state": {
       "layout": "IPY_MODEL_b5895418c5f4418599d8338a9ba1267f",
       "style": "IPY_MODEL_9ba1a971e35545938dbdb9fdb7c22f69",
       "value": "100% 1421/1421 [03:19&lt;00:00,  8.66it/s]"
      }
     },
     "46fbae4b3de74a7e8d993f24f65e9f47": {
      "model_module": "@jupyter-widgets/base",
      "model_module_version": "1.0.0",
      "model_name": "LayoutModel",
      "state": {}
     },
     "49344bfbb334453689b8fb6e54e954ba": {
      "model_module": "@jupyter-widgets/controls",
      "model_module_version": "1.0.0",
      "model_name": "HTMLModel",
      "state": {
       "layout": "IPY_MODEL_99f7c9b6d7884cd2992a4b44a8d2a008",
       "style": "IPY_MODEL_10ec505232ca48f6bf166e28521c42bd",
       "value": "100% 2049/2049 [01:03&lt;00:00, 31.19it/s]"
      }
     },
     "4a5ffd6918f84e1996fa88d4f073fda2": {
      "model_module": "@jupyter-widgets/base",
      "model_module_version": "1.0.0",
      "model_name": "LayoutModel",
      "state": {}
     },
     "4b3ea4e37c6545b5bf4ad22f8dbc8add": {
      "model_module": "@jupyter-widgets/base",
      "model_module_version": "1.0.0",
      "model_name": "LayoutModel",
      "state": {}
     },
     "4b73095ca72148548cb5b453d33348b4": {
      "model_module": "@jupyter-widgets/base",
      "model_module_version": "1.0.0",
      "model_name": "LayoutModel",
      "state": {}
     },
     "4c0b5becabc846379320e4e33de0fa65": {
      "model_module": "@jupyter-widgets/base",
      "model_module_version": "1.0.0",
      "model_name": "LayoutModel",
      "state": {}
     },
     "4c34232766c6439f87273544af1f3f76": {
      "model_module": "@jupyter-widgets/base",
      "model_module_version": "1.0.0",
      "model_name": "LayoutModel",
      "state": {}
     },
     "4d8c4b9ba0c24f66b90819b444d369f1": {
      "model_module": "@jupyter-widgets/controls",
      "model_module_version": "1.0.0",
      "model_name": "ProgressStyleModel",
      "state": {
       "description_width": "initial"
      }
     },
     "4d9a4c627083432aa621a083d443aa02": {
      "model_module": "@jupyter-widgets/controls",
      "model_module_version": "1.0.0",
      "model_name": "ProgressStyleModel",
      "state": {
       "description_width": "initial"
      }
     },
     "4e6cfa2d6ffd427b82483476d86cf577": {
      "model_module": "@jupyter-widgets/controls",
      "model_module_version": "1.0.0",
      "model_name": "HTMLModel",
      "state": {
       "layout": "IPY_MODEL_c738b25653814e39a2511d9daa7c6cc6",
       "style": "IPY_MODEL_f25960612f0443f79456158d494bd22b",
       "value": "2585it [00:00, 9134.31it/s]"
      }
     },
     "4ee64b8a76bb4b7bb8f629f310131b00": {
      "model_module": "@jupyter-widgets/controls",
      "model_module_version": "1.0.0",
      "model_name": "IntProgressModel",
      "state": {
       "description": "EP 10",
       "layout": "IPY_MODEL_1b6f03d69872402ca74dd881aec41dd9",
       "max": 1421,
       "style": "IPY_MODEL_25e0e4f4bef34e27a3db15c0efeb8cd4",
       "value": 1420
      }
     },
     "4f1077908a124252bab6073ba7a00f36": {
      "model_module": "@jupyter-widgets/controls",
      "model_module_version": "1.0.0",
      "model_name": "IntProgressModel",
      "state": {
       "description": "Evaluation",
       "layout": "IPY_MODEL_19bf090c91924731878567c4f16d17d2",
       "max": 2049,
       "style": "IPY_MODEL_1652950bf20a4fd0a30a0c0e246df3d5",
       "value": 2048
      }
     },
     "4f36347007aa4a04bfa0b34460bb4581": {
      "model_module": "@jupyter-widgets/base",
      "model_module_version": "1.0.0",
      "model_name": "LayoutModel",
      "state": {}
     },
     "4ff3df931a25463a9cbcf6a63d34537a": {
      "model_module": "@jupyter-widgets/controls",
      "model_module_version": "1.0.0",
      "model_name": "IntProgressModel",
      "state": {
       "description": "EP 8",
       "layout": "IPY_MODEL_de15d5d58a764ee9b52cf31e01ae6226",
       "max": 1421,
       "style": "IPY_MODEL_f022e96fdc554423944a2f01dee232dd",
       "value": 1420
      }
     },
     "524158ae3d97450b99db73b8c846aae7": {
      "model_module": "@jupyter-widgets/controls",
      "model_module_version": "1.0.0",
      "model_name": "IntProgressModel",
      "state": {
       "description": "EP 9",
       "layout": "IPY_MODEL_307ced9853dd41a59f55a04185bd624e",
       "max": 1421,
       "style": "IPY_MODEL_41ba5d8d27ca43a4a114fc48ecaafdbe",
       "value": 1421
      }
     },
     "52d93fabe845415bbcbcc26c703c1e92": {
      "model_module": "@jupyter-widgets/controls",
      "model_module_version": "1.0.0",
      "model_name": "IntProgressModel",
      "state": {
       "description": "Evaluation",
       "layout": "IPY_MODEL_05872e082ffe4e278a6d26435eed56e1",
       "max": 2049,
       "style": "IPY_MODEL_35ebb5ac3c0c4408bae06bdcff2942c4",
       "value": 2048
      }
     },
     "534dbabf3ab846759ecaf01d3a93e2a7": {
      "model_module": "@jupyter-widgets/base",
      "model_module_version": "1.0.0",
      "model_name": "LayoutModel",
      "state": {}
     },
     "5388767562684637bf175a28c9dd9d81": {
      "model_module": "@jupyter-widgets/base",
      "model_module_version": "1.0.0",
      "model_name": "LayoutModel",
      "state": {}
     },
     "544784623f104b049a1b558e5cca2eb6": {
      "model_module": "@jupyter-widgets/controls",
      "model_module_version": "1.0.0",
      "model_name": "DescriptionStyleModel",
      "state": {
       "description_width": ""
      }
     },
     "5471ed56076143dc93f3aa3d413a0a8d": {
      "model_module": "@jupyter-widgets/controls",
      "model_module_version": "1.0.0",
      "model_name": "DescriptionStyleModel",
      "state": {
       "description_width": ""
      }
     },
     "5511348fe9024c7bb627c239ea01af5d": {
      "model_module": "@jupyter-widgets/controls",
      "model_module_version": "1.0.0",
      "model_name": "DescriptionStyleModel",
      "state": {
       "description_width": ""
      }
     },
     "5a81f446c7314dfeb20ae2def442209e": {
      "model_module": "@jupyter-widgets/controls",
      "model_module_version": "1.0.0",
      "model_name": "IntProgressModel",
      "state": {
       "description": "Evaluating TEST",
       "layout": "IPY_MODEL_44ee98b5b6664dae90807168fd3df1a5",
       "max": 2095,
       "style": "IPY_MODEL_daeb36285703455e88dc34f0a4c57a47",
       "value": 2093
      }
     },
     "5b1d50b595e8469ab82367db049f0fb2": {
      "model_module": "@jupyter-widgets/controls",
      "model_module_version": "1.0.0",
      "model_name": "HTMLModel",
      "state": {
       "layout": "IPY_MODEL_eb10355ebeff4680aa6e8434fe97e6c1",
       "style": "IPY_MODEL_132bdebc03e14c06aa9b635a3232c1fa",
       "value": "100% 1420/1421 [03:12&lt;00:00,  7.99it/s]"
      }
     },
     "5b71746bf5904284b277c0366594ff3c": {
      "model_module": "@jupyter-widgets/controls",
      "model_module_version": "1.0.0",
      "model_name": "HTMLModel",
      "state": {
       "layout": "IPY_MODEL_d965ac83c7e8484988096ab5110bc951",
       "style": "IPY_MODEL_bedd246665024aff8c1c16c602b40d92",
       "value": "2566it [00:00, 9435.10it/s]"
      }
     },
     "5bd3ea66b0594fddbe7989ecc0ad2ac3": {
      "model_module": "@jupyter-widgets/controls",
      "model_module_version": "1.0.0",
      "model_name": "HTMLModel",
      "state": {
       "layout": "IPY_MODEL_a49131495cf44887add7e2017de36b64",
       "style": "IPY_MODEL_7ccbc23c89004023904df81c564cad30",
       "value": "100% 1421/1421 [03:11&lt;00:00,  7.83it/s]"
      }
     },
     "5d7a3218cb674bc6a1e3699e3828f7ed": {
      "model_module": "@jupyter-widgets/controls",
      "model_module_version": "1.0.0",
      "model_name": "DescriptionStyleModel",
      "state": {
       "description_width": ""
      }
     },
     "5d92ef16af2a4bc7b5fbfd8e75d2b92f": {
      "model_module": "@jupyter-widgets/base",
      "model_module_version": "1.0.0",
      "model_name": "LayoutModel",
      "state": {}
     },
     "5ee253c7b0554abd94c23a6d086f3f6e": {
      "model_module": "@jupyter-widgets/base",
      "model_module_version": "1.0.0",
      "model_name": "LayoutModel",
      "state": {}
     },
     "5fc3fc4d2c8d48c5bdaa37d4d14b01d8": {
      "model_module": "@jupyter-widgets/base",
      "model_module_version": "1.0.0",
      "model_name": "LayoutModel",
      "state": {}
     },
     "6076e7d5cb8b4492a56482c8c5ed5cdf": {
      "model_module": "@jupyter-widgets/base",
      "model_module_version": "1.0.0",
      "model_name": "LayoutModel",
      "state": {}
     },
     "607b139890704af0a8116f63034692cb": {
      "model_module": "@jupyter-widgets/controls",
      "model_module_version": "1.0.0",
      "model_name": "HTMLModel",
      "state": {
       "layout": "IPY_MODEL_d5c5f3a652124251b85dfee7f907699a",
       "style": "IPY_MODEL_7107ade47b0c4ba29d7d3e816a440f52",
       "value": "2585it [00:00, 8822.63it/s]"
      }
     },
     "60cb119f602049629022f89902050b11": {
      "model_module": "@jupyter-widgets/base",
      "model_module_version": "1.0.0",
      "model_name": "LayoutModel",
      "state": {}
     },
     "620ee80bd7e546b1abe2a862b68b3382": {
      "model_module": "@jupyter-widgets/base",
      "model_module_version": "1.0.0",
      "model_name": "LayoutModel",
      "state": {}
     },
     "62441cca80c0477ba7a41414c9e56680": {
      "model_module": "@jupyter-widgets/base",
      "model_module_version": "1.0.0",
      "model_name": "LayoutModel",
      "state": {}
     },
     "63108e7f82a7426fa917fb163a5488ca": {
      "model_module": "@jupyter-widgets/base",
      "model_module_version": "1.0.0",
      "model_name": "LayoutModel",
      "state": {}
     },
     "6372421eff8b4ed8bbdc2bb35c1edb42": {
      "model_module": "@jupyter-widgets/controls",
      "model_module_version": "1.0.0",
      "model_name": "IntProgressModel",
      "state": {
       "description": "Evaluation",
       "layout": "IPY_MODEL_46fbae4b3de74a7e8d993f24f65e9f47",
       "max": 2049,
       "style": "IPY_MODEL_8fdb8451aa324051ac505549ec429a7a",
       "value": 2049
      }
     },
     "65924b520e604da79629897484caccf4": {
      "model_module": "@jupyter-widgets/base",
      "model_module_version": "1.0.0",
      "model_name": "LayoutModel",
      "state": {}
     },
     "66e0eec308524e6dabce6c167468d9d3": {
      "model_module": "@jupyter-widgets/base",
      "model_module_version": "1.0.0",
      "model_name": "LayoutModel",
      "state": {}
     },
     "698e7b1c21f34d06bf5bede8c36b8513": {
      "model_module": "@jupyter-widgets/controls",
      "model_module_version": "1.0.0",
      "model_name": "IntProgressModel",
      "state": {
       "description": "EP 7",
       "layout": "IPY_MODEL_b7d817f929c24af094a117c0e1e10e0c",
       "max": 1421,
       "style": "IPY_MODEL_36e5f7a80e3545ea8f295911dd324e0d",
       "value": 1421
      }
     },
     "6a4cd140c38446819ffafde36372c2d9": {
      "model_module": "@jupyter-widgets/base",
      "model_module_version": "1.0.0",
      "model_name": "LayoutModel",
      "state": {}
     },
     "6ac4d13cb1fb4cc1aaca198de768a9da": {
      "model_module": "@jupyter-widgets/controls",
      "model_module_version": "1.0.0",
      "model_name": "IntProgressModel",
      "state": {
       "description": "Evaluation",
       "layout": "IPY_MODEL_3e1056ad1b834ee0aaffae7b50ac28e7",
       "max": 2049,
       "style": "IPY_MODEL_1fe01d2a7a794fee955ebf04947a5a8e",
       "value": 2048
      }
     },
     "6b5ee18fd0024c4f8ff81b182bdd8d2e": {
      "model_module": "@jupyter-widgets/controls",
      "model_module_version": "1.0.0",
      "model_name": "HTMLModel",
      "state": {
       "layout": "IPY_MODEL_a1a4b54056594015be846566b0540a61",
       "style": "IPY_MODEL_544784623f104b049a1b558e5cca2eb6",
       "value": "100% 1420/1421 [03:19&lt;00:00,  7.71it/s]"
      }
     },
     "6c3c6fa8fc97442fb84e01126177129f": {
      "model_module": "@jupyter-widgets/base",
      "model_module_version": "1.0.0",
      "model_name": "LayoutModel",
      "state": {}
     },
     "6c7ead48caef44fe805c70a5cc6dd7b6": {
      "model_module": "@jupyter-widgets/controls",
      "model_module_version": "1.0.0",
      "model_name": "HTMLModel",
      "state": {
       "layout": "IPY_MODEL_eaac27b3d60b4f0b9be65490357f7c79",
       "style": "IPY_MODEL_33b937c5340e4e669c913a9d36d49105",
       "value": "100% 2049/2049 [01:00&lt;00:00, 37.04it/s]"
      }
     },
     "6d3c41c1b9374930965e404d1c7bd7ca": {
      "model_module": "@jupyter-widgets/controls",
      "model_module_version": "1.0.0",
      "model_name": "DescriptionStyleModel",
      "state": {
       "description_width": ""
      }
     },
     "6e512b625d7b42a4b56d89eb465ed215": {
      "model_module": "@jupyter-widgets/controls",
      "model_module_version": "1.0.0",
      "model_name": "DescriptionStyleModel",
      "state": {
       "description_width": ""
      }
     },
     "6f6ca54ac8084bcd8d5c684b23e30a06": {
      "model_module": "@jupyter-widgets/controls",
      "model_module_version": "1.0.0",
      "model_name": "HTMLModel",
      "state": {
       "layout": "IPY_MODEL_800bebb87f5f4b5191d4da5eeaf89a87",
       "style": "IPY_MODEL_6e512b625d7b42a4b56d89eb465ed215",
       "value": "100% 1421/1421 [03:12&lt;00:00,  8.89it/s]"
      }
     },
     "7107ade47b0c4ba29d7d3e816a440f52": {
      "model_module": "@jupyter-widgets/controls",
      "model_module_version": "1.0.0",
      "model_name": "DescriptionStyleModel",
      "state": {
       "description_width": ""
      }
     },
     "71badf739f1f44ceab9017509fb5f870": {
      "model_module": "@jupyter-widgets/controls",
      "model_module_version": "1.0.0",
      "model_name": "IntProgressModel",
      "state": {
       "description": "Evaluation",
       "layout": "IPY_MODEL_6c3c6fa8fc97442fb84e01126177129f",
       "max": 2049,
       "style": "IPY_MODEL_92bad0dee1874b9bac2facd5dfd77e62",
       "value": 2047
      }
     },
     "751ee94b6c194873b4d57e47e153a12c": {
      "model_module": "@jupyter-widgets/base",
      "model_module_version": "1.0.0",
      "model_name": "LayoutModel",
      "state": {}
     },
     "7588eb6924b24323b53d431949091f2b": {
      "model_module": "@jupyter-widgets/base",
      "model_module_version": "1.0.0",
      "model_name": "LayoutModel",
      "state": {}
     },
     "76edd2f6b17c491baa3998e22bd0808f": {
      "model_module": "@jupyter-widgets/controls",
      "model_module_version": "1.0.0",
      "model_name": "ProgressStyleModel",
      "state": {
       "description_width": "initial"
      }
     },
     "77561353f62d498586afc059a8879641": {
      "model_module": "@jupyter-widgets/base",
      "model_module_version": "1.0.0",
      "model_name": "LayoutModel",
      "state": {}
     },
     "7a546bc1fcd34dab98eff17946237cdf": {
      "model_module": "@jupyter-widgets/controls",
      "model_module_version": "1.0.0",
      "model_name": "ProgressStyleModel",
      "state": {
       "description_width": "initial"
      }
     },
     "7b10657f69264061bffe9df98984d466": {
      "model_module": "@jupyter-widgets/base",
      "model_module_version": "1.0.0",
      "model_name": "LayoutModel",
      "state": {}
     },
     "7b753193d47344e98f5a88c89e12577d": {
      "model_module": "@jupyter-widgets/controls",
      "model_module_version": "1.0.0",
      "model_name": "IntProgressModel",
      "state": {
       "description": "EP 12",
       "layout": "IPY_MODEL_08eef908165148a6ab89e57d328cafa5",
       "max": 1421,
       "style": "IPY_MODEL_2275303000a34e2cb4cd8318d91addeb",
       "value": 1420
      }
     },
     "7b7fecc8eda3490b9830ba5cfb125e4e": {
      "model_module": "@jupyter-widgets/base",
      "model_module_version": "1.0.0",
      "model_name": "LayoutModel",
      "state": {}
     },
     "7bcc43408ce2424c9597fd6a0499f766": {
      "model_module": "@jupyter-widgets/controls",
      "model_module_version": "1.0.0",
      "model_name": "HTMLModel",
      "state": {
       "layout": "IPY_MODEL_981f86c08eb04401bcaa152f153ad273",
       "style": "IPY_MODEL_5471ed56076143dc93f3aa3d413a0a8d",
       "value": "20941it [00:03, 6557.17it/s]"
      }
     },
     "7cba489e218a4477ad600ec83c63a567": {
      "model_module": "@jupyter-widgets/controls",
      "model_module_version": "1.0.0",
      "model_name": "ProgressStyleModel",
      "state": {
       "description_width": "initial"
      }
     },
     "7ccbc23c89004023904df81c564cad30": {
      "model_module": "@jupyter-widgets/controls",
      "model_module_version": "1.0.0",
      "model_name": "DescriptionStyleModel",
      "state": {
       "description_width": ""
      }
     },
     "7de09be152c84c2899f50ff2604e59b0": {
      "model_module": "@jupyter-widgets/controls",
      "model_module_version": "1.0.0",
      "model_name": "DescriptionStyleModel",
      "state": {
       "description_width": ""
      }
     },
     "7fdea01bfb254f71b4b065979defe0e7": {
      "model_module": "@jupyter-widgets/base",
      "model_module_version": "1.0.0",
      "model_name": "LayoutModel",
      "state": {}
     },
     "7ff0a928351e4f8fac1ad00f6ce0f83d": {
      "model_module": "@jupyter-widgets/base",
      "model_module_version": "1.0.0",
      "model_name": "LayoutModel",
      "state": {}
     },
     "800bebb87f5f4b5191d4da5eeaf89a87": {
      "model_module": "@jupyter-widgets/base",
      "model_module_version": "1.0.0",
      "model_name": "LayoutModel",
      "state": {}
     },
     "80f7b75312fe4d04b1f4ee3da4fb7510": {
      "model_module": "@jupyter-widgets/base",
      "model_module_version": "1.0.0",
      "model_name": "LayoutModel",
      "state": {}
     },
     "81d92a3c1a154ed583f61e81cad23123": {
      "model_module": "@jupyter-widgets/controls",
      "model_module_version": "1.0.0",
      "model_name": "ProgressStyleModel",
      "state": {
       "description_width": "initial"
      }
     },
     "82a6fbcbe61f4d83bda351f5dfd9c292": {
      "model_module": "@jupyter-widgets/controls",
      "model_module_version": "1.0.0",
      "model_name": "IntProgressModel",
      "state": {
       "description": "EP 14",
       "layout": "IPY_MODEL_20e9a459bf41410b9e0a8fbe16471ee1",
       "max": 1421,
       "style": "IPY_MODEL_f41931a0a0924e089074befa1a6ca486",
       "value": 1420
      }
     },
     "834225e94d6f42f8b819b1dd53401932": {
      "model_module": "@jupyter-widgets/controls",
      "model_module_version": "1.0.0",
      "model_name": "ProgressStyleModel",
      "state": {
       "description_width": "initial"
      }
     },
     "841b48c682e14d779dfadeaf763c88fa": {
      "model_module": "@jupyter-widgets/base",
      "model_module_version": "1.0.0",
      "model_name": "LayoutModel",
      "state": {}
     },
     "86e0db84948c4563947fb241890c56ab": {
      "model_module": "@jupyter-widgets/controls",
      "model_module_version": "1.0.0",
      "model_name": "IntProgressModel",
      "state": {
       "bar_style": "success",
       "description": "Load germeva",
       "layout": "IPY_MODEL_0114ef24a1354aff835d935c39084552",
       "max": 1,
       "style": "IPY_MODEL_983a42c2400d4ec7a45b80bda4f5d5fe",
       "value": 1
      }
     },
     "86f8ed3c92724f0fa90d61ad0ca5af64": {
      "model_module": "@jupyter-widgets/base",
      "model_module_version": "1.0.0",
      "model_name": "LayoutModel",
      "state": {}
     },
     "88419bc581114c4991edb3351b8b5455": {
      "model_module": "@jupyter-widgets/controls",
      "model_module_version": "1.0.0",
      "model_name": "IntProgressModel",
      "state": {
       "description": "Evaluation",
       "layout": "IPY_MODEL_24910be53da1437aa72400d08ce1906b",
       "max": 2049,
       "style": "IPY_MODEL_81d92a3c1a154ed583f61e81cad23123",
       "value": 2049
      }
     },
     "8b49a767cf554fa89195fe232335a80b": {
      "model_module": "@jupyter-widgets/base",
      "model_module_version": "1.0.0",
      "model_name": "LayoutModel",
      "state": {}
     },
     "8d4f1775224140ff8a356aeb58df7ff4": {
      "model_module": "@jupyter-widgets/base",
      "model_module_version": "1.0.0",
      "model_name": "LayoutModel",
      "state": {}
     },
     "8ed57baa714e4ea3987ec877a1452fa3": {
      "model_module": "@jupyter-widgets/controls",
      "model_module_version": "1.0.0",
      "model_name": "HTMLModel",
      "state": {
       "layout": "IPY_MODEL_6a4cd140c38446819ffafde36372c2d9",
       "style": "IPY_MODEL_db6c739da2564ce8a150cbc2722ea521",
       "value": "100% 1421/1421 [03:11&lt;00:00,  8.76it/s]"
      }
     },
     "8fdb8451aa324051ac505549ec429a7a": {
      "model_module": "@jupyter-widgets/controls",
      "model_module_version": "1.0.0",
      "model_name": "ProgressStyleModel",
      "state": {
       "description_width": "initial"
      }
     },
     "90105a5940a741819130dfdfa5c1eb41": {
      "model_module": "@jupyter-widgets/controls",
      "model_module_version": "1.0.0",
      "model_name": "IntProgressModel",
      "state": {
       "description": "EP 11",
       "layout": "IPY_MODEL_943ddfa960d04f1da284634dca130cc2",
       "max": 1421,
       "style": "IPY_MODEL_ed75c0285a974c90ab2086b2b821a253",
       "value": 1421
      }
     },
     "91cb4a33d5304335840afe46007a3ab2": {
      "model_module": "@jupyter-widgets/controls",
      "model_module_version": "1.0.0",
      "model_name": "DescriptionStyleModel",
      "state": {
       "description_width": ""
      }
     },
     "92085e2abd9849299e9e325be1fe656f": {
      "model_module": "@jupyter-widgets/controls",
      "model_module_version": "1.0.0",
      "model_name": "DescriptionStyleModel",
      "state": {
       "description_width": ""
      }
     },
     "922ac4696b21442ca8c7dc6afe87807b": {
      "model_module": "@jupyter-widgets/controls",
      "model_module_version": "1.0.0",
      "model_name": "HTMLModel",
      "state": {
       "layout": "IPY_MODEL_9fff7f49c8f54f54ba8059650edfe5fe",
       "style": "IPY_MODEL_a9f93bc045384272b254ea8759053013",
       "value": "100% 1421/1421 [03:07&lt;00:00,  9.83it/s]"
      }
     },
     "92bad0dee1874b9bac2facd5dfd77e62": {
      "model_module": "@jupyter-widgets/controls",
      "model_module_version": "1.0.0",
      "model_name": "ProgressStyleModel",
      "state": {
       "description_width": "initial"
      }
     },
     "93b1a9bab1984b8394e2ede449edde23": {
      "model_module": "@jupyter-widgets/controls",
      "model_module_version": "1.0.0",
      "model_name": "DescriptionStyleModel",
      "state": {
       "description_width": ""
      }
     },
     "943ddfa960d04f1da284634dca130cc2": {
      "model_module": "@jupyter-widgets/base",
      "model_module_version": "1.0.0",
      "model_name": "LayoutModel",
      "state": {}
     },
     "94f111568351486084d3bd742b547d85": {
      "model_module": "@jupyter-widgets/controls",
      "model_module_version": "1.0.0",
      "model_name": "DescriptionStyleModel",
      "state": {
       "description_width": ""
      }
     },
     "955bd6e203814fd5934246bc3a28d4e8": {
      "model_module": "@jupyter-widgets/controls",
      "model_module_version": "1.0.0",
      "model_name": "ProgressStyleModel",
      "state": {
       "description_width": "initial"
      }
     },
     "95ee730ade864e0f8e4b334ce159c14f": {
      "model_module": "@jupyter-widgets/base",
      "model_module_version": "1.0.0",
      "model_name": "LayoutModel",
      "state": {}
     },
     "97410e627d5e4dc18e363b5cdf6458c6": {
      "model_module": "@jupyter-widgets/base",
      "model_module_version": "1.0.0",
      "model_name": "LayoutModel",
      "state": {}
     },
     "97621bd240e14c638dc73d6cf32a4996": {
      "model_module": "@jupyter-widgets/controls",
      "model_module_version": "1.0.0",
      "model_name": "ProgressStyleModel",
      "state": {
       "description_width": "initial"
      }
     },
     "98153b551a7043d2939187d5cee650fd": {
      "model_module": "@jupyter-widgets/controls",
      "model_module_version": "1.0.0",
      "model_name": "IntProgressModel",
      "state": {
       "bar_style": "success",
       "description": "Load germeva",
       "layout": "IPY_MODEL_b2d0084b51b0495f865804da4fa0cfc1",
       "max": 1,
       "style": "IPY_MODEL_a7c0910db017476885c780f788c3075c",
       "value": 1
      }
     },
     "981f86c08eb04401bcaa152f153ad273": {
      "model_module": "@jupyter-widgets/base",
      "model_module_version": "1.0.0",
      "model_name": "LayoutModel",
      "state": {}
     },
     "983a42c2400d4ec7a45b80bda4f5d5fe": {
      "model_module": "@jupyter-widgets/controls",
      "model_module_version": "1.0.0",
      "model_name": "ProgressStyleModel",
      "state": {
       "description_width": "initial"
      }
     },
     "98cd8eba2ccc42f8906ec28238cd98dc": {
      "model_module": "@jupyter-widgets/controls",
      "model_module_version": "1.0.0",
      "model_name": "IntProgressModel",
      "state": {
       "description": "EP 6",
       "layout": "IPY_MODEL_d633d57409864eee856aa9022493db7a",
       "max": 1421,
       "style": "IPY_MODEL_3b9162b412bc493bb1f3949ecc17ba8b",
       "value": 1421
      }
     },
     "99f7c9b6d7884cd2992a4b44a8d2a008": {
      "model_module": "@jupyter-widgets/base",
      "model_module_version": "1.0.0",
      "model_name": "LayoutModel",
      "state": {}
     },
     "9ba1a971e35545938dbdb9fdb7c22f69": {
      "model_module": "@jupyter-widgets/controls",
      "model_module_version": "1.0.0",
      "model_name": "DescriptionStyleModel",
      "state": {
       "description_width": ""
      }
     },
     "9bbe21ca4e6a4c92a4de846f607bcfcc": {
      "model_module": "@jupyter-widgets/controls",
      "model_module_version": "1.0.0",
      "model_name": "DescriptionStyleModel",
      "state": {
       "description_width": ""
      }
     },
     "9c326ab194e44bfa9572029d95896046": {
      "model_module": "@jupyter-widgets/controls",
      "model_module_version": "1.0.0",
      "model_name": "HBoxModel",
      "state": {
       "children": [
        "IPY_MODEL_f1694f89cc014ae99a0ef51c1e733bfd",
        "IPY_MODEL_5b71746bf5904284b277c0366594ff3c"
       ],
       "layout": "IPY_MODEL_d6a7f2cff4554a399f6447a39ada8569"
      }
     },
     "9df557ed1fd54c348c919877b5f7591b": {
      "model_module": "@jupyter-widgets/controls",
      "model_module_version": "1.0.0",
      "model_name": "ProgressStyleModel",
      "state": {
       "description_width": "initial"
      }
     },
     "9fff7f49c8f54f54ba8059650edfe5fe": {
      "model_module": "@jupyter-widgets/base",
      "model_module_version": "1.0.0",
      "model_name": "LayoutModel",
      "state": {}
     },
     "a03bf622fc6746ce9fd4523c620cc481": {
      "model_module": "@jupyter-widgets/base",
      "model_module_version": "1.0.0",
      "model_name": "LayoutModel",
      "state": {}
     },
     "a0b501b4a16a466eb020b9fb3d6708b6": {
      "model_module": "@jupyter-widgets/controls",
      "model_module_version": "1.0.0",
      "model_name": "DescriptionStyleModel",
      "state": {
       "description_width": ""
      }
     },
     "a1a4b54056594015be846566b0540a61": {
      "model_module": "@jupyter-widgets/base",
      "model_module_version": "1.0.0",
      "model_name": "LayoutModel",
      "state": {}
     },
     "a2297c057a8f4fefb8b0b7376433adb6": {
      "model_module": "@jupyter-widgets/base",
      "model_module_version": "1.0.0",
      "model_name": "LayoutModel",
      "state": {}
     },
     "a2733224a9d74c8f86e33659b378bef6": {
      "model_module": "@jupyter-widgets/controls",
      "model_module_version": "1.0.0",
      "model_name": "HTMLModel",
      "state": {
       "layout": "IPY_MODEL_c66512623a854a8abaa8d5152c2d99c7",
       "style": "IPY_MODEL_fd856a4ad5bf46918d23c2c38ad5e05f",
       "value": "100% 2093/2095 [01:03&lt;00:00, 36.28it/s]"
      }
     },
     "a3917cbf7a494e47b67dbdaf5f8a23d6": {
      "model_module": "@jupyter-widgets/base",
      "model_module_version": "1.0.0",
      "model_name": "LayoutModel",
      "state": {}
     },
     "a3e77ad272854726b66ae154f8583937": {
      "model_module": "@jupyter-widgets/controls",
      "model_module_version": "1.0.0",
      "model_name": "IntProgressModel",
      "state": {
       "description": "Evaluation",
       "layout": "IPY_MODEL_018a13be78114ba982700d962d0b654b",
       "max": 2049,
       "style": "IPY_MODEL_f45877b7ef59425abc1ddb67ccd2a89a",
       "value": 2047
      }
     },
     "a4010d25e22346149d162e28d83f666c": {
      "model_module": "@jupyter-widgets/base",
      "model_module_version": "1.0.0",
      "model_name": "LayoutModel",
      "state": {}
     },
     "a42328ceb15745839137a647027de781": {
      "model_module": "@jupyter-widgets/controls",
      "model_module_version": "1.0.0",
      "model_name": "HTMLModel",
      "state": {
       "layout": "IPY_MODEL_65924b520e604da79629897484caccf4",
       "style": "IPY_MODEL_d61053ec29f840318663d41fcf254416",
       "value": "100% 2047/2049 [00:59&lt;00:00, 35.34it/s]"
      }
     },
     "a49131495cf44887add7e2017de36b64": {
      "model_module": "@jupyter-widgets/base",
      "model_module_version": "1.0.0",
      "model_name": "LayoutModel",
      "state": {}
     },
     "a51e247908444b528b49b580772d49ac": {
      "model_module": "@jupyter-widgets/controls",
      "model_module_version": "1.0.0",
      "model_name": "ProgressStyleModel",
      "state": {
       "description_width": "initial"
      }
     },
     "a7c0910db017476885c780f788c3075c": {
      "model_module": "@jupyter-widgets/controls",
      "model_module_version": "1.0.0",
      "model_name": "ProgressStyleModel",
      "state": {
       "description_width": "initial"
      }
     },
     "a7d631cd31104adeb63185269629a6a2": {
      "model_module": "@jupyter-widgets/controls",
      "model_module_version": "1.0.0",
      "model_name": "DescriptionStyleModel",
      "state": {
       "description_width": ""
      }
     },
     "a85c524fe5994d2a990b38f9f020eef2": {
      "model_module": "@jupyter-widgets/base",
      "model_module_version": "1.0.0",
      "model_name": "LayoutModel",
      "state": {}
     },
     "a9f93bc045384272b254ea8759053013": {
      "model_module": "@jupyter-widgets/controls",
      "model_module_version": "1.0.0",
      "model_name": "DescriptionStyleModel",
      "state": {
       "description_width": ""
      }
     },
     "ab0c5bce49824716aa1e8e6ff51291fc": {
      "model_module": "@jupyter-widgets/controls",
      "model_module_version": "1.0.0",
      "model_name": "IntProgressModel",
      "state": {
       "bar_style": "success",
       "description": "Load germeva",
       "layout": "IPY_MODEL_ffb7ac44391b4215bb5b4f7f5d2359a1",
       "max": 1,
       "style": "IPY_MODEL_43f6b6840e324f81ab5162c93c287fe4",
       "value": 1
      }
     },
     "ab78814a0bb747b98e7af79fdfc9499b": {
      "model_module": "@jupyter-widgets/controls",
      "model_module_version": "1.0.0",
      "model_name": "IntProgressModel",
      "state": {
       "description": "Evaluating VALIDATION",
       "layout": "IPY_MODEL_7ff0a928351e4f8fac1ad00f6ce0f83d",
       "max": 2049,
       "style": "IPY_MODEL_d455f7d70a5843128dda31876fc46add",
       "value": 2047
      }
     },
     "b178f61bd1b348baa17a8c6003701d01": {
      "model_module": "@jupyter-widgets/controls",
      "model_module_version": "1.0.0",
      "model_name": "HTMLModel",
      "state": {
       "layout": "IPY_MODEL_77561353f62d498586afc059a8879641",
       "style": "IPY_MODEL_10e2dc431efe4080b611bb9cc0d03e80",
       "value": "100% 1420/1421 [03:12&lt;00:00,  7.71it/s]"
      }
     },
     "b240a4eb74a84dbfa6a3548a114902ad": {
      "model_module": "@jupyter-widgets/base",
      "model_module_version": "1.0.0",
      "model_name": "LayoutModel",
      "state": {}
     },
     "b2d0084b51b0495f865804da4fa0cfc1": {
      "model_module": "@jupyter-widgets/base",
      "model_module_version": "1.0.0",
      "model_name": "LayoutModel",
      "state": {}
     },
     "b3eb5ef866694edcacd98e3fe2c3cc79": {
      "model_module": "@jupyter-widgets/controls",
      "model_module_version": "1.0.0",
      "model_name": "HTMLModel",
      "state": {
       "layout": "IPY_MODEL_f9a56d8d41ea4bc182d2821e5bc9823a",
       "style": "IPY_MODEL_5511348fe9024c7bb627c239ea01af5d",
       "value": "100% 2047/2049 [01:03&lt;00:00, 35.27it/s]"
      }
     },
     "b41861c1ac1444d49d8ca9f8544d9540": {
      "model_module": "@jupyter-widgets/base",
      "model_module_version": "1.0.0",
      "model_name": "LayoutModel",
      "state": {}
     },
     "b5895418c5f4418599d8338a9ba1267f": {
      "model_module": "@jupyter-widgets/base",
      "model_module_version": "1.0.0",
      "model_name": "LayoutModel",
      "state": {}
     },
     "b5be72d1847f492892f94266a190f5b8": {
      "model_module": "@jupyter-widgets/controls",
      "model_module_version": "1.0.0",
      "model_name": "IntProgressModel",
      "state": {
       "description": "Evaluation",
       "layout": "IPY_MODEL_b41861c1ac1444d49d8ca9f8544d9540",
       "max": 2049,
       "style": "IPY_MODEL_97621bd240e14c638dc73d6cf32a4996",
       "value": 2047
      }
     },
     "b608d0811073419d9987ee5dce33067e": {
      "model_module": "@jupyter-widgets/base",
      "model_module_version": "1.0.0",
      "model_name": "LayoutModel",
      "state": {}
     },
     "b6f071ff74214bc28fa6116b842020fe": {
      "model_module": "@jupyter-widgets/base",
      "model_module_version": "1.0.0",
      "model_name": "LayoutModel",
      "state": {}
     },
     "b730e6b65377483aa63a4118f7fdefba": {
      "model_module": "@jupyter-widgets/controls",
      "model_module_version": "1.0.0",
      "model_name": "HTMLModel",
      "state": {
       "layout": "IPY_MODEL_d7aa4cd8c77d4d82a41761a680b7b79e",
       "style": "IPY_MODEL_94f111568351486084d3bd742b547d85",
       "value": "100% 2048/2049 [00:58&lt;00:00, 34.90it/s]"
      }
     },
     "b7646b696e034349af964bad88b1fd19": {
      "model_module": "@jupyter-widgets/controls",
      "model_module_version": "1.0.0",
      "model_name": "HBoxModel",
      "state": {
       "children": [
        "IPY_MODEL_ab0c5bce49824716aa1e8e6ff51291fc",
        "IPY_MODEL_c64d7304ca544d71836dac1fe80637e3"
       ],
       "layout": "IPY_MODEL_35ae7889f5cc493c8af57f33ac39f158"
      }
     },
     "b7d817f929c24af094a117c0e1e10e0c": {
      "model_module": "@jupyter-widgets/base",
      "model_module_version": "1.0.0",
      "model_name": "LayoutModel",
      "state": {}
     },
     "b7db5d7872654a72b5b387c8e34e20f3": {
      "model_module": "@jupyter-widgets/controls",
      "model_module_version": "1.0.0",
      "model_name": "IntProgressModel",
      "state": {
       "description": "Evaluation",
       "layout": "IPY_MODEL_a85c524fe5994d2a990b38f9f020eef2",
       "max": 2049,
       "style": "IPY_MODEL_4d9a4c627083432aa621a083d443aa02",
       "value": 2046
      }
     },
     "ba4cb516332549e9b5493dd4bd11e0d4": {
      "model_module": "@jupyter-widgets/base",
      "model_module_version": "1.0.0",
      "model_name": "LayoutModel",
      "state": {}
     },
     "bae5468c67c74f1d8742182d1c815e2f": {
      "model_module": "@jupyter-widgets/base",
      "model_module_version": "1.0.0",
      "model_name": "LayoutModel",
      "state": {}
     },
     "bb52a0e7070a43a7add4d025c426ec4f": {
      "model_module": "@jupyter-widgets/controls",
      "model_module_version": "1.0.0",
      "model_name": "IntProgressModel",
      "state": {
       "description": "EP 13",
       "layout": "IPY_MODEL_02242737502f42f3b4d196bf0a47168b",
       "max": 1421,
       "style": "IPY_MODEL_f181ff59a812401abedf82ddc799779b",
       "value": 1421
      }
     },
     "bdd7497b560241c887bc580bc77460c7": {
      "model_module": "@jupyter-widgets/controls",
      "model_module_version": "1.0.0",
      "model_name": "HTMLModel",
      "state": {
       "layout": "IPY_MODEL_df5104e0e6a640e9aa33f567a76d3232",
       "style": "IPY_MODEL_d3b5c21f1e294913a541594db9eb18c9",
       "value": "100% 1420/1421 [03:09&lt;00:00,  6.44it/s]"
      }
     },
     "bdee72326c134aac9fbfc70c69eb77f3": {
      "model_module": "@jupyter-widgets/controls",
      "model_module_version": "1.0.0",
      "model_name": "IntProgressModel",
      "state": {
       "description": "EP 2",
       "layout": "IPY_MODEL_a4010d25e22346149d162e28d83f666c",
       "max": 1421,
       "style": "IPY_MODEL_ee2fc7cd044349b190ca00c9f3417f11",
       "value": 1421
      }
     },
     "bedd246665024aff8c1c16c602b40d92": {
      "model_module": "@jupyter-widgets/controls",
      "model_module_version": "1.0.0",
      "model_name": "DescriptionStyleModel",
      "state": {
       "description_width": ""
      }
     },
     "bf5d61651bac4f06ae00d48e02f5d8e5": {
      "model_module": "@jupyter-widgets/base",
      "model_module_version": "1.0.0",
      "model_name": "LayoutModel",
      "state": {}
     },
     "c17b38b7bd274eebbd7ab8fd7e04c1c8": {
      "model_module": "@jupyter-widgets/controls",
      "model_module_version": "1.0.0",
      "model_name": "HTMLModel",
      "state": {
       "layout": "IPY_MODEL_f832e32720ec4a9fbbe1b6a6f9e540dd",
       "style": "IPY_MODEL_a7d631cd31104adeb63185269629a6a2",
       "value": "100% 2049/2049 [00:57&lt;00:00, 32.15it/s]"
      }
     },
     "c1bc12c9e7cd486486feb5bce975e42d": {
      "model_module": "@jupyter-widgets/controls",
      "model_module_version": "1.0.0",
      "model_name": "DescriptionStyleModel",
      "state": {
       "description_width": ""
      }
     },
     "c274f459d6fe4809a4ece36608186a37": {
      "model_module": "@jupyter-widgets/controls",
      "model_module_version": "1.0.0",
      "model_name": "HTMLModel",
      "state": {
       "layout": "IPY_MODEL_30452d2f4dd84d54a6bc4484af9bcc92",
       "style": "IPY_MODEL_e4b1bd1c7e864b619a1bc9754ee218c5",
       "value": "100% 2046/2049 [00:56&lt;00:00, 36.95it/s]"
      }
     },
     "c64d7304ca544d71836dac1fe80637e3": {
      "model_module": "@jupyter-widgets/controls",
      "model_module_version": "1.0.0",
      "model_name": "HTMLModel",
      "state": {
       "layout": "IPY_MODEL_32fbdd4d8af84154bb5ac55e5f1213e2",
       "style": "IPY_MODEL_412854d53c874af0b77a1acb467cd51d",
       "value": "20941it [00:09, 2105.25it/s]"
      }
     },
     "c66512623a854a8abaa8d5152c2d99c7": {
      "model_module": "@jupyter-widgets/base",
      "model_module_version": "1.0.0",
      "model_name": "LayoutModel",
      "state": {}
     },
     "c6658e38ddcf40e69f0c7f0b0324cdb3": {
      "model_module": "@jupyter-widgets/base",
      "model_module_version": "1.0.0",
      "model_name": "LayoutModel",
      "state": {}
     },
     "c738b25653814e39a2511d9daa7c6cc6": {
      "model_module": "@jupyter-widgets/base",
      "model_module_version": "1.0.0",
      "model_name": "LayoutModel",
      "state": {}
     },
     "c7d4431a85eb4f57b7cd8d0f65a446d3": {
      "model_module": "@jupyter-widgets/base",
      "model_module_version": "1.0.0",
      "model_name": "LayoutModel",
      "state": {}
     },
     "c8f388c88e6f48a1a31427211fd78b3b": {
      "model_module": "@jupyter-widgets/controls",
      "model_module_version": "1.0.0",
      "model_name": "ProgressStyleModel",
      "state": {
       "description_width": "initial"
      }
     },
     "cb5b858f036b4729a39340658ebdbb74": {
      "model_module": "@jupyter-widgets/controls",
      "model_module_version": "1.0.0",
      "model_name": "ProgressStyleModel",
      "state": {
       "description_width": "initial"
      }
     },
     "cba2d49af8964b1ead8d89ea8ceca0c8": {
      "model_module": "@jupyter-widgets/base",
      "model_module_version": "1.0.0",
      "model_name": "LayoutModel",
      "state": {}
     },
     "cbe9b070ebde4d1ea5914d2e3f583cc9": {
      "model_module": "@jupyter-widgets/controls",
      "model_module_version": "1.0.0",
      "model_name": "IntProgressModel",
      "state": {
       "description": "EP 4",
       "layout": "IPY_MODEL_275a9fecdf0b46fca7b6787e033f544d",
       "max": 1421,
       "style": "IPY_MODEL_ce1cf2d004864d27b616bed859f5e3f3",
       "value": 1421
      }
     },
     "cc93f6675c6e4d3c8dd2f5d477da7e6b": {
      "model_module": "@jupyter-widgets/controls",
      "model_module_version": "1.0.0",
      "model_name": "DescriptionStyleModel",
      "state": {
       "description_width": ""
      }
     },
     "ce1cf2d004864d27b616bed859f5e3f3": {
      "model_module": "@jupyter-widgets/controls",
      "model_module_version": "1.0.0",
      "model_name": "ProgressStyleModel",
      "state": {
       "description_width": "initial"
      }
     },
     "d3b5c21f1e294913a541594db9eb18c9": {
      "model_module": "@jupyter-widgets/controls",
      "model_module_version": "1.0.0",
      "model_name": "DescriptionStyleModel",
      "state": {
       "description_width": ""
      }
     },
     "d455f7d70a5843128dda31876fc46add": {
      "model_module": "@jupyter-widgets/controls",
      "model_module_version": "1.0.0",
      "model_name": "ProgressStyleModel",
      "state": {
       "description_width": "initial"
      }
     },
     "d493a4b8a8af413f9ac599eb3561b63e": {
      "model_module": "@jupyter-widgets/controls",
      "model_module_version": "1.0.0",
      "model_name": "HBoxModel",
      "state": {
       "children": [
        "IPY_MODEL_86e0db84948c4563947fb241890c56ab",
        "IPY_MODEL_607b139890704af0a8116f63034692cb"
       ],
       "layout": "IPY_MODEL_97410e627d5e4dc18e363b5cdf6458c6"
      }
     },
     "d5c5f3a652124251b85dfee7f907699a": {
      "model_module": "@jupyter-widgets/base",
      "model_module_version": "1.0.0",
      "model_name": "LayoutModel",
      "state": {}
     },
     "d61053ec29f840318663d41fcf254416": {
      "model_module": "@jupyter-widgets/controls",
      "model_module_version": "1.0.0",
      "model_name": "DescriptionStyleModel",
      "state": {
       "description_width": ""
      }
     },
     "d633d57409864eee856aa9022493db7a": {
      "model_module": "@jupyter-widgets/base",
      "model_module_version": "1.0.0",
      "model_name": "LayoutModel",
      "state": {}
     },
     "d6a7f2cff4554a399f6447a39ada8569": {
      "model_module": "@jupyter-widgets/base",
      "model_module_version": "1.0.0",
      "model_name": "LayoutModel",
      "state": {}
     },
     "d7aa4cd8c77d4d82a41761a680b7b79e": {
      "model_module": "@jupyter-widgets/base",
      "model_module_version": "1.0.0",
      "model_name": "LayoutModel",
      "state": {}
     },
     "d8aaf88fc8734cba87f966658c213aec": {
      "model_module": "@jupyter-widgets/base",
      "model_module_version": "1.0.0",
      "model_name": "LayoutModel",
      "state": {}
     },
     "d965ac83c7e8484988096ab5110bc951": {
      "model_module": "@jupyter-widgets/base",
      "model_module_version": "1.0.0",
      "model_name": "LayoutModel",
      "state": {}
     },
     "da02daa560154a92a4605ce61a2752cd": {
      "model_module": "@jupyter-widgets/controls",
      "model_module_version": "1.0.0",
      "model_name": "HBoxModel",
      "state": {
       "children": [
        "IPY_MODEL_f213feb1191b43129d6ba66a5c584201",
        "IPY_MODEL_7bcc43408ce2424c9597fd6a0499f766"
       ],
       "layout": "IPY_MODEL_da05a986e89b4ff6bccca0bcb309b6bd"
      }
     },
     "da05a986e89b4ff6bccca0bcb309b6bd": {
      "model_module": "@jupyter-widgets/base",
      "model_module_version": "1.0.0",
      "model_name": "LayoutModel",
      "state": {}
     },
     "dadc908732094dba89eaa5482e3117b5": {
      "model_module": "@jupyter-widgets/controls",
      "model_module_version": "1.0.0",
      "model_name": "DescriptionStyleModel",
      "state": {
       "description_width": ""
      }
     },
     "daeb36285703455e88dc34f0a4c57a47": {
      "model_module": "@jupyter-widgets/controls",
      "model_module_version": "1.0.0",
      "model_name": "ProgressStyleModel",
      "state": {
       "description_width": "initial"
      }
     },
     "db6c739da2564ce8a150cbc2722ea521": {
      "model_module": "@jupyter-widgets/controls",
      "model_module_version": "1.0.0",
      "model_name": "DescriptionStyleModel",
      "state": {
       "description_width": ""
      }
     },
     "dca048b9888b43ba843cffb6be2dd453": {
      "model_module": "@jupyter-widgets/controls",
      "model_module_version": "1.0.0",
      "model_name": "HTMLModel",
      "state": {
       "layout": "IPY_MODEL_7fdea01bfb254f71b4b065979defe0e7",
       "style": "IPY_MODEL_9bbe21ca4e6a4c92a4de846f607bcfcc",
       "value": "100% 1421/1421 [03:07&lt;00:00,  5.95it/s]"
      }
     },
     "dce59823965348aeaaac601babc26589": {
      "model_module": "@jupyter-widgets/controls",
      "model_module_version": "1.0.0",
      "model_name": "HTMLModel",
      "state": {
       "layout": "IPY_MODEL_f7f4ea03e56546d085b5455758c81d4d",
       "style": "IPY_MODEL_129294a8081b40b0a67184d21253db30",
       "value": "100% 2048/2049 [00:59&lt;00:00, 37.09it/s]"
      }
     },
     "de15d5d58a764ee9b52cf31e01ae6226": {
      "model_module": "@jupyter-widgets/base",
      "model_module_version": "1.0.0",
      "model_name": "LayoutModel",
      "state": {}
     },
     "deaa796fdcba47f59e6f2e4831c52b0f": {
      "model_module": "@jupyter-widgets/controls",
      "model_module_version": "1.0.0",
      "model_name": "DescriptionStyleModel",
      "state": {
       "description_width": ""
      }
     },
     "df5104e0e6a640e9aa33f567a76d3232": {
      "model_module": "@jupyter-widgets/base",
      "model_module_version": "1.0.0",
      "model_name": "LayoutModel",
      "state": {}
     },
     "e0001fcb5de24d5087e26d15096d2f48": {
      "model_module": "@jupyter-widgets/base",
      "model_module_version": "1.0.0",
      "model_name": "LayoutModel",
      "state": {}
     },
     "e02da2a068b44ec385276cbcdaf9c7e6": {
      "model_module": "@jupyter-widgets/base",
      "model_module_version": "1.0.0",
      "model_name": "LayoutModel",
      "state": {}
     },
     "e07627639b6a4251bd7e2e6d404c4fbd": {
      "model_module": "@jupyter-widgets/controls",
      "model_module_version": "1.0.0",
      "model_name": "HTMLModel",
      "state": {
       "layout": "IPY_MODEL_44319b24e38647c297dd8aeb1b119ffb",
       "style": "IPY_MODEL_5d7a3218cb674bc6a1e3699e3828f7ed",
       "value": "100% 1421/1421 [03:13&lt;00:00,  6.35it/s]"
      }
     },
     "e3fde913d53548898aa502ad53fc29cb": {
      "model_module": "@jupyter-widgets/controls",
      "model_module_version": "1.0.0",
      "model_name": "HBoxModel",
      "state": {
       "children": [
        "IPY_MODEL_98153b551a7043d2939187d5cee650fd",
        "IPY_MODEL_257452e642fa4ac4b4218b1abf60ed76"
       ],
       "layout": "IPY_MODEL_5388767562684637bf175a28c9dd9d81"
      }
     },
     "e4b1bd1c7e864b619a1bc9754ee218c5": {
      "model_module": "@jupyter-widgets/controls",
      "model_module_version": "1.0.0",
      "model_name": "DescriptionStyleModel",
      "state": {
       "description_width": ""
      }
     },
     "e707fa04cc6944dfa82269194c4ed27a": {
      "model_module": "@jupyter-widgets/base",
      "model_module_version": "1.0.0",
      "model_name": "LayoutModel",
      "state": {}
     },
     "e81d0c7cfe80409fabb549f1cc0bd1c2": {
      "model_module": "@jupyter-widgets/controls",
      "model_module_version": "1.0.0",
      "model_name": "IntProgressModel",
      "state": {
       "description": "Evaluation",
       "layout": "IPY_MODEL_31f00a5f29c243e39a92443484ae9537",
       "max": 2049,
       "style": "IPY_MODEL_955bd6e203814fd5934246bc3a28d4e8",
       "value": 2049
      }
     },
     "e8849696928c493c92ff4d7697cb04ac": {
      "model_module": "@jupyter-widgets/controls",
      "model_module_version": "1.0.0",
      "model_name": "HTMLModel",
      "state": {
       "layout": "IPY_MODEL_66e0eec308524e6dabce6c167468d9d3",
       "style": "IPY_MODEL_92085e2abd9849299e9e325be1fe656f",
       "value": "100% 2047/2049 [00:58&lt;00:00, 36.89it/s]"
      }
     },
     "ea44fa8b1fa54fda96a55a9af21ad428": {
      "model_module": "@jupyter-widgets/controls",
      "model_module_version": "1.0.0",
      "model_name": "DescriptionStyleModel",
      "state": {
       "description_width": ""
      }
     },
     "ea78fbf479534683909867944f279fd5": {
      "model_module": "@jupyter-widgets/controls",
      "model_module_version": "1.0.0",
      "model_name": "HTMLModel",
      "state": {
       "layout": "IPY_MODEL_0ca64a1b2edc4b86a834473661c5a1f4",
       "style": "IPY_MODEL_93b1a9bab1984b8394e2ede449edde23",
       "value": "100% 2047/2049 [01:00&lt;00:00, 34.11it/s]"
      }
     },
     "eaac27b3d60b4f0b9be65490357f7c79": {
      "model_module": "@jupyter-widgets/base",
      "model_module_version": "1.0.0",
      "model_name": "LayoutModel",
      "state": {}
     },
     "eb0b2ae5693e48eb941cdb311bba6853": {
      "model_module": "@jupyter-widgets/controls",
      "model_module_version": "1.0.0",
      "model_name": "HTMLModel",
      "state": {
       "layout": "IPY_MODEL_751ee94b6c194873b4d57e47e153a12c",
       "style": "IPY_MODEL_91cb4a33d5304335840afe46007a3ab2",
       "value": "100% 1420/1421 [03:13&lt;00:00,  6.51it/s]"
      }
     },
     "eb10355ebeff4680aa6e8434fe97e6c1": {
      "model_module": "@jupyter-widgets/base",
      "model_module_version": "1.0.0",
      "model_name": "LayoutModel",
      "state": {}
     },
     "eb81c5fac35843ecb5146f6755a5971f": {
      "model_module": "@jupyter-widgets/controls",
      "model_module_version": "1.0.0",
      "model_name": "DescriptionStyleModel",
      "state": {
       "description_width": ""
      }
     },
     "eb844b98ae654b89b9659e685e7b610e": {
      "model_module": "@jupyter-widgets/controls",
      "model_module_version": "1.0.0",
      "model_name": "ProgressStyleModel",
      "state": {
       "description_width": "initial"
      }
     },
     "ec6117f3898843de8e631cab8a0e1ec6": {
      "model_module": "@jupyter-widgets/base",
      "model_module_version": "1.0.0",
      "model_name": "LayoutModel",
      "state": {}
     },
     "ed62afd139b849a9ab570fde3842c75a": {
      "model_module": "@jupyter-widgets/base",
      "model_module_version": "1.0.0",
      "model_name": "LayoutModel",
      "state": {}
     },
     "ed75c0285a974c90ab2086b2b821a253": {
      "model_module": "@jupyter-widgets/controls",
      "model_module_version": "1.0.0",
      "model_name": "ProgressStyleModel",
      "state": {
       "description_width": "initial"
      }
     },
     "ee2fc7cd044349b190ca00c9f3417f11": {
      "model_module": "@jupyter-widgets/controls",
      "model_module_version": "1.0.0",
      "model_name": "ProgressStyleModel",
      "state": {
       "description_width": "initial"
      }
     },
     "f022e96fdc554423944a2f01dee232dd": {
      "model_module": "@jupyter-widgets/controls",
      "model_module_version": "1.0.0",
      "model_name": "ProgressStyleModel",
      "state": {
       "description_width": "initial"
      }
     },
     "f0510326a99548fbb06f73cfede8ae5e": {
      "model_module": "@jupyter-widgets/controls",
      "model_module_version": "1.0.0",
      "model_name": "IntProgressModel",
      "state": {
       "description": "EP 5",
       "layout": "IPY_MODEL_c7d4431a85eb4f57b7cd8d0f65a446d3",
       "max": 1421,
       "style": "IPY_MODEL_834225e94d6f42f8b819b1dd53401932",
       "value": 1421
      }
     },
     "f1694f89cc014ae99a0ef51c1e733bfd": {
      "model_module": "@jupyter-widgets/controls",
      "model_module_version": "1.0.0",
      "model_name": "IntProgressModel",
      "state": {
       "bar_style": "success",
       "description": "Load germeva",
       "layout": "IPY_MODEL_1c551f2a918a4064830193c09af53d6c",
       "max": 1,
       "style": "IPY_MODEL_1e6b95f7d7c0445a8c151f0f897bd881",
       "value": 1
      }
     },
     "f181ff59a812401abedf82ddc799779b": {
      "model_module": "@jupyter-widgets/controls",
      "model_module_version": "1.0.0",
      "model_name": "ProgressStyleModel",
      "state": {
       "description_width": "initial"
      }
     },
     "f213feb1191b43129d6ba66a5c584201": {
      "model_module": "@jupyter-widgets/controls",
      "model_module_version": "1.0.0",
      "model_name": "IntProgressModel",
      "state": {
       "bar_style": "success",
       "description": "Load germeva",
       "layout": "IPY_MODEL_f7d60ff2d0644847bb3d45821c8572a4",
       "max": 1,
       "style": "IPY_MODEL_cb5b858f036b4729a39340658ebdbb74",
       "value": 1
      }
     },
     "f25960612f0443f79456158d494bd22b": {
      "model_module": "@jupyter-widgets/controls",
      "model_module_version": "1.0.0",
      "model_name": "DescriptionStyleModel",
      "state": {
       "description_width": ""
      }
     },
     "f41931a0a0924e089074befa1a6ca486": {
      "model_module": "@jupyter-widgets/controls",
      "model_module_version": "1.0.0",
      "model_name": "ProgressStyleModel",
      "state": {
       "description_width": "initial"
      }
     },
     "f45877b7ef59425abc1ddb67ccd2a89a": {
      "model_module": "@jupyter-widgets/controls",
      "model_module_version": "1.0.0",
      "model_name": "ProgressStyleModel",
      "state": {
       "description_width": "initial"
      }
     },
     "f73ca9d78a724e398d3797aef066ae1d": {
      "model_module": "@jupyter-widgets/controls",
      "model_module_version": "1.0.0",
      "model_name": "DescriptionStyleModel",
      "state": {
       "description_width": ""
      }
     },
     "f7b08645832a4b9b8328e88e7812c38c": {
      "model_module": "@jupyter-widgets/controls",
      "model_module_version": "1.0.0",
      "model_name": "IntProgressModel",
      "state": {
       "description": "Evaluation",
       "layout": "IPY_MODEL_86f8ed3c92724f0fa90d61ad0ca5af64",
       "max": 2049,
       "style": "IPY_MODEL_eb844b98ae654b89b9659e685e7b610e",
       "value": 2049
      }
     },
     "f7d60ff2d0644847bb3d45821c8572a4": {
      "model_module": "@jupyter-widgets/base",
      "model_module_version": "1.0.0",
      "model_name": "LayoutModel",
      "state": {}
     },
     "f7f4ea03e56546d085b5455758c81d4d": {
      "model_module": "@jupyter-widgets/base",
      "model_module_version": "1.0.0",
      "model_name": "LayoutModel",
      "state": {}
     },
     "f832e32720ec4a9fbbe1b6a6f9e540dd": {
      "model_module": "@jupyter-widgets/base",
      "model_module_version": "1.0.0",
      "model_name": "LayoutModel",
      "state": {}
     },
     "f9a56d8d41ea4bc182d2821e5bc9823a": {
      "model_module": "@jupyter-widgets/base",
      "model_module_version": "1.0.0",
      "model_name": "LayoutModel",
      "state": {}
     },
     "fc35f2c1adbf4899a6a64c43a9acc058": {
      "model_module": "@jupyter-widgets/controls",
      "model_module_version": "1.0.0",
      "model_name": "IntProgressModel",
      "state": {
       "bar_style": "success",
       "description": "Load germeva",
       "layout": "IPY_MODEL_0f58dc6473424071acbe87d8c63c0694",
       "max": 1,
       "style": "IPY_MODEL_9df557ed1fd54c348c919877b5f7591b",
       "value": 1
      }
     },
     "fd856a4ad5bf46918d23c2c38ad5e05f": {
      "model_module": "@jupyter-widgets/controls",
      "model_module_version": "1.0.0",
      "model_name": "DescriptionStyleModel",
      "state": {
       "description_width": ""
      }
     },
     "fef6105b9cfa49098113ab9085ddf5d7": {
      "model_module": "@jupyter-widgets/controls",
      "model_module_version": "1.0.0",
      "model_name": "HTMLModel",
      "state": {
       "layout": "IPY_MODEL_7b10657f69264061bffe9df98984d466",
       "style": "IPY_MODEL_a0b501b4a16a466eb020b9fb3d6708b6",
       "value": "100% 1420/1421 [01:24&lt;00:00, 15.91it/s]"
      }
     },
     "ff01acbfa535449a99032dc7b0b97275": {
      "model_module": "@jupyter-widgets/controls",
      "model_module_version": "1.0.0",
      "model_name": "HTMLModel",
      "state": {
       "layout": "IPY_MODEL_047a5c4b2c78478fa341b882880e5161",
       "style": "IPY_MODEL_deaa796fdcba47f59e6f2e4831c52b0f",
       "value": "100% 2049/2049 [00:56&lt;00:00, 36.74it/s]"
      }
     },
     "ffb7ac44391b4215bb5b4f7f5d2359a1": {
      "model_module": "@jupyter-widgets/base",
      "model_module_version": "1.0.0",
      "model_name": "LayoutModel",
      "state": {}
     }
    },
    "version_major": 2,
    "version_minor": 0
   }
  }
 },
 "nbformat": 4,
 "nbformat_minor": 2
}
