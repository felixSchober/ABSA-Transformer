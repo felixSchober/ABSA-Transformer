{
 "cells": [
  {
   "cell_type": "markdown",
   "metadata": {},
   "source": [
    "# Aspect 1\n",
    "\n",
    "- N/A        99 sample\n",
    "- Sentiment   1 sample"
   ]
  },
  {
   "cell_type": "code",
   "execution_count": 12,
   "metadata": {
    "collapsed": true
   },
   "outputs": [],
   "source": [
    "def get_f1(tp, fp, fn):\n",
    "    p = get_pr(tp, fp)\n",
    "    r = get_recall(tp, fn)\n",
    "    \n",
    "    if (p+r) == 0:\n",
    "        return 0\n",
    "    return 2 * (p*r)/(p+r)\n",
    "\n",
    "def get_pr(tp, fp):\n",
    "    if (tp+fn) == 0:\n",
    "        return 0\n",
    "    return tp / (tp + fp)\n",
    "def get_recall(tp, fn):\n",
    "    if (tp+fn) == 0:\n",
    "        return 0\n",
    "    return tp / (tp + fn)"
   ]
  },
  {
   "cell_type": "code",
   "execution_count": 13,
   "metadata": {},
   "outputs": [
    {
     "name": "stdout",
     "output_type": "stream",
     "text": [
      "n/a f1: 0.9949748743718593\n",
      "sentiment f1: 0\n"
     ]
    }
   ],
   "source": [
    "# n/a\n",
    "na_tp = 99\n",
    "na_fp = 1\n",
    "na_fn = 0\n",
    "na_f1 = get_f1(na_tp, na_fp, na_fn)\n",
    "\n",
    "print(f'n/a f1: {na_f1}')\n",
    "\n",
    "# sentiment\n",
    "s_tp = 0\n",
    "s_fp = 0\n",
    "s_fn = 1\n",
    "s_f1 = get_f1(s_tp, s_fp, s_fn)\n",
    "\n",
    "print(f'sentiment f1: {s_f1}')\n"
   ]
  },
  {
   "cell_type": "markdown",
   "metadata": {},
   "source": [
    "## On Aspect Level"
   ]
  },
  {
   "cell_type": "code",
   "execution_count": 15,
   "metadata": {},
   "outputs": [
    {
     "name": "stdout",
     "output_type": "stream",
     "text": [
      "Micro f1: 0.99\n",
      "Micro f1: 0.99\n",
      "Macro f1: 0.49748743718592964\n"
     ]
    }
   ],
   "source": [
    "print(f'Micro f1: {get_f1(na_tp + s_tp, na_fp + s_fp, na_fn + s_fn)}')\n",
    "print(f'Micro f1: {get_f1(99, 1, 1)}')\n",
    "\n",
    "print(f'Macro f1: {(na_f1 + s_f1)/2}')"
   ]
  },
  {
   "cell_type": "markdown",
   "metadata": {},
   "source": [
    "## Micro f1:\n",
    "Calculate metrics globally by counting the **total** true positives, false negatives and false positives.\n",
    "\n",
    "## Macro f1:\n",
    "Calculate metrics for **each label**, and find their **unweighted mean**. This does not take **label imbalance** into account."
   ]
  },
  {
   "cell_type": "code",
   "execution_count": null,
   "metadata": {
    "collapsed": true
   },
   "outputs": [],
   "source": []
  }
 ],
 "metadata": {
  "kernelspec": {
   "display_name": "Python 3",
   "language": "python",
   "name": "python3"
  },
  "language_info": {
   "codemirror_mode": {
    "name": "ipython",
    "version": 3
   },
   "file_extension": ".py",
   "mimetype": "text/x-python",
   "name": "python",
   "nbconvert_exporter": "python",
   "pygments_lexer": "ipython3",
   "version": "3.6.1"
  }
 },
 "nbformat": 4,
 "nbformat_minor": 2
}
