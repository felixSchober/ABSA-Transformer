{
 "cells": [
  {
   "cell_type": "code",
   "execution_count": 1,
   "metadata": {},
   "outputs": [
    {
     "name": "stderr",
     "output_type": "stream",
     "text": [
      "C:\\Users\\felix\\Anaconda3\\lib\\site-packages\\tqdm\\autonotebook\\__init__.py:14: TqdmExperimentalWarning: Using `tqdm.autonotebook.tqdm` in notebook mode. Use `tqdm.tqdm` instead to force console mode (e.g. in jupyter console)\n",
      "  \" (e.g. in jupyter console)\", TqdmExperimentalWarning)\n"
     ]
    }
   ],
   "source": [
    "import matplotlib\n",
    "import copy\n",
    "import logging\n",
    "#import torch\n",
    "\n",
    "#from tqdm.autonotebook import tqdm\n",
    "\n",
    "from data.data_loader import Dataset\n",
    "from data.germeval2017 import germeval2017_dataset\n",
    "\n",
    "from misc.preferences import PREFERENCES\n",
    "#from misc.visualizer import *\n",
    "from misc.run_configuration import get_default_params, randomize_params\n",
    "from misc import utils\n",
    "\n",
    "from optimizer import get_default_optimizer\n",
    "from criterion import NllLoss, LossCombiner\n",
    "\n",
    "from models.transformer.encoder import TransformerEncoder\n",
    "from models.softmax_output import SoftmaxOutputLayerWithCommentWiseClass\n",
    "from models.transformer_tagger import TransformerTagger\n",
    "from models.jointAspectTagger import JointAspectTagger\n",
    "from models.transformer.train import Trainer\n",
    "import pprint"
   ]
  },
  {
   "cell_type": "code",
   "execution_count": 2,
   "metadata": {
    "collapsed": true
   },
   "outputs": [],
   "source": [
    "PREFERENCES.defaults(\n",
    "    data_root='./data/germeval2017',\n",
    "    data_train='train_v1.4.tsv',    \n",
    "    data_validation='dev_v1.4.tsv',\n",
    "    data_test='test_TIMESTAMP1.tsv',\n",
    "    early_stopping='highest_5_F1'\n",
    ")\n",
    "def load(hp, logger):\n",
    "    dataset = Dataset(\n",
    "        'germeval',\n",
    "        logger,\n",
    "        hp,\n",
    "        source_index=0,\n",
    "        target_vocab_index=2,\n",
    "        data_path=PREFERENCES.data_root,\n",
    "        train_file=PREFERENCES.data_train,\n",
    "        valid_file=PREFERENCES.data_validation,\n",
    "        test_file=PREFERENCES.data_test,\n",
    "        file_format='.tsv',\n",
    "        init_token=None,\n",
    "        eos_token=None\n",
    "    )\n",
    "    dataset.load_data(germeval2017_dataset, verbose=False)\n",
    "    return dataset"
   ]
  },
  {
   "cell_type": "code",
   "execution_count": 3,
   "metadata": {
    "collapsed": true
   },
   "outputs": [],
   "source": [
    "def load_model(dataset, hp, experiment_name):\n",
    "    loss = LossCombiner(4, dataset.class_weights, NllLoss)\n",
    "    transformer = TransformerEncoder(dataset.source_embedding,\n",
    "                                     hyperparameters=hp)\n",
    "    tagging_softmax = SoftmaxOutputLayerWithCommentWiseClass(hp.model_size, dataset.target_size)\n",
    "    model = JointAspectTagger(transformer, hp.model_size, 4, 20, dataset.target_names)\n",
    "    optimizer = get_default_optimizer(model, hp)\n",
    "    trainer = Trainer(\n",
    "                        model,\n",
    "                        loss,\n",
    "                        optimizer,\n",
    "                        hp,\n",
    "                        dataset,\n",
    "                        experiment_name,\n",
    "                        enable_tensorboard=False,\n",
    "                        verbose=False)\n",
    "    return trainer"
   ]
  },
  {
   "cell_type": "code",
   "execution_count": 4,
   "metadata": {
    "collapsed": true
   },
   "outputs": [],
   "source": [
    "experiment_name = 'Bla'\n",
    "use_cuda = True"
   ]
  },
  {
   "cell_type": "code",
   "execution_count": 5,
   "metadata": {},
   "outputs": [
    {
     "name": "stdout",
     "output_type": "stream",
     "text": [
      "Log path is  C:\\Users\\felix\\OneDrive\\Studium\\Studium\\6. Semester\\MA\\Project\\ABSA-Transformer\\logs\\Bla\\20190222\\10\n"
     ]
    }
   ],
   "source": [
    "# get general logger just for search\n",
    "experiment_name = utils.create_loggers(experiment_name=experiment_name)\n",
    "logger = logging.getLogger(__name__)\n",
    "logger.info('Run hyper parameter random grid search for experiment with name ' + experiment_name)"
   ]
  },
  {
   "cell_type": "code",
   "execution_count": 6,
   "metadata": {},
   "outputs": [],
   "source": [
    "utils.get_current_git_commit()\n",
    "logger.info('Current commit: ' + utils.get_current_git_commit())"
   ]
  },
  {
   "cell_type": "code",
   "execution_count": 7,
   "metadata": {},
   "outputs": [],
   "source": [
    "num_optim_iterations = 2\n",
    "logger.info('num_optim_iterations: ' + str(num_optim_iterations))"
   ]
  },
  {
   "cell_type": "code",
   "execution_count": 8,
   "metadata": {},
   "outputs": [],
   "source": [
    "random_grid_search_ranges = {\n",
    "    'batch_size': (1, 15),\n",
    "    'num_encoder_blocks': (1, 10),\n",
    "    'pointwise_layer_size': (32, 4000),\n",
    "    'clip_comments_to': (12, 500),\n",
    "    'learning_rate': (0, 1e-2),\n",
    "    'learning_rate_factor': (1e-3, 4),\n",
    "    'learning_rate_warmup': (1000, 10000),\n",
    "    'optim_adam_beta1': (0.5, 0.99),\n",
    "    'optim_adam_beta2': (0.5, 0.99),\n",
    "    'dropout_rate': (0, 0.8),\n",
    "    'transformer_config': {\n",
    "        'transformer_heads': [1, 2, 3, 4, 5, 6, 10, 12, 15, 20]\n",
    "    }\n",
    "}\n",
    "logger.info(pprint.pformat(random_grid_search_ranges, indent=2))"
   ]
  },
  {
   "cell_type": "code",
   "execution_count": 9,
   "metadata": {},
   "outputs": [
    {
     "name": "stdout",
     "output_type": "stream",
     "text": [
      "+------------------------------------+\n",
      "|          Hyperparameters           |\n",
      "+-------------------------+----------+\n",
      "|        Parameter        |  Value   |\n",
      "+-------------------------+----------+\n",
      "|        batch_size       |    12    |\n",
      "|        model_size       |   300    |\n",
      "|    learning_rate_type   |   noam   |\n",
      "|      learning_rate      |    0     |\n",
      "|   learning_rate_warmup  |   4800   |\n",
      "|   learning_rate_factor  |    2     |\n",
      "|     optim_adam_beta1    |   0.9    |\n",
      "|     optim_adam_beta2    |   0.98   |\n",
      "|      early_stopping     |    5     |\n",
      "|         use_cuda        |   True   |\n",
      "|       n_enc_blocks      |    3     |\n",
      "|         n_heads         |    6     |\n",
      "|           d_k           |    50    |\n",
      "|           d_v           |    50    |\n",
      "|       dropout_rate      |   0.1    |\n",
      "|   pointwise_layer_size  |   2048   |\n",
      "| log_every_xth_iteration |    -1    |\n",
      "|        num_epochs       |    1     |\n",
      "|      embedding_type     | fasttext |\n",
      "|      embedding_name     |    6B    |\n",
      "|      embedding_dim      |   300    |\n",
      "|     clip_comments_to    |   100    |\n",
      "|         language        |    de    |\n",
      "|      use_stop_words     |   True   |\n",
      "|           seed          |    42    |\n",
      "+-------------------------+----------+\n"
     ]
    }
   ],
   "source": [
    "default_hp = get_default_params(use_cuda)\n",
    "logger.info(default_hp)\n",
    "print(default_hp)"
   ]
  },
  {
   "cell_type": "code",
   "execution_count": null,
   "metadata": {
    "scrolled": false
   },
   "outputs": [
    {
     "name": "stdout",
     "output_type": "stream",
     "text": [
      "\n",
      "\n",
      "+-------------------------------------------------+\n",
      "Optim Iteration: 0\n",
      "\n",
      "\n",
      "+-------------------------------------------------+\n",
      "|                 Hyperparameters                 |\n",
      "+-------------------------+-----------------------+\n",
      "|        Parameter        |         Value         |\n",
      "+-------------------------+-----------------------+\n",
      "|        batch_size       |           5           |\n",
      "|        model_size       |          300          |\n",
      "|    learning_rate_type   |          noam         |\n",
      "|      learning_rate      | 0.0023524448674036857 |\n",
      "|   learning_rate_warmup  |   1606.0264351324481  |\n",
      "|   learning_rate_factor  |   3.8200355155732253  |\n",
      "|     optim_adam_beta1    |   0.7730890504317591  |\n",
      "|     optim_adam_beta2    |   0.5286886211351404  |\n",
      "|      early_stopping     |           5           |\n",
      "|         use_cuda        |          True         |\n",
      "|       n_enc_blocks      |           2           |\n",
      "|         n_heads         |           6           |\n",
      "|           d_k           |           50          |\n",
      "|           d_v           |           50          |\n",
      "|       dropout_rate      |   0.5369764894264162  |\n",
      "|   pointwise_layer_size  |          1914         |\n",
      "| log_every_xth_iteration |           -1          |\n",
      "|        num_epochs       |           1           |\n",
      "|      embedding_type     |        fasttext       |\n",
      "|      embedding_name     |           6B          |\n",
      "|      embedding_dim      |          300          |\n",
      "|     clip_comments_to    |           24          |\n",
      "|         language        |           de          |\n",
      "|      use_stop_words     |          True         |\n",
      "|           seed          |           42          |\n",
      "+-------------------------+-----------------------+\n"
     ]
    },
    {
     "data": {
      "application/vnd.jupyter.widget-view+json": {
       "model_id": "53e475890a45418ab3266327b9e1cccf",
       "version_major": 2,
       "version_minor": 0
      },
      "text/plain": [
       "A Jupyter Widget"
      ]
     },
     "metadata": {},
     "output_type": "display_data"
    },
    {
     "name": "stdout",
     "output_type": "stream",
     "text": [
      "\n",
      "Trying to save loaded dataset to C:\\Users\\felix\\OneDrive\\Studium\\Studium\\6. Semester\\MA\\Project\\ABSA-Transformer\\data\\cache\\train_v1.pkl.\n",
      "Model train_v1 successfully saved.\n"
     ]
    },
    {
     "data": {
      "application/vnd.jupyter.widget-view+json": {
       "model_id": "28294a7debe7402e8bf1b6c3e42b8107",
       "version_major": 2,
       "version_minor": 0
      },
      "text/plain": [
       "A Jupyter Widget"
      ]
     },
     "metadata": {},
     "output_type": "display_data"
    },
    {
     "name": "stdout",
     "output_type": "stream",
     "text": [
      "\n",
      "Trying to save loaded dataset to C:\\Users\\felix\\OneDrive\\Studium\\Studium\\6. Semester\\MA\\Project\\ABSA-Transformer\\data\\cache\\dev_v1.pkl.\n",
      "Model dev_v1 successfully saved.\n"
     ]
    },
    {
     "data": {
      "application/vnd.jupyter.widget-view+json": {
       "model_id": "2c767ba377c6434fb585abe7d8869a79",
       "version_major": 2,
       "version_minor": 0
      },
      "text/plain": [
       "A Jupyter Widget"
      ]
     },
     "metadata": {},
     "output_type": "display_data"
    },
    {
     "name": "stdout",
     "output_type": "stream",
     "text": [
      "\n",
      "Trying to save loaded dataset to C:\\Users\\felix\\OneDrive\\Studium\\Studium\\6. Semester\\MA\\Project\\ABSA-Transformer\\data\\cache\\test_TIMESTAMP1.pkl.\n",
      "Model test_TIMESTAMP1 successfully saved.\n",
      "pre_training - DEBUG - 20 initialized\n",
      "pre_training - DEBUG - Initilize parameters with nn.init.xavier_uniform_\n",
      "pre_training - DEBUG - Tagger initialized\n",
      "\n",
      "\n",
      "\n"
     ]
    },
    {
     "data": {
      "application/vnd.jupyter.widget-view+json": {
       "model_id": "99884fb11d64452889e86c7708108a3e",
       "version_major": 2,
       "version_minor": 0
      },
      "text/plain": [
       "A Jupyter Widget"
      ]
     },
     "metadata": {},
     "output_type": "display_data"
    },
    {
     "name": "stdout",
     "output_type": "stream",
     "text": [
      "# EP\t# IT\ttr loss\t\tval loss\tf1\t\tacc\t\tduration / total time\n",
      "1\t3409\t217.19\t\t34.10\t\t0.244\t\t0.939\t\t9.36m - 9.4m / 0.0m\n",
      "\n"
     ]
    },
    {
     "data": {
      "application/vnd.jupyter.widget-view+json": {
       "model_id": "ab1a7e4c9715425ab4524b37675eb174",
       "version_major": 2,
       "version_minor": 0
      },
      "text/plain": [
       "A Jupyter Widget"
      ]
     },
     "metadata": {},
     "output_type": "display_data"
    },
    {
     "name": "stdout",
     "output_type": "stream",
     "text": [
      "\r"
     ]
    },
    {
     "data": {
      "application/vnd.jupyter.widget-view+json": {
       "model_id": "83defd86c32041cda3936d2b2effbbb1",
       "version_major": 2,
       "version_minor": 0
      },
      "text/plain": [
       "A Jupyter Widget"
      ]
     },
     "metadata": {},
     "output_type": "display_data"
    },
    {
     "name": "stdout",
     "output_type": "stream",
     "text": [
      "\r"
     ]
    },
    {
     "data": {
      "text/plain": [
       "<matplotlib.figure.Figure at 0x1dc251d6f60>"
      ]
     },
     "metadata": {},
     "output_type": "display_data"
    },
    {
     "data": {
      "text/plain": [
       "<matplotlib.figure.Figure at 0x1dcb43ef2e8>"
      ]
     },
     "metadata": {},
     "output_type": "display_data"
    },
    {
     "data": {
      "text/plain": [
       "<matplotlib.figure.Figure at 0x1dcb442f208>"
      ]
     },
     "metadata": {},
     "output_type": "display_data"
    },
    {
     "data": {
      "image/png": "[encoded data removed]",
      "text/plain": [
       "<matplotlib.figure.Figure at 0x1dcb4584c18>"
      ]
     },
     "metadata": {},
     "output_type": "display_data"
    },
    {
     "name": "stdout",
     "output_type": "stream",
     "text": [
      "+-------------------------------------------------+\n",
      "Best Valid Result: 0.24245329834802581\n",
      "+-------------------------------------------------+\n",
      "\n",
      "\n",
      "###################################################\n",
      "\n",
      "\n",
      "\n",
      "+-------------------------------------------------+\n",
      "Optim Iteration: 1\n",
      "\n",
      "\n",
      "+-------------------------------------------------+\n",
      "|                 Hyperparameters                 |\n",
      "+-------------------------+-----------------------+\n",
      "|        Parameter        |         Value         |\n",
      "+-------------------------+-----------------------+\n",
      "|        batch_size       |           11          |\n",
      "|        model_size       |          300          |\n",
      "|    learning_rate_type   |          noam         |\n",
      "|      learning_rate      | 0.0027502931836911925 |\n",
      "|   learning_rate_warmup  |   7628.240927476111   |\n",
      "|   learning_rate_factor  |   0.8936197418571422  |\n",
      "|     optim_adam_beta1    |   0.8315827488372265  |\n",
      "|     optim_adam_beta2    |   0.9371679881753743  |\n",
      "|      early_stopping     |           5           |\n",
      "|         use_cuda        |          True         |\n",
      "|       n_enc_blocks      |           2           |\n",
      "|         n_heads         |           10          |\n",
      "|           d_k           |           30          |\n",
      "|           d_v           |           30          |\n",
      "|       dropout_rate      |  0.06955106610353293  |\n",
      "|   pointwise_layer_size  |          134          |\n",
      "| log_every_xth_iteration |           -1          |\n",
      "|        num_epochs       |           1           |\n",
      "|      embedding_type     |        fasttext       |\n",
      "|      embedding_name     |           6B          |\n",
      "|      embedding_dim      |          300          |\n",
      "|     clip_comments_to    |          391          |\n",
      "|         language        |           de          |\n",
      "|      use_stop_words     |          True         |\n",
      "|           seed          |           42          |\n",
      "+-------------------------+-----------------------+\n"
     ]
    },
    {
     "data": {
      "application/vnd.jupyter.widget-view+json": {
       "model_id": "e552213bcdf14af283b36d464bfbb7d4",
       "version_major": 2,
       "version_minor": 0
      },
      "text/plain": [
       "A Jupyter Widget"
      ]
     },
     "metadata": {},
     "output_type": "display_data"
    },
    {
     "name": "stdout",
     "output_type": "stream",
     "text": [
      "\n",
      "Trying to save loaded dataset to C:\\Users\\felix\\OneDrive\\Studium\\Studium\\6. Semester\\MA\\Project\\ABSA-Transformer\\data\\cache\\train_v1.pkl.\n",
      "Model train_v1 successfully saved.\n"
     ]
    },
    {
     "data": {
      "application/vnd.jupyter.widget-view+json": {
       "model_id": "cbb948a845004d8eb6244968a6091060",
       "version_major": 2,
       "version_minor": 0
      },
      "text/plain": [
       "A Jupyter Widget"
      ]
     },
     "metadata": {},
     "output_type": "display_data"
    },
    {
     "name": "stdout",
     "output_type": "stream",
     "text": [
      "\n",
      "Trying to save loaded dataset to C:\\Users\\felix\\OneDrive\\Studium\\Studium\\6. Semester\\MA\\Project\\ABSA-Transformer\\data\\cache\\dev_v1.pkl.\n",
      "Model dev_v1 successfully saved.\n"
     ]
    },
    {
     "data": {
      "application/vnd.jupyter.widget-view+json": {
       "model_id": "fca65ac0240c425bbc5caed02d895541",
       "version_major": 2,
       "version_minor": 0
      },
      "text/plain": [
       "A Jupyter Widget"
      ]
     },
     "metadata": {},
     "output_type": "display_data"
    },
    {
     "name": "stdout",
     "output_type": "stream",
     "text": [
      "\n",
      "Trying to save loaded dataset to C:\\Users\\felix\\OneDrive\\Studium\\Studium\\6. Semester\\MA\\Project\\ABSA-Transformer\\data\\cache\\test_TIMESTAMP1.pkl.\n",
      "Model test_TIMESTAMP1 successfully saved.\n",
      "pre_training - DEBUG - 20 initialized\n",
      "pre_training - DEBUG - Initilize parameters with nn.init.xavier_uniform_\n",
      "pre_training - DEBUG - Tagger initialized\n",
      "\n",
      "\n",
      "\n"
     ]
    },
    {
     "data": {
      "application/vnd.jupyter.widget-view+json": {
       "model_id": "541b6123624342968a51a2bb610774ec",
       "version_major": 2,
       "version_minor": 0
      },
      "text/plain": [
       "A Jupyter Widget"
      ]
     },
     "metadata": {},
     "output_type": "display_data"
    }
   ],
   "source": [
    "dataset_logger = logging.getLogger('data_loader')\n",
    "best_f1 = 0.0\n",
    "best_model = None\n",
    "best_hp = None\n",
    "best_iteration = -1\n",
    "for optim_iteration in range(num_optim_iterations):\n",
    "        \n",
    "    print(f'\\n\\n+-------------------------------------------------+\\nOptim Iteration: {optim_iteration}\\n\\n')\n",
    "    logger.info(f'\\n\\n=================================\\nOptim Iteration: {optim_iteration}\\n=================================')\n",
    "    \n",
    "    # generate iteration hyper parameters\n",
    "    hp = randomize_params(default_hp, random_grid_search_ranges)\n",
    "        \n",
    "    logger.info('New Params:')\n",
    "    logger.info(hp)\n",
    "    print(hp)\n",
    "    \n",
    "    logger.debug('Load dataset')\n",
    "    dataset = load(hp, dataset_logger)\n",
    "    logger.debug('dataset loaded')\n",
    "    logger.debug('Load model')\n",
    "    trainer = load_model(dataset, hp, experiment_name)\n",
    "    logger.debug('model loaded')\n",
    "    \n",
    "    logger.debug('Begin training')\n",
    "    model = None\n",
    "    try:\n",
    "        result = trainer.train(use_cuda=hp.use_cuda, perform_evaluation=False)\n",
    "        model = result['model']\n",
    "    except Exception as err:\n",
    "        logger.exception(\"Could not complete iteration \" + str(optim_iteration))\n",
    "        print(f'Could not complete iteration {optim_iteration} because of {str(err)}')\n",
    "        continue\n",
    "        \n",
    "    # perform evaluation and log results\n",
    "    result = None\n",
    "    try:\n",
    "        result = trainer.perform_final_evaluation(use_test_set=False, verbose=False)\n",
    "    except Exception as err:\n",
    "        logger.exception(\"Could not complete iteration evaluation for it \" + str(optim_iteration))\n",
    "        print(f'Could not complete iteration {optim_iteration} evaluation because of {str(err)}')\n",
    "        continue\n",
    "    \n",
    "    it_f1 = result[1][1]\n",
    "    if best_f1 < it_f1:\n",
    "        best_f1 = it_f1\n",
    "        best_model = model\n",
    "        best_hp = copy.copy(hp)\n",
    "        best_iteration = optim_iteration\n",
    "        print('+-------------------------------------------------+')\n",
    "        print(f'Best Valid Result: {best_f1}')\n",
    "        print('+-------------------------------------------------+')\n",
    "    else:\n",
    "        print(f'\\nValid Result: {best_f1}\\n')    \n",
    "    print('\\n\\n###################################################\\n')\n",
    "    \n",
    "print('Best iteration: ' + str(best_iteration))\n",
    "print('Best f1: ' + str(best_f1))\n",
    "print('Best HP:')\n",
    "print(best_hp)"
   ]
  },
  {
   "cell_type": "code",
   "execution_count": null,
   "metadata": {
    "collapsed": true
   },
   "outputs": [],
   "source": []
  },
  {
   "cell_type": "code",
   "execution_count": null,
   "metadata": {
    "collapsed": true
   },
   "outputs": [],
   "source": []
  }
 ],
 "metadata": {
  "kernelspec": {
   "display_name": "Python 3",
   "language": "python",
   "name": "python3"
  },
  "language_info": {
   "codemirror_mode": {
    "name": "ipython",
    "version": 3
   },
   "file_extension": ".py",
   "mimetype": "text/x-python",
   "name": "python",
   "nbconvert_exporter": "python",
   "pygments_lexer": "ipython3",
   "version": "3.6.1"
  }
 },
 "nbformat": 4,
 "nbformat_minor": 2
}
