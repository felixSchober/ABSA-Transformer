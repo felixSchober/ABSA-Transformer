{
 "cells": [
  {
   "cell_type": "code",
   "execution_count": 4,
   "metadata": {
    "collapsed": true
   },
   "outputs": [],
   "source": [
    "import pandas as pd\n",
    "from matplotlib import pyplot as plt\n",
    "%matplotlib inline\n",
    "import seaborn as sns\n",
    "import time"
   ]
  },
  {
   "cell_type": "code",
   "execution_count": 2,
   "metadata": {
    "collapsed": true
   },
   "outputs": [],
   "source": [
    "# create dataframe suitable for data logging\n",
    "df = pd.DataFrame()"
   ]
  },
  {
   "cell_type": "code",
   "execution_count": 5,
   "metadata": {},
   "outputs": [
    {
     "data": {
      "text/plain": [
       "1553019024.684313"
      ]
     },
     "execution_count": 5,
     "metadata": {},
     "output_type": "execute_result"
    }
   ],
   "source": [
    "time.time()"
   ]
  },
  {
   "cell_type": "code",
   "execution_count": 10,
   "metadata": {},
   "outputs": [],
   "source": [
    "ep_stats = {\n",
    "    'epoch': 0,\n",
    "    'iteration': 1000,\n",
    "    'sample_iteration': 10000,\n",
    "    'start_time': time.time() - 10000,\n",
    "    'end_time': time.time() - 10000,\n",
    "    'train_loss': 10.46,\n",
    "    'valid_loss': 9.92,\n",
    "    'train_f1': 0.45,\n",
    "    'valid_f1': 0.244,\n",
    "    'valid_accuracy': 0.945,\n",
    "    'duration': 4.8,\n",
    "    'current_lr': 0.9\n",
    "}\n",
    "df = df.append(ep_stats, ignore_index=True)"
   ]
  },
  {
   "cell_type": "code",
   "execution_count": 11,
   "metadata": {},
   "outputs": [
    {
     "data": {
      "text/html": [
       "<div>\n",
       "<style>\n",
       "    .dataframe thead tr:only-child th {\n",
       "        text-align: right;\n",
       "    }\n",
       "\n",
       "    .dataframe thead th {\n",
       "        text-align: left;\n",
       "    }\n",
       "\n",
       "    .dataframe tbody tr th {\n",
       "        vertical-align: top;\n",
       "    }\n",
       "</style>\n",
       "<table border=\"1\" class=\"dataframe\">\n",
       "  <thead>\n",
       "    <tr style=\"text-align: right;\">\n",
       "      <th></th>\n",
       "      <th>current_lr</th>\n",
       "      <th>duration</th>\n",
       "      <th>end_time</th>\n",
       "      <th>epoch</th>\n",
       "      <th>iteration</th>\n",
       "      <th>sample_iteration</th>\n",
       "      <th>start_time</th>\n",
       "      <th>train_f1</th>\n",
       "      <th>train_loss</th>\n",
       "      <th>valid_accuracy</th>\n",
       "      <th>valid_f1</th>\n",
       "      <th>valid_loss</th>\n",
       "    </tr>\n",
       "  </thead>\n",
       "  <tbody>\n",
       "    <tr>\n",
       "      <th>0</th>\n",
       "      <td>0.9</td>\n",
       "      <td>4.8</td>\n",
       "      <td>1.553023e+09</td>\n",
       "      <td>0.0</td>\n",
       "      <td>1000.0</td>\n",
       "      <td>10000.0</td>\n",
       "      <td>1.553023e+09</td>\n",
       "      <td>0.45</td>\n",
       "      <td>10.46</td>\n",
       "      <td>0.945</td>\n",
       "      <td>0.244</td>\n",
       "      <td>9.92</td>\n",
       "    </tr>\n",
       "  </tbody>\n",
       "</table>\n",
       "</div>"
      ],
      "text/plain": [
       "   current_lr  duration      end_time  epoch  iteration  sample_iteration  \\\n",
       "0         0.9       4.8  1.553023e+09    0.0     1000.0           10000.0   \n",
       "\n",
       "     start_time  train_f1  train_loss  valid_accuracy  valid_f1  valid_loss  \n",
       "0  1.553023e+09      0.45       10.46           0.945     0.244        9.92  "
      ]
     },
     "execution_count": 11,
     "metadata": {},
     "output_type": "execute_result"
    }
   ],
   "source": [
    "df"
   ]
  },
  {
   "cell_type": "code",
   "execution_count": 12,
   "metadata": {
    "collapsed": true
   },
   "outputs": [],
   "source": [
    "ep_stats = {\n",
    "    'epoch': 1,\n",
    "    'iteration': 1000,\n",
    "    'sample_iteration': 10000,\n",
    "    'start_time': time.time() - 10000,\n",
    "    'end_time': time.time() - 10000,\n",
    "    'train_loss': 10.46,\n",
    "    'valid_loss': 9.92,\n",
    "    'train_f1': 0.45,\n",
    "    'valid_f1': 0.244,\n",
    "    'valid_accuracy': 0.945,\n",
    "    'duration': 4.8,\n",
    "    'current_lr': 0.9\n",
    "}\n",
    "df = df.append(ep_stats, ignore_index=True)"
   ]
  },
  {
   "cell_type": "code",
   "execution_count": 13,
   "metadata": {},
   "outputs": [
    {
     "data": {
      "text/html": [
       "<div>\n",
       "<style>\n",
       "    .dataframe thead tr:only-child th {\n",
       "        text-align: right;\n",
       "    }\n",
       "\n",
       "    .dataframe thead th {\n",
       "        text-align: left;\n",
       "    }\n",
       "\n",
       "    .dataframe tbody tr th {\n",
       "        vertical-align: top;\n",
       "    }\n",
       "</style>\n",
       "<table border=\"1\" class=\"dataframe\">\n",
       "  <thead>\n",
       "    <tr style=\"text-align: right;\">\n",
       "      <th></th>\n",
       "      <th>current_lr</th>\n",
       "      <th>duration</th>\n",
       "      <th>end_time</th>\n",
       "      <th>epoch</th>\n",
       "      <th>iteration</th>\n",
       "      <th>sample_iteration</th>\n",
       "      <th>start_time</th>\n",
       "      <th>train_f1</th>\n",
       "      <th>train_loss</th>\n",
       "      <th>valid_accuracy</th>\n",
       "      <th>valid_f1</th>\n",
       "      <th>valid_loss</th>\n",
       "    </tr>\n",
       "  </thead>\n",
       "  <tbody>\n",
       "    <tr>\n",
       "      <th>0</th>\n",
       "      <td>0.9</td>\n",
       "      <td>4.8</td>\n",
       "      <td>1.553023e+09</td>\n",
       "      <td>0.0</td>\n",
       "      <td>1000.0</td>\n",
       "      <td>10000.0</td>\n",
       "      <td>1.553023e+09</td>\n",
       "      <td>0.45</td>\n",
       "      <td>10.46</td>\n",
       "      <td>0.945</td>\n",
       "      <td>0.244</td>\n",
       "      <td>9.92</td>\n",
       "    </tr>\n",
       "    <tr>\n",
       "      <th>1</th>\n",
       "      <td>0.9</td>\n",
       "      <td>4.8</td>\n",
       "      <td>1.553023e+09</td>\n",
       "      <td>1.0</td>\n",
       "      <td>1000.0</td>\n",
       "      <td>10000.0</td>\n",
       "      <td>1.553023e+09</td>\n",
       "      <td>0.45</td>\n",
       "      <td>10.46</td>\n",
       "      <td>0.945</td>\n",
       "      <td>0.244</td>\n",
       "      <td>9.92</td>\n",
       "    </tr>\n",
       "  </tbody>\n",
       "</table>\n",
       "</div>"
      ],
      "text/plain": [
       "   current_lr  duration      end_time  epoch  iteration  sample_iteration  \\\n",
       "0         0.9       4.8  1.553023e+09    0.0     1000.0           10000.0   \n",
       "1         0.9       4.8  1.553023e+09    1.0     1000.0           10000.0   \n",
       "\n",
       "     start_time  train_f1  train_loss  valid_accuracy  valid_f1  valid_loss  \n",
       "0  1.553023e+09      0.45       10.46           0.945     0.244        9.92  \n",
       "1  1.553023e+09      0.45       10.46           0.945     0.244        9.92  "
      ]
     },
     "execution_count": 13,
     "metadata": {},
     "output_type": "execute_result"
    }
   ],
   "source": [
    "df"
   ]
  },
  {
   "cell_type": "code",
   "execution_count": 14,
   "metadata": {
    "collapsed": true
   },
   "outputs": [],
   "source": [
    "ep_stats = {\n",
    "    'epoch': 0,\n",
    "    'iteration': 1000,\n",
    "    'sample_iteration': 10000,\n",
    "    'start_time': time.time() - 10000,\n",
    "    'end_time': time.time() - 10000,\n",
    "    'train_loss': 10.46,\n",
    "    'valid_loss': 9.92,\n",
    "    'train_f1': 0.45,\n",
    "    'valid_f1': 0.244,\n",
    "    'valid_accuracy': 0.945,\n",
    "    'duration': 4.8\n",
    "}\n",
    "df = df.append(ep_stats, ignore_index=True)"
   ]
  },
  {
   "cell_type": "code",
   "execution_count": 15,
   "metadata": {},
   "outputs": [
    {
     "data": {
      "text/html": [
       "<div>\n",
       "<style>\n",
       "    .dataframe thead tr:only-child th {\n",
       "        text-align: right;\n",
       "    }\n",
       "\n",
       "    .dataframe thead th {\n",
       "        text-align: left;\n",
       "    }\n",
       "\n",
       "    .dataframe tbody tr th {\n",
       "        vertical-align: top;\n",
       "    }\n",
       "</style>\n",
       "<table border=\"1\" class=\"dataframe\">\n",
       "  <thead>\n",
       "    <tr style=\"text-align: right;\">\n",
       "      <th></th>\n",
       "      <th>current_lr</th>\n",
       "      <th>duration</th>\n",
       "      <th>end_time</th>\n",
       "      <th>epoch</th>\n",
       "      <th>iteration</th>\n",
       "      <th>sample_iteration</th>\n",
       "      <th>start_time</th>\n",
       "      <th>train_f1</th>\n",
       "      <th>train_loss</th>\n",
       "      <th>valid_accuracy</th>\n",
       "      <th>valid_f1</th>\n",
       "      <th>valid_loss</th>\n",
       "    </tr>\n",
       "  </thead>\n",
       "  <tbody>\n",
       "    <tr>\n",
       "      <th>0</th>\n",
       "      <td>0.9</td>\n",
       "      <td>4.8</td>\n",
       "      <td>1.553023e+09</td>\n",
       "      <td>0.0</td>\n",
       "      <td>1000.0</td>\n",
       "      <td>10000.0</td>\n",
       "      <td>1.553023e+09</td>\n",
       "      <td>0.45</td>\n",
       "      <td>10.46</td>\n",
       "      <td>0.945</td>\n",
       "      <td>0.244</td>\n",
       "      <td>9.92</td>\n",
       "    </tr>\n",
       "    <tr>\n",
       "      <th>1</th>\n",
       "      <td>0.9</td>\n",
       "      <td>4.8</td>\n",
       "      <td>1.553023e+09</td>\n",
       "      <td>1.0</td>\n",
       "      <td>1000.0</td>\n",
       "      <td>10000.0</td>\n",
       "      <td>1.553023e+09</td>\n",
       "      <td>0.45</td>\n",
       "      <td>10.46</td>\n",
       "      <td>0.945</td>\n",
       "      <td>0.244</td>\n",
       "      <td>9.92</td>\n",
       "    </tr>\n",
       "    <tr>\n",
       "      <th>2</th>\n",
       "      <td>NaN</td>\n",
       "      <td>4.8</td>\n",
       "      <td>1.553023e+09</td>\n",
       "      <td>0.0</td>\n",
       "      <td>1000.0</td>\n",
       "      <td>10000.0</td>\n",
       "      <td>1.553023e+09</td>\n",
       "      <td>0.45</td>\n",
       "      <td>10.46</td>\n",
       "      <td>0.945</td>\n",
       "      <td>0.244</td>\n",
       "      <td>9.92</td>\n",
       "    </tr>\n",
       "  </tbody>\n",
       "</table>\n",
       "</div>"
      ],
      "text/plain": [
       "   current_lr  duration      end_time  epoch  iteration  sample_iteration  \\\n",
       "0         0.9       4.8  1.553023e+09    0.0     1000.0           10000.0   \n",
       "1         0.9       4.8  1.553023e+09    1.0     1000.0           10000.0   \n",
       "2         NaN       4.8  1.553023e+09    0.0     1000.0           10000.0   \n",
       "\n",
       "     start_time  train_f1  train_loss  valid_accuracy  valid_f1  valid_loss  \n",
       "0  1.553023e+09      0.45       10.46           0.945     0.244        9.92  \n",
       "1  1.553023e+09      0.45       10.46           0.945     0.244        9.92  \n",
       "2  1.553023e+09      0.45       10.46           0.945     0.244        9.92  "
      ]
     },
     "execution_count": 15,
     "metadata": {},
     "output_type": "execute_result"
    }
   ],
   "source": [
    "df"
   ]
  },
  {
   "cell_type": "code",
   "execution_count": null,
   "metadata": {
    "collapsed": true
   },
   "outputs": [],
   "source": []
  }
 ],
 "metadata": {
  "kernelspec": {
   "display_name": "Python 3",
   "language": "python",
   "name": "python3"
  },
  "language_info": {
   "codemirror_mode": {
    "name": "ipython",
    "version": 3
   },
   "file_extension": ".py",
   "mimetype": "text/x-python",
   "name": "python",
   "nbconvert_exporter": "python",
   "pygments_lexer": "ipython3",
   "version": "3.6.1"
  }
 },
 "nbformat": 4,
 "nbformat_minor": 2
}
