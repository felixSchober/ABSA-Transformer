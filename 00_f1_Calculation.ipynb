{
 "cells": [
  {
   "cell_type": "code",
   "execution_count": 2,
   "metadata": {},
   "outputs": [],
   "source": [
    "import torch\n",
    "from sklearn.metrics import precision_recall_fscore_support, confusion_matrix"
   ]
  },
  {
   "cell_type": "code",
   "execution_count": 16,
   "metadata": {},
   "outputs": [
    {
     "name": "stdout",
     "output_type": "stream",
     "text": [
      "PREDICTION:\n",
      "tensor([[0., 0., 1., 1., 1., 0., 0., 1., 0., 1., 0., 0.],\n",
      "        [0., 0., 0., 0., 0., 0., 0., 0., 0., 0., 0., 0.],\n",
      "        [0., 0., 0., 0., 0., 0., 0., 0., 0., 0., 0., 0.],\n",
      "        [0., 0., 0., 0., 0., 0., 0., 0., 0., 0., 0., 0.],\n",
      "        [0., 0., 0., 0., 0., 0., 0., 0., 0., 0., 0., 0.],\n",
      "        [0., 0., 0., 0., 0., 0., 0., 0., 0., 0., 0., 0.],\n",
      "        [0., 0., 0., 0., 0., 0., 0., 0., 0., 0., 0., 0.],\n",
      "        [0., 0., 0., 0., 0., 0., 0., 0., 0., 0., 0., 0.],\n",
      "        [0., 0., 0., 0., 0., 0., 0., 0., 0., 0., 0., 0.],\n",
      "        [0., 0., 0., 0., 0., 0., 0., 0., 0., 0., 0., 0.],\n",
      "        [0., 0., 0., 0., 0., 0., 0., 0., 0., 0., 0., 0.],\n",
      "        [0., 0., 0., 0., 0., 0., 0., 0., 0., 0., 0., 0.],\n",
      "        [0., 0., 0., 0., 0., 0., 0., 0., 0., 0., 0., 0.],\n",
      "        [0., 0., 0., 0., 0., 0., 0., 0., 0., 0., 0., 0.],\n",
      "        [0., 0., 0., 0., 0., 0., 0., 0., 0., 0., 0., 0.],\n",
      "        [0., 0., 0., 0., 0., 0., 0., 0., 0., 0., 0., 0.],\n",
      "        [0., 0., 0., 0., 0., 0., 0., 0., 2., 0., 0., 0.],\n",
      "        [0., 0., 0., 0., 0., 0., 0., 0., 0., 0., 0., 0.],\n",
      "        [0., 0., 0., 0., 0., 0., 0., 0., 0., 0., 0., 0.],\n",
      "        [0., 0., 0., 0., 0., 0., 0., 0., 2., 0., 0., 0.]])\n",
      "\n",
      "\n",
      "TARGET:\n",
      "tensor([[0., 0., 0., 0., 0., 0., 0., 0., 0., 0., 0., 0.],\n",
      "        [0., 0., 0., 0., 0., 0., 0., 0., 0., 0., 0., 0.],\n",
      "        [0., 0., 0., 0., 0., 0., 0., 0., 0., 0., 0., 0.],\n",
      "        [0., 0., 0., 0., 0., 0., 0., 0., 0., 0., 0., 0.],\n",
      "        [0., 0., 0., 0., 0., 0., 0., 0., 0., 0., 0., 0.],\n",
      "        [0., 0., 0., 0., 0., 0., 0., 0., 0., 0., 0., 0.],\n",
      "        [0., 0., 0., 0., 0., 0., 0., 0., 0., 0., 0., 0.],\n",
      "        [0., 0., 0., 0., 0., 0., 0., 0., 0., 0., 0., 0.],\n",
      "        [0., 0., 0., 0., 0., 0., 0., 0., 0., 0., 0., 0.],\n",
      "        [0., 0., 0., 0., 0., 0., 0., 0., 0., 0., 0., 0.],\n",
      "        [0., 0., 0., 0., 0., 0., 0., 0., 0., 0., 0., 0.],\n",
      "        [0., 0., 0., 0., 0., 0., 0., 0., 0., 0., 0., 0.],\n",
      "        [0., 0., 0., 0., 0., 0., 0., 0., 0., 0., 0., 0.],\n",
      "        [0., 0., 0., 0., 0., 0., 0., 0., 0., 0., 0., 0.],\n",
      "        [0., 0., 0., 0., 0., 0., 0., 0., 0., 0., 0., 0.],\n",
      "        [0., 0., 0., 0., 0., 0., 0., 0., 0., 0., 0., 0.],\n",
      "        [0., 0., 2., 0., 0., 0., 0., 0., 2., 0., 0., 0.],\n",
      "        [0., 0., 0., 0., 1., 0., 0., 0., 0., 0., 0., 0.],\n",
      "        [0., 0., 0., 0., 0., 0., 0., 0., 0., 0., 0., 0.],\n",
      "        [0., 0., 0., 0., 0., 0., 0., 0., 0., 0., 0., 0.]])\n"
     ]
    }
   ],
   "source": [
    "prediction = torch.Tensor([[0, 0, 0, 0, 0, 0, 0, 0, 0, 0, 0, 0, 0, 0, 0, 0, 0, 0, 0, 0],\n",
    "        [0, 0, 0, 0, 0, 0, 0, 0, 0, 0, 0, 0, 0, 0, 0, 0, 0, 0, 0, 0],\n",
    "        [1, 0, 0, 0, 0, 0, 0, 0, 0, 0, 0, 0, 0, 0, 0, 0, 0, 0, 0, 0],\n",
    "        [1, 0, 0, 0, 0, 0, 0, 0, 0, 0, 0, 0, 0, 0, 0, 0, 0, 0, 0, 0],\n",
    "        [1, 0, 0, 0, 0, 0, 0, 0, 0, 0, 0, 0, 0, 0, 0, 0, 0, 0, 0, 0],\n",
    "        [0, 0, 0, 0, 0, 0, 0, 0, 0, 0, 0, 0, 0, 0, 0, 0, 0, 0, 0, 0],\n",
    "        [0, 0, 0, 0, 0, 0, 0, 0, 0, 0, 0, 0, 0, 0, 0, 0, 0, 0, 0, 0],\n",
    "        [1, 0, 0, 0, 0, 0, 0, 0, 0, 0, 0, 0, 0, 0, 0, 0, 0, 0, 0, 0],\n",
    "        [0, 0, 0, 0, 0, 0, 0, 0, 0, 0, 0, 0, 0, 0, 0, 0, 2, 0, 0, 2],\n",
    "        [1, 0, 0, 0, 0, 0, 0, 0, 0, 0, 0, 0, 0, 0, 0, 0, 0, 0, 0, 0],\n",
    "        [0, 0, 0, 0, 0, 0, 0, 0, 0, 0, 0, 0, 0, 0, 0, 0, 0, 0, 0, 0],\n",
    "        [0, 0, 0, 0, 0, 0, 0, 0, 0, 0, 0, 0, 0, 0, 0, 0, 0, 0, 0, 0]])\n",
    "\n",
    "\n",
    "target = torch.Tensor([[0, 0, 0, 0, 0, 0, 0, 0, 0, 0, 0, 0, 0, 0, 0, 0, 0, 0, 0, 0],\n",
    "        [0, 0, 0, 0, 0, 0, 0, 0, 0, 0, 0, 0, 0, 0, 0, 0, 0, 0, 0, 0],\n",
    "        [0, 0, 0, 0, 0, 0, 0, 0, 0, 0, 0, 0, 0, 0, 0, 0, 2, 0, 0, 0],\n",
    "        [0, 0, 0, 0, 0, 0, 0, 0, 0, 0, 0, 0, 0, 0, 0, 0, 0, 0, 0, 0],\n",
    "        [0, 0, 0, 0, 0, 0, 0, 0, 0, 0, 0, 0, 0, 0, 0, 0, 0, 1, 0, 0],\n",
    "        [0, 0, 0, 0, 0, 0, 0, 0, 0, 0, 0, 0, 0, 0, 0, 0, 0, 0, 0, 0],\n",
    "        [0, 0, 0, 0, 0, 0, 0, 0, 0, 0, 0, 0, 0, 0, 0, 0, 0, 0, 0, 0],\n",
    "        [0, 0, 0, 0, 0, 0, 0, 0, 0, 0, 0, 0, 0, 0, 0, 0, 0, 0, 0, 0],\n",
    "        [0, 0, 0, 0, 0, 0, 0, 0, 0, 0, 0, 0, 0, 0, 0, 0, 2, 0, 0, 0],\n",
    "        [0, 0, 0, 0, 0, 0, 0, 0, 0, 0, 0, 0, 0, 0, 0, 0, 0, 0, 0, 0],\n",
    "        [0, 0, 0, 0, 0, 0, 0, 0, 0, 0, 0, 0, 0, 0, 0, 0, 0, 0, 0, 0],\n",
    "        [0, 0, 0, 0, 0, 0, 0, 0, 0, 0, 0, 0, 0, 0, 0, 0, 0, 0, 0, 0]])\n",
    "\n",
    "# per aspect\n",
    "target = torch.t(target)\n",
    "prediction = torch.t(prediction)\n",
    "print('PREDICTION:\\n' + str(prediction))\n",
    "print('\\n\\nTARGET:\\n' + str(target))"
   ]
  },
  {
   "cell_type": "code",
   "execution_count": 17,
   "metadata": {},
   "outputs": [
    {
     "name": "stdout",
     "output_type": "stream",
     "text": [
      "\t\t Samples\n",
      "Aspect 0 -\t tensor([0., 0., 1., 1., 1., 0., 0., 1., 0., 1., 0., 0.])\n",
      "Aspect 1 -\t tensor([0., 0., 0., 0., 0., 0., 0., 0., 0., 0., 0., 0.])\n",
      "Aspect 2 -\t tensor([0., 0., 0., 0., 0., 0., 0., 0., 0., 0., 0., 0.])\n",
      "Aspect 3 -\t tensor([0., 0., 0., 0., 0., 0., 0., 0., 0., 0., 0., 0.])\n",
      "Aspect 4 -\t tensor([0., 0., 0., 0., 0., 0., 0., 0., 0., 0., 0., 0.])\n",
      "Aspect 5 -\t tensor([0., 0., 0., 0., 0., 0., 0., 0., 0., 0., 0., 0.])\n",
      "Aspect 6 -\t tensor([0., 0., 0., 0., 0., 0., 0., 0., 0., 0., 0., 0.])\n",
      "Aspect 7 -\t tensor([0., 0., 0., 0., 0., 0., 0., 0., 0., 0., 0., 0.])\n",
      "Aspect 8 -\t tensor([0., 0., 0., 0., 0., 0., 0., 0., 0., 0., 0., 0.])\n",
      "Aspect 9 -\t tensor([0., 0., 0., 0., 0., 0., 0., 0., 0., 0., 0., 0.])\n",
      "Aspect 10 -\t tensor([0., 0., 0., 0., 0., 0., 0., 0., 0., 0., 0., 0.])\n",
      "Aspect 11 -\t tensor([0., 0., 0., 0., 0., 0., 0., 0., 0., 0., 0., 0.])\n",
      "Aspect 12 -\t tensor([0., 0., 0., 0., 0., 0., 0., 0., 0., 0., 0., 0.])\n",
      "Aspect 13 -\t tensor([0., 0., 0., 0., 0., 0., 0., 0., 0., 0., 0., 0.])\n",
      "Aspect 14 -\t tensor([0., 0., 0., 0., 0., 0., 0., 0., 0., 0., 0., 0.])\n",
      "Aspect 15 -\t tensor([0., 0., 0., 0., 0., 0., 0., 0., 0., 0., 0., 0.])\n",
      "Aspect 16 -\t tensor([0., 0., 0., 0., 0., 0., 0., 0., 2., 0., 0., 0.])\n",
      "Aspect 17 -\t tensor([0., 0., 0., 0., 0., 0., 0., 0., 0., 0., 0., 0.])\n",
      "Aspect 18 -\t tensor([0., 0., 0., 0., 0., 0., 0., 0., 0., 0., 0., 0.])\n",
      "Aspect 19 -\t tensor([0., 0., 0., 0., 0., 0., 0., 0., 2., 0., 0., 0.])\n"
     ]
    }
   ],
   "source": [
    "print('\\t\\t Samples')\n",
    "for i, aspect in enumerate(prediction):\n",
    "    print(f'Aspect {i} -\\t {aspect}')"
   ]
  },
  {
   "cell_type": "code",
   "execution_count": 18,
   "metadata": {},
   "outputs": [],
   "source": [
    "# test aspect 16 and and sentiment 2\n",
    "aspect = 16\n",
    "sentiment = 2"
   ]
  },
  {
   "cell_type": "code",
   "execution_count": 19,
   "metadata": {},
   "outputs": [
    {
     "data": {
      "text/plain": [
       "tensor([0, 0, 0, 0, 0, 0, 0, 0, 1, 0, 0, 0], dtype=torch.uint8)"
      ]
     },
     "execution_count": 19,
     "metadata": {},
     "output_type": "execute_result"
    }
   ],
   "source": [
    "# masks for visualization\n",
    "t_mask = prediction[aspect] == sentiment\n",
    "t_mask"
   ]
  },
  {
   "cell_type": "code",
   "execution_count": 20,
   "metadata": {},
   "outputs": [
    {
     "data": {
      "text/plain": [
       "tensor([0, 0, 1, 0, 0, 0, 0, 0, 1, 0, 0, 0], dtype=torch.uint8)"
      ]
     },
     "execution_count": 20,
     "metadata": {},
     "output_type": "execute_result"
    }
   ],
   "source": [
    "# masks for visualization\n",
    "p_mask = target[aspect] == sentiment\n",
    "p_mask"
   ]
  },
  {
   "cell_type": "markdown",
   "metadata": {},
   "source": [
    "## This confusion matrix counts the TPs, FPs and FNs for aspect 16 - sentiment 2"
   ]
  },
  {
   "cell_type": "code",
   "execution_count": 21,
   "metadata": {},
   "outputs": [
    {
     "data": {
      "text/plain": [
       "array([[ 1,  0],\n",
       "       [ 1, 10]])"
      ]
     },
     "execution_count": 21,
     "metadata": {},
     "output_type": "execute_result"
    }
   ],
   "source": [
    "confusion_matrix(t_mask, p_mask, labels=[1, 0])"
   ]
  },
  {
   "cell_type": "markdown",
   "metadata": {},
   "source": [
    "## Counts all metrics for all aspects and all sentiments"
   ]
  },
  {
   "cell_type": "code",
   "execution_count": 22,
   "metadata": {},
   "outputs": [
    {
     "name": "stdout",
     "output_type": "stream",
     "text": [
      "TP: 1\n",
      "FP: 2\n",
      "FN: 6\n",
      "Micro F1: 0.2\n"
     ]
    }
   ],
   "source": [
    "# sentiment + aspect\n",
    "tp = 0\n",
    "fp = 0\n",
    "fn = 0\n",
    "for a_i in range(20):           # iterate over all aspects\n",
    "    for s_i in range(1, 4):     # iterate over all sentiment classes (start at 1 to skip n/a labels)\n",
    "        p_mask = prediction[a_i] == s_i\n",
    "        t_mask = target[a_i] == s_i\n",
    "        c_matrix = confusion_matrix(t_mask, p_mask, labels=[1, 0])\n",
    "        tp += c_matrix[0,0]\n",
    "        fp += c_matrix[0,1]\n",
    "        fn += c_matrix[1,0]\n",
    "        \n",
    "print(f'TP: {tp}')\n",
    "print(f'FP: {fp}')\n",
    "print(f'FN: {fn}')\n",
    "print(f'Micro F1: {(2 * tp) / (2 * tp + fn + fp)}')"
   ]
  },
  {
   "cell_type": "code",
   "execution_count": 23,
   "metadata": {},
   "outputs": [
    {
     "name": "stdout",
     "output_type": "stream",
     "text": [
      "TP: 3\n",
      "FP: 6\n",
      "FN: 18\n",
      "Micro F1: 0.2\n"
     ]
    }
   ],
   "source": [
    "# only aspect\n",
    "tp = 0\n",
    "fp = 0\n",
    "fn = 0\n",
    "for a_i in range(20):\n",
    "    for s_i in range(1, 4):\n",
    "        p_mask = prediction[a_i] > 0\n",
    "        t_mask = target[a_i] > 0\n",
    "        c_matrix = confusion_matrix(t_mask, p_mask, labels=[1, 0])\n",
    "        tp += c_matrix[0,0]\n",
    "        fp += c_matrix[0,1]\n",
    "        fn += c_matrix[1,0]\n",
    "        \n",
    "        \n",
    "print(f'TP: {tp}')\n",
    "print(f'FP: {fp}')\n",
    "print(f'FN: {fn}')\n",
    "print(f'Micro F1: {(2 * tp) / (2 * tp + fn + fp)}')"
   ]
  },
  {
   "cell_type": "markdown",
   "metadata": {},
   "source": [
    "# Random predictions"
   ]
  },
  {
   "cell_type": "code",
   "execution_count": 34,
   "metadata": {},
   "outputs": [
    {
     "data": {
      "text/plain": [
       "tensor([[1, 0, 2, 2, 3, 2, 2, 3, 3, 0, 1, 1],\n",
       "        [2, 0, 1, 1, 1, 1, 0, 3, 3, 1, 2, 2],\n",
       "        [2, 3, 3, 2, 3, 0, 3, 2, 2, 1, 0, 3],\n",
       "        [1, 3, 1, 1, 0, 2, 2, 1, 3, 0, 0, 0],\n",
       "        [3, 2, 1, 0, 2, 1, 3, 0, 2, 3, 3, 1],\n",
       "        [0, 3, 2, 1, 0, 2, 2, 3, 0, 0, 1, 1],\n",
       "        [0, 1, 1, 2, 0, 3, 0, 2, 2, 0, 1, 1],\n",
       "        [1, 3, 1, 3, 1, 1, 3, 0, 1, 1, 0, 3],\n",
       "        [0, 1, 1, 2, 3, 2, 0, 3, 1, 2, 0, 1],\n",
       "        [0, 2, 1, 2, 1, 1, 3, 3, 1, 1, 1, 2],\n",
       "        [0, 3, 2, 3, 3, 0, 3, 3, 1, 0, 1, 2],\n",
       "        [3, 1, 1, 0, 3, 2, 3, 2, 2, 1, 2, 0],\n",
       "        [3, 3, 3, 0, 1, 0, 3, 0, 1, 0, 2, 2],\n",
       "        [3, 3, 2, 2, 1, 0, 2, 3, 1, 3, 0, 2],\n",
       "        [3, 0, 1, 2, 0, 3, 3, 1, 1, 0, 3, 1],\n",
       "        [3, 0, 1, 2, 2, 1, 2, 2, 2, 0, 3, 1],\n",
       "        [3, 0, 3, 2, 2, 1, 3, 0, 0, 2, 1, 3],\n",
       "        [3, 3, 2, 1, 1, 0, 1, 3, 3, 3, 0, 2],\n",
       "        [0, 0, 3, 3, 2, 3, 2, 1, 0, 3, 3, 1],\n",
       "        [2, 3, 3, 2, 0, 3, 0, 0, 1, 2, 0, 3]])"
      ]
     },
     "execution_count": 34,
     "metadata": {},
     "output_type": "execute_result"
    }
   ],
   "source": [
    "prediction = torch.randint(0, 4, (12, 20))\n",
    "prediction = torch.t(prediction)\n",
    "prediction"
   ]
  },
  {
   "cell_type": "code",
   "execution_count": 35,
   "metadata": {},
   "outputs": [
    {
     "name": "stdout",
     "output_type": "stream",
     "text": [
      "TP: 1\n",
      "FP: 2\n",
      "FN: 185\n",
      "Micro F1: 0.010582010582010581\n"
     ]
    }
   ],
   "source": [
    "# sentiment + aspect\n",
    "tp = 0\n",
    "fp = 0\n",
    "fn = 0\n",
    "for a_i in range(20):           # iterate over all aspects\n",
    "    for s_i in range(1, 4):     # iterate over all sentiment classes (start at 1 to skip n/a labels)\n",
    "        p_mask = prediction[a_i] == s_i\n",
    "        t_mask = target[a_i] == s_i\n",
    "        c_matrix = confusion_matrix(t_mask, p_mask, labels=[1, 0])\n",
    "        tp += c_matrix[0,0]\n",
    "        fp += c_matrix[0,1]\n",
    "        fn += c_matrix[1,0]\n",
    "        \n",
    "print(f'TP: {tp}')\n",
    "print(f'FP: {fp}')\n",
    "print(f'FN: {fn}')\n",
    "print(f'Micro F1: {(2 * tp) / (2 * tp + fn + fp)}')"
   ]
  },
  {
   "cell_type": "code",
   "execution_count": 38,
   "metadata": {},
   "outputs": [
    {
     "name": "stdout",
     "output_type": "stream",
     "text": [
      "Mean micro f1: 0.008330202642978702\n"
     ]
    }
   ],
   "source": [
    "mean_score = 0.0\n",
    "for i in range(1000):\n",
    "    prediction = torch.randint(0, 4, (12, 20))\n",
    "    prediction = torch.t(prediction)\n",
    "    tp = 0\n",
    "    fp = 0\n",
    "    fn = 0\n",
    "    for a_i in range(20):           # iterate over all aspects\n",
    "        for s_i in range(1, 4):     # iterate over all sentiment classes (start at 1 to skip n/a labels)\n",
    "            p_mask = prediction[a_i] == s_i\n",
    "            t_mask = target[a_i] == s_i\n",
    "            c_matrix = confusion_matrix(t_mask, p_mask, labels=[1, 0])\n",
    "            tp += c_matrix[0,0]\n",
    "            fp += c_matrix[0,1]\n",
    "            fn += c_matrix[1,0]\n",
    "    mean_score += (2 * tp) / (2 * tp + fn + fp)\n",
    "print(f'Mean micro f1: {mean_score/1000}')"
   ]
  },
  {
   "cell_type": "code",
   "execution_count": null,
   "metadata": {},
   "outputs": [],
   "source": []
  }
 ],
 "metadata": {
  "kernelspec": {
   "display_name": "Python 3",
   "language": "python",
   "name": "python3"
  },
  "language_info": {
   "codemirror_mode": {
    "name": "ipython",
    "version": 3
   },
   "file_extension": ".py",
   "mimetype": "text/x-python",
   "name": "python",
   "nbconvert_exporter": "python",
   "pygments_lexer": "ipython3",
   "version": "3.6.6"
  }
 },
 "nbformat": 4,
 "nbformat_minor": 2
}
