{
 "cells": [
  {
   "cell_type": "code",
   "execution_count": 1,
   "metadata": {},
   "outputs": [],
   "source": [
    "import matplotlib\n",
    "import copy\n",
    "import logging\n",
    "#import torch\n",
    "\n",
    "#from tqdm.autonotebook import tqdm\n",
    "\n",
    "from data.data_loader import Dataset\n",
    "from data.germeval2017 import germeval2017_dataset\n",
    "\n",
    "from misc.preferences import PREFERENCES\n",
    "#from misc.visualizer import *\n",
    "from misc.run_configuration import get_default_params, randomize_params\n",
    "from misc import utils\n",
    "\n",
    "from optimizer import get_default_optimizer\n",
    "from criterion import NllLoss, LossCombiner\n",
    "\n",
    "from models.transformer.encoder import TransformerEncoder\n",
    "from models.softmax_output import SoftmaxOutputLayerWithCommentWiseClass\n",
    "from models.transformer_tagger import TransformerTagger\n",
    "from models.jointAspectTagger import JointAspectTagger\n",
    "from models.transformer.train import Trainer\n",
    "import pprint"
   ]
  },
  {
   "cell_type": "code",
   "execution_count": 2,
   "metadata": {},
   "outputs": [],
   "source": [
    "PREFERENCES.defaults(\n",
    "    data_root='./data/germeval2017',\n",
    "    data_train='train_v1.4.tsv',    \n",
    "    data_validation='dev_v1.4.tsv',\n",
    "    data_test='test_TIMESTAMP1.tsv',\n",
    "    early_stopping='highest_5_F1'\n",
    ")\n",
    "def load(hp, logger):\n",
    "    dataset = Dataset(\n",
    "        'germeval',\n",
    "        logger,\n",
    "        hp,\n",
    "        source_index=0,\n",
    "        target_vocab_index=2,\n",
    "        data_path=PREFERENCES.data_root,\n",
    "        train_file=PREFERENCES.data_train,\n",
    "        valid_file=PREFERENCES.data_validation,\n",
    "        test_file=PREFERENCES.data_test,\n",
    "        file_format='.tsv',\n",
    "        init_token=None,\n",
    "        eos_token=None\n",
    "    )\n",
    "    dataset.load_data(germeval2017_dataset, verbose=False)\n",
    "    return dataset"
   ]
  },
  {
   "cell_type": "code",
   "execution_count": 3,
   "metadata": {},
   "outputs": [],
   "source": [
    "def load_model(dataset, hp, experiment_name):\n",
    "    loss = LossCombiner(4, dataset.class_weights, NllLoss)\n",
    "    transformer = TransformerEncoder(dataset.source_embedding,\n",
    "                                     hyperparameters=hp)\n",
    "    model = JointAspectTagger(transformer, hp, 4, 20, dataset.target_names)\n",
    "    optimizer = get_default_optimizer(model, hp)\n",
    "    trainer = Trainer(\n",
    "                        model,\n",
    "                        loss,\n",
    "                        optimizer,\n",
    "                        hp,\n",
    "                        dataset,\n",
    "                        experiment_name,\n",
    "                        enable_tensorboard=False,\n",
    "                        verbose=False)\n",
    "    return trainer"
   ]
  },
  {
   "cell_type": "code",
   "execution_count": 4,
   "metadata": {},
   "outputs": [],
   "source": [
    "experiment_name = 'ConvHyperParameterSearch'\n",
    "use_cuda = True"
   ]
  },
  {
   "cell_type": "code",
   "execution_count": 5,
   "metadata": {},
   "outputs": [
    {
     "name": "stdout",
     "output_type": "stream",
     "text": [
      "Log path is  /data/home/felix/ABSA-Transformer/logs/ConvHyperParameterSearch/20190224/3\n"
     ]
    }
   ],
   "source": [
    "# get general logger just for search\n",
    "experiment_name = utils.create_loggers(experiment_name=experiment_name)\n",
    "logger = logging.getLogger(__name__)\n",
    "logger.info('Run hyper parameter random grid search for experiment with name ' + experiment_name)"
   ]
  },
  {
   "cell_type": "code",
   "execution_count": 6,
   "metadata": {},
   "outputs": [],
   "source": [
    "utils.get_current_git_commit()\n",
    "logger.info('Current commit: ' + utils.get_current_git_commit())"
   ]
  },
  {
   "cell_type": "code",
   "execution_count": 7,
   "metadata": {},
   "outputs": [],
   "source": [
    "num_optim_iterations = 5\n",
    "logger.info('num_optim_iterations: ' + str(num_optim_iterations))"
   ]
  },
  {
   "cell_type": "code",
   "execution_count": 8,
   "metadata": {},
   "outputs": [],
   "source": [
    "random_grid_search_ranges = {\n",
    "    'batch_size': (10, 20),\n",
    "    'num_encoder_blocks': (2, 6),\n",
    "    'pointwise_layer_size': (32, 4000),\n",
    "    'clip_comments_to': (80, 120),\n",
    "    'learning_rate': (0, 1e-2),\n",
    "    #'learning_rate_factor': (1e-3, 4),\n",
    "    #'learning_rate_warmup': (1000, 10000),\n",
    "    #'optim_adam_beta1': (0.5, 0.99),\n",
    "    #'optim_adam_beta2': (0.5, 0.99),\n",
    "    'dropout_rate': (0, 0.8),\n",
    "    'output_conv_num_filters': (5, 300),\n",
    "    'output_conv_kernel_size': (1, 6),\n",
    "    'transformer_config': {\n",
    "        'transformer_heads': [1, 2, 3, 4, 5, 6, 10, 12, 15, 20]\n",
    "    }\n",
    "}\n",
    "logger.info(pprint.pformat(random_grid_search_ranges, indent=2))"
   ]
  },
  {
   "cell_type": "code",
   "execution_count": 9,
   "metadata": {},
   "outputs": [
    {
     "name": "stdout",
     "output_type": "stream",
     "text": [
      "+------------------------------------+\n",
      "|          Hyperparameters           |\n",
      "+-------------------------+----------+\n",
      "|        Parameter        |  Value   |\n",
      "+-------------------------+----------+\n",
      "|        batch_size       |    12    |\n",
      "|        model_size       |   300    |\n",
      "|    learning_rate_type   |   noam   |\n",
      "|      learning_rate      |    0     |\n",
      "|   learning_rate_warmup  |   4800   |\n",
      "|   learning_rate_factor  |    2     |\n",
      "|     optim_adam_beta1    |   0.9    |\n",
      "|     optim_adam_beta2    |   0.98   |\n",
      "|      early_stopping     |    5     |\n",
      "|         use_cuda        |   True   |\n",
      "|       n_enc_blocks      |    3     |\n",
      "|         n_heads         |    6     |\n",
      "|           d_k           |    50    |\n",
      "|           d_v           |    50    |\n",
      "|       dropout_rate      |   0.1    |\n",
      "|   pointwise_layer_size  |   2048   |\n",
      "|    output_layer_type    |   sum    |\n",
      "| output_conv_num_filters |   300    |\n",
      "| output_conv_kernel_size |    5     |\n",
      "|    output_conv_stride   |    1     |\n",
      "|   output_conv_padding   |    0     |\n",
      "| log_every_xth_iteration |    -1    |\n",
      "|        num_epochs       |    25    |\n",
      "|      embedding_type     | fasttext |\n",
      "|      embedding_name     |    6B    |\n",
      "|      embedding_dim      |   300    |\n",
      "|     clip_comments_to    |   100    |\n",
      "|         language        |    de    |\n",
      "|      use_stop_words     |   True   |\n",
      "|           seed          |   None   |\n",
      "+-------------------------+----------+\n"
     ]
    }
   ],
   "source": [
    "default_hp = get_default_params(use_cuda)\n",
    "default_hp.num_epochs = 25\n",
    "default_hp.seed = None\n",
    "default_hp.output_layer_type = 'sum'\n",
    "\n",
    "logger.info(default_hp)\n",
    "print(default_hp)"
   ]
  },
  {
   "cell_type": "code",
   "execution_count": 10,
   "metadata": {
    "scrolled": false
   },
   "outputs": [
    {
     "name": "stdout",
     "output_type": "stream",
     "text": [
      "\n",
      "\n",
      "+-------------------------------------------------+\n",
      "Optim Iteration: 0\n",
      "\n",
      "\n",
      "+-------------------------------------------------+\n",
      "|                 Hyperparameters                 |\n",
      "+-------------------------+-----------------------+\n",
      "|        Parameter        |         Value         |\n",
      "+-------------------------+-----------------------+\n",
      "|        batch_size       |           20          |\n",
      "|        model_size       |          300          |\n",
      "|    learning_rate_type   |          noam         |\n",
      "|      learning_rate      | 0.0008692870511049277 |\n",
      "|   learning_rate_warmup  |          4800         |\n",
      "|   learning_rate_factor  |           2           |\n",
      "|     optim_adam_beta1    |          0.9          |\n",
      "|     optim_adam_beta2    |          0.98         |\n",
      "|      early_stopping     |           5           |\n",
      "|         use_cuda        |          True         |\n",
      "|       n_enc_blocks      |           5           |\n",
      "|         n_heads         |           10          |\n",
      "|           d_k           |           30          |\n",
      "|           d_v           |           30          |\n",
      "|       dropout_rate      |  0.21848325122893392  |\n",
      "|   pointwise_layer_size  |          1864         |\n",
      "|    output_layer_type    |          sum          |\n",
      "| output_conv_num_filters |          146          |\n",
      "| output_conv_kernel_size |           1           |\n",
      "|    output_conv_stride   |           1           |\n",
      "|   output_conv_padding   |           0           |\n",
      "| log_every_xth_iteration |           -1          |\n",
      "|        num_epochs       |           25          |\n",
      "|      embedding_type     |        fasttext       |\n",
      "|      embedding_name     |           6B          |\n",
      "|      embedding_dim      |          300          |\n",
      "|     clip_comments_to    |           89          |\n",
      "|         language        |           de          |\n",
      "|      use_stop_words     |          True         |\n",
      "|           seed          |          None         |\n",
      "+-------------------------+-----------------------+\n"
     ]
    },
    {
     "name": "stderr",
     "output_type": "stream",
     "text": [
      "                                           \r"
     ]
    },
    {
     "name": "stdout",
     "output_type": "stream",
     "text": [
      "pre_training - DEBUG - 20 initialized\n",
      "pre_training - DEBUG - Initilize parameters with nn.init.xavier_uniform_\n",
      "pre_training - DEBUG - Tagger initialized\n"
     ]
    },
    {
     "name": "stderr",
     "output_type": "stream",
     "text": [
      "Epoch 1: 100%|██████████| 853/853 [02:42<00:00,  5.83it/s]"
     ]
    },
    {
     "name": "stdout",
     "output_type": "stream",
     "text": [
      "# EP\t# IT\ttr loss\t\tval loss\tf1\t\tacc\t\tduration / total time\n",
      "1\t853\t186.32\t\t\u001b[32m170.61\t\t\u001b[32m0.204\u001b[0m\t\t0.757\t\t2.71m - 2.7m / 0.0m\n"
     ]
    },
    {
     "name": "stderr",
     "output_type": "stream",
     "text": [
      "Epoch 2: 100%|██████████| 853/853 [05:18<00:00,  5.83it/s]"
     ]
    },
    {
     "name": "stdout",
     "output_type": "stream",
     "text": [
      "2\t1706\t124.75\t\t\u001b[32m87.47\t\t\u001b[32m0.235\u001b[0m\t\t0.862\t\t2.59m - 5.3m / 67.8m\n"
     ]
    },
    {
     "name": "stderr",
     "output_type": "stream",
     "text": [
      "Epoch 4:   0%|          | 0/853 [07:55<02:26,  5.83it/s]  "
     ]
    },
    {
     "name": "stdout",
     "output_type": "stream",
     "text": [
      "3\t2559\t101.37\t\t\u001b[32m87.54\t\t\u001b[37m0.223\u001b[0m\t\t0.829\t\t2.61m - 7.9m / 64.8m\n"
     ]
    },
    {
     "name": "stderr",
     "output_type": "stream",
     "text": [
      "Epoch 4: 100%|██████████| 853/853 [10:31<00:00,  5.83it/s]"
     ]
    },
    {
     "name": "stdout",
     "output_type": "stream",
     "text": [
      "4\t3412\t74.52\t\t\u001b[32m49.62\t\t\u001b[32m0.238\u001b[0m\t\t0.889\t\t2.61m - 10.5m / 65.4m\n"
     ]
    },
    {
     "name": "stderr",
     "output_type": "stream",
     "text": [
      "Epoch 6:   0%|          | 0/853 [13:07<02:26,  5.83it/s]  "
     ]
    },
    {
     "name": "stdout",
     "output_type": "stream",
     "text": [
      "5\t4265\t47.54\t\t\u001b[32m43.01\t\t\u001b[37m0.218\u001b[0m\t\t0.828\t\t2.59m - 13.1m / 65.3m\n"
     ]
    },
    {
     "name": "stderr",
     "output_type": "stream",
     "text": [
      "Epoch 7:   0%|          | 0/853 [15:42<02:26,  5.83it/s]  "
     ]
    },
    {
     "name": "stdout",
     "output_type": "stream",
     "text": [
      "6\t5118\t28.63\t\t\u001b[32m23.03\t\t\u001b[37m0.193\u001b[0m\t\t0.701\t\t2.58m - 15.7m / 64.9m\n"
     ]
    },
    {
     "name": "stderr",
     "output_type": "stream",
     "text": [
      "Epoch 8:   0%|          | 0/853 [18:16<02:26,  5.83it/s]  "
     ]
    },
    {
     "name": "stdout",
     "output_type": "stream",
     "text": [
      "7\t5971\t18.39\t\t\u001b[32m14.15\t\t\u001b[37m0.232\u001b[0m\t\t0.869\t\t2.57m - 18.3m / 64.8m\n"
     ]
    },
    {
     "name": "stderr",
     "output_type": "stream",
     "text": [
      "Epoch 8: 100%|██████████| 853/853 [20:50<00:00,  5.83it/s]"
     ]
    },
    {
     "name": "stdout",
     "output_type": "stream",
     "text": [
      "8\t6824\t13.91\t\t\u001b[32m12.09\t\t\u001b[32m0.240\u001b[0m\t\t0.903\t\t2.57m - 20.8m / 64.5m\n"
     ]
    },
    {
     "name": "stderr",
     "output_type": "stream",
     "text": [
      "Epoch 10:   0%|          | 0/853 [23:24<02:26,  5.83it/s] "
     ]
    },
    {
     "name": "stdout",
     "output_type": "stream",
     "text": [
      "9\t7677\t12.57\t\t\u001b[32m11.09\t\t\u001b[37m0.238\u001b[0m\t\t0.922\t\t2.57m - 23.4m / 64.5m\n"
     ]
    },
    {
     "name": "stderr",
     "output_type": "stream",
     "text": [
      "Epoch 11:   0%|          | 0/853 [25:58<02:26,  5.83it/s]  "
     ]
    },
    {
     "name": "stdout",
     "output_type": "stream",
     "text": [
      "10\t8530\t12.10\t\t\u001b[32m11.34\t\t\u001b[37m0.236\u001b[0m\t\t0.909\t\t2.57m - 26.0m / 64.5m\n"
     ]
    },
    {
     "name": "stderr",
     "output_type": "stream",
     "text": [
      "Epoch 11: 100%|██████████| 853/853 [28:32<00:00,  5.83it/s]"
     ]
    },
    {
     "name": "stdout",
     "output_type": "stream",
     "text": [
      "11\t9383\t12.08\t\t\u001b[32m10.70\t\t\u001b[32m0.246\u001b[0m\t\t0.957\t\t2.57m - 28.5m / 64.5m\n"
     ]
    },
    {
     "name": "stderr",
     "output_type": "stream",
     "text": [
      "Epoch 13:   0%|          | 0/853 [31:06<02:26,  5.83it/s]  "
     ]
    },
    {
     "name": "stdout",
     "output_type": "stream",
     "text": [
      "12\t10236\t11.95\t\t\u001b[32m10.98\t\t\u001b[37m0.239\u001b[0m\t\t0.923\t\t2.56m - 31.1m / 64.5m\n"
     ]
    },
    {
     "name": "stderr",
     "output_type": "stream",
     "text": [
      "Epoch 14:   0%|          | 0/853 [33:40<02:26,  5.83it/s]  "
     ]
    },
    {
     "name": "stdout",
     "output_type": "stream",
     "text": [
      "13\t11089\t11.82\t\t\u001b[32m10.82\t\t\u001b[37m0.244\u001b[0m\t\t0.953\t\t2.56m - 33.7m / 64.4m\n"
     ]
    },
    {
     "name": "stderr",
     "output_type": "stream",
     "text": [
      "Epoch 15:   0%|          | 0/853 [36:14<02:26,  5.83it/s]  "
     ]
    },
    {
     "name": "stdout",
     "output_type": "stream",
     "text": [
      "14\t11942\t11.75\t\t\u001b[32m10.64\t\t\u001b[37m0.244\u001b[0m\t\t0.959\t\t2.56m - 36.2m / 64.4m\n"
     ]
    },
    {
     "name": "stderr",
     "output_type": "stream",
     "text": [
      "Epoch 16:   0%|          | 0/853 [38:48<02:26,  5.83it/s]  "
     ]
    },
    {
     "name": "stdout",
     "output_type": "stream",
     "text": [
      "15\t12795\t11.70\t\t\u001b[32m10.87\t\t\u001b[37m0.244\u001b[0m\t\t0.949\t\t2.56m - 38.8m / 64.4m\n"
     ]
    },
    {
     "name": "stderr",
     "output_type": "stream",
     "text": [
      "Epoch 16: 100%|██████████| 853/853 [41:22<00:00,  5.83it/s]\n"
     ]
    },
    {
     "name": "stdout",
     "output_type": "stream",
     "text": [
      "16\t13648\t11.65\t\t\u001b[32m10.94\t\t\u001b[37m0.233\u001b[0m\t\t0.909\t\t2.56m - 41.4m / 64.4m\n",
      "+-------------------------------------------------+\n",
      "Best Valid Result: 0.23287411927246504\n",
      "+-------------------------------------------------+\n",
      "\n",
      "\n",
      "###################################################\n",
      "\n",
      "\n",
      "\n",
      "+-------------------------------------------------+\n",
      "Optim Iteration: 1\n",
      "\n",
      "\n",
      "+------------------------------------------------+\n",
      "|                Hyperparameters                 |\n",
      "+-------------------------+----------------------+\n",
      "|        Parameter        |        Value         |\n",
      "+-------------------------+----------------------+\n",
      "|        batch_size       |          14          |\n",
      "|        model_size       |         300          |\n",
      "|    learning_rate_type   |         noam         |\n",
      "|      learning_rate      | 0.00792115236517247  |\n",
      "|   learning_rate_warmup  |         4800         |\n",
      "|   learning_rate_factor  |          2           |\n",
      "|     optim_adam_beta1    |         0.9          |\n",
      "|     optim_adam_beta2    |         0.98         |\n",
      "|      early_stopping     |          5           |\n",
      "|         use_cuda        |         True         |\n",
      "|       n_enc_blocks      |          3           |\n",
      "|         n_heads         |          2           |\n",
      "|           d_k           |         150          |\n",
      "|           d_v           |         150          |\n",
      "|       dropout_rate      | 0.057921738221909894 |\n",
      "|   pointwise_layer_size  |         1422         |\n",
      "|    output_layer_type    |         sum          |\n",
      "| output_conv_num_filters |          46          |\n",
      "| output_conv_kernel_size |          6           |\n",
      "|    output_conv_stride   |          1           |\n",
      "|   output_conv_padding   |          0           |\n",
      "| log_every_xth_iteration |          -1          |\n",
      "|        num_epochs       |          25          |\n",
      "|      embedding_type     |       fasttext       |\n",
      "|      embedding_name     |          6B          |\n",
      "|      embedding_dim      |         300          |\n",
      "|     clip_comments_to    |          94          |\n",
      "|         language        |          de          |\n",
      "|      use_stop_words     |         True         |\n",
      "|           seed          |         None         |\n",
      "+-------------------------+----------------------+\n"
     ]
    },
    {
     "name": "stderr",
     "output_type": "stream",
     "text": [
      "                                           \r"
     ]
    },
    {
     "name": "stdout",
     "output_type": "stream",
     "text": [
      "pre_training - DEBUG - 20 initialized\n",
      "pre_training - DEBUG - Initilize parameters with nn.init.xavier_uniform_\n",
      "pre_training - DEBUG - Tagger initialized\n"
     ]
    },
    {
     "name": "stderr",
     "output_type": "stream",
     "text": [
      "Epoch 1: 100%|██████████| 1218/1218 [01:50<00:00, 11.88it/s]"
     ]
    },
    {
     "name": "stdout",
     "output_type": "stream",
     "text": [
      "# EP\t# IT\ttr loss\t\tval loss\tf1\t\tacc\t\tduration / total time\n",
      "1\t1218\t172.48\t\t\u001b[32m104.79\t\t\u001b[32m0.224\u001b[0m\t\t0.755\t\t1.84m - 1.8m / 0.0m\n"
     ]
    },
    {
     "name": "stderr",
     "output_type": "stream",
     "text": [
      "Epoch 2: 100%|██████████| 1218/1218 [03:41<00:00, 11.88it/s]"
     ]
    },
    {
     "name": "stdout",
     "output_type": "stream",
     "text": [
      "2\t2436\t109.09\t\t\u001b[32m73.97\t\t\u001b[32m0.242\u001b[0m\t\t0.845\t\t1.84m - 3.7m / 46.1m\n"
     ]
    },
    {
     "name": "stderr",
     "output_type": "stream",
     "text": [
      "Epoch 4:   0%|          | 1/1218 [05:32<01:42, 11.88it/s]   "
     ]
    },
    {
     "name": "stdout",
     "output_type": "stream",
     "text": [
      "3\t3654\t83.55\t\t\u001b[32m85.20\t\t\u001b[37m0.242\u001b[0m\t\t0.888\t\t1.85m - 5.5m / 46.0m\n"
     ]
    },
    {
     "name": "stderr",
     "output_type": "stream",
     "text": [
      "Epoch 4: 100%|██████████| 1218/1218 [07:22<00:00, 11.88it/s]"
     ]
    },
    {
     "name": "stdout",
     "output_type": "stream",
     "text": [
      "4\t4872\t57.32\t\t\u001b[32m37.30\t\t\u001b[32m0.258\u001b[0m\t\t0.902\t\t1.83m - 7.4m / 46.1m\n"
     ]
    },
    {
     "name": "stderr",
     "output_type": "stream",
     "text": [
      "Epoch 5: 100%|██████████| 1218/1218 [09:12<00:00, 11.88it/s]"
     ]
    },
    {
     "name": "stdout",
     "output_type": "stream",
     "text": [
      "5\t6090\t23.14\t\t\u001b[32m12.17\t\t\u001b[32m0.264\u001b[0m\t\t0.888\t\t1.84m - 9.2m / 45.9m\n"
     ]
    },
    {
     "name": "stderr",
     "output_type": "stream",
     "text": [
      "Epoch 6: 100%|██████████| 1218/1218 [11:02<00:00, 11.88it/s]"
     ]
    },
    {
     "name": "stdout",
     "output_type": "stream",
     "text": [
      "6\t7308\t8.57\t\t\u001b[32m8.99\t\t\u001b[32m0.280\u001b[0m\t\t0.930\t\t1.83m - 11.0m / 46.0m\n"
     ]
    },
    {
     "name": "stderr",
     "output_type": "stream",
     "text": [
      "Epoch 8:   0%|          | 1/1218 [12:53<01:42, 11.88it/s]   "
     ]
    },
    {
     "name": "stdout",
     "output_type": "stream",
     "text": [
      "7\t8526\t7.52\t\t\u001b[37m9.35\t\t\u001b[37m0.280\u001b[0m\t\t0.919\t\t1.84m - 12.9m / 45.9m\n"
     ]
    },
    {
     "name": "stderr",
     "output_type": "stream",
     "text": [
      "Epoch 8: 100%|██████████| 1218/1218 [14:43<00:00, 11.88it/s]"
     ]
    },
    {
     "name": "stdout",
     "output_type": "stream",
     "text": [
      "8\t9744\t6.82\t\t\u001b[37m9.00\t\t\u001b[32m0.288\u001b[0m\t\t0.936\t\t1.84m - 14.7m / 45.9m\n"
     ]
    },
    {
     "name": "stderr",
     "output_type": "stream",
     "text": [
      "Epoch 9: 100%|██████████| 1218/1218 [16:35<00:00, 11.88it/s]"
     ]
    },
    {
     "name": "stdout",
     "output_type": "stream",
     "text": [
      "9\t10962\t6.23\t\t\u001b[37m9.66\t\t\u001b[32m0.294\u001b[0m\t\t0.929\t\t1.85m - 16.6m / 46.1m\n"
     ]
    },
    {
     "name": "stderr",
     "output_type": "stream",
     "text": [
      "Epoch 10: 100%|██████████| 1218/1218 [18:25<00:00, 11.88it/s]"
     ]
    },
    {
     "name": "stdout",
     "output_type": "stream",
     "text": [
      "10\t12180\t5.88\t\t\u001b[37m9.55\t\t\u001b[32m0.301\u001b[0m\t\t0.935\t\t1.84m - 18.4m / 46.2m\n"
     ]
    },
    {
     "name": "stderr",
     "output_type": "stream",
     "text": [
      "Epoch 12:   0%|          | 1/1218 [20:15<01:42, 11.88it/s]   "
     ]
    },
    {
     "name": "stdout",
     "output_type": "stream",
     "text": [
      "11\t13398\t5.55\t\t\u001b[37m10.08\t\t\u001b[37m0.290\u001b[0m\t\t0.922\t\t1.83m - 20.3m / 46.0m\n"
     ]
    },
    {
     "name": "stderr",
     "output_type": "stream",
     "text": [
      "Epoch 13:   0%|          | 1/1218 [22:06<01:42, 11.88it/s]   "
     ]
    },
    {
     "name": "stdout",
     "output_type": "stream",
     "text": [
      "12\t14616\t5.30\t\t\u001b[37m11.44\t\t\u001b[37m0.293\u001b[0m\t\t0.907\t\t1.83m - 22.1m / 45.9m\n"
     ]
    },
    {
     "name": "stderr",
     "output_type": "stream",
     "text": [
      "Epoch 14:   0%|          | 1/1218 [23:55<01:42, 11.88it/s]   "
     ]
    },
    {
     "name": "stdout",
     "output_type": "stream",
     "text": [
      "13\t15834\t4.99\t\t\u001b[37m10.87\t\t\u001b[37m0.298\u001b[0m\t\t0.918\t\t1.83m - 23.9m / 45.9m\n"
     ]
    },
    {
     "name": "stderr",
     "output_type": "stream",
     "text": [
      "Epoch 14: 100%|██████████| 1218/1218 [25:45<00:00, 11.88it/s]"
     ]
    },
    {
     "name": "stdout",
     "output_type": "stream",
     "text": [
      "14\t17052\t4.76\t\t\u001b[37m11.96\t\t\u001b[32m0.301\u001b[0m\t\t0.937\t\t1.83m - 25.8m / 45.9m\n"
     ]
    },
    {
     "name": "stderr",
     "output_type": "stream",
     "text": [
      "Epoch 16:   0%|          | 1/1218 [27:35<01:42, 11.88it/s]   "
     ]
    },
    {
     "name": "stdout",
     "output_type": "stream",
     "text": [
      "15\t18270\t4.66\t\t\u001b[37m10.92\t\t\u001b[37m0.300\u001b[0m\t\t0.930\t\t1.83m - 27.6m / 45.9m\n"
     ]
    },
    {
     "name": "stderr",
     "output_type": "stream",
     "text": [
      "Epoch 17:   0%|          | 1/1218 [29:25<01:42, 11.88it/s]   "
     ]
    },
    {
     "name": "stdout",
     "output_type": "stream",
     "text": [
      "16\t19488\t4.41\t\t\u001b[37m11.83\t\t\u001b[37m0.297\u001b[0m\t\t0.928\t\t1.83m - 29.4m / 45.9m\n"
     ]
    },
    {
     "name": "stderr",
     "output_type": "stream",
     "text": [
      "Epoch 17: 100%|██████████| 1218/1218 [31:15<00:00, 11.88it/s]"
     ]
    },
    {
     "name": "stdout",
     "output_type": "stream",
     "text": [
      "17\t20706\t4.26\t\t\u001b[37m11.98\t\t\u001b[32m0.302\u001b[0m\t\t0.925\t\t1.84m - 31.3m / 45.9m\n"
     ]
    },
    {
     "name": "stderr",
     "output_type": "stream",
     "text": [
      "Epoch 19:   0%|          | 1/1218 [33:06<01:42, 11.88it/s]   "
     ]
    },
    {
     "name": "stdout",
     "output_type": "stream",
     "text": [
      "18\t21924\t4.08\t\t\u001b[37m12.53\t\t\u001b[37m0.295\u001b[0m\t\t0.919\t\t1.83m - 33.1m / 46.0m\n"
     ]
    },
    {
     "name": "stderr",
     "output_type": "stream",
     "text": [
      "Epoch 20:   0%|          | 1/1218 [34:55<01:42, 11.88it/s]   "
     ]
    },
    {
     "name": "stdout",
     "output_type": "stream",
     "text": [
      "19\t23142\t3.96\t\t\u001b[37m12.37\t\t\u001b[37m0.293\u001b[0m\t\t0.909\t\t1.83m - 34.9m / 45.9m\n"
     ]
    },
    {
     "name": "stderr",
     "output_type": "stream",
     "text": [
      "Epoch 21:   0%|          | 1/1218 [36:45<01:42, 11.88it/s]   "
     ]
    },
    {
     "name": "stdout",
     "output_type": "stream",
     "text": [
      "20\t24360\t3.76\t\t\u001b[37m12.99\t\t\u001b[37m0.289\u001b[0m\t\t0.914\t\t1.83m - 36.8m / 45.9m\n"
     ]
    },
    {
     "name": "stderr",
     "output_type": "stream",
     "text": [
      "Epoch 22:   0%|          | 1/1218 [38:37<01:42, 11.88it/s]   "
     ]
    },
    {
     "name": "stdout",
     "output_type": "stream",
     "text": [
      "21\t25578\t3.77\t\t\u001b[37m12.42\t\t\u001b[37m0.295\u001b[0m\t\t0.910\t\t1.86m - 38.6m / 45.9m\n"
     ]
    },
    {
     "name": "stderr",
     "output_type": "stream",
     "text": [
      "Epoch 22: 100%|██████████| 1218/1218 [40:27<00:00, 11.88it/s]\n"
     ]
    },
    {
     "name": "stdout",
     "output_type": "stream",
     "text": [
      "22\t26796\t3.61\t\t\u001b[37m12.86\t\t\u001b[37m0.291\u001b[0m\t\t0.923\t\t1.84m - 40.5m / 46.0m\n",
      "+-------------------------------------------------+\n",
      "Best Valid Result: 0.29419235245030106\n",
      "+-------------------------------------------------+\n",
      "\n",
      "\n",
      "###################################################\n",
      "\n",
      "\n",
      "\n",
      "+-------------------------------------------------+\n",
      "Optim Iteration: 2\n",
      "\n",
      "\n",
      "+-----------------------------------------------+\n",
      "|                Hyperparameters                |\n",
      "+-------------------------+---------------------+\n",
      "|        Parameter        |        Value        |\n",
      "+-------------------------+---------------------+\n",
      "|        batch_size       |          20         |\n",
      "|        model_size       |         300         |\n",
      "|    learning_rate_type   |         noam        |\n",
      "|      learning_rate      | 0.00283351164028252 |\n",
      "|   learning_rate_warmup  |         4800        |\n",
      "|   learning_rate_factor  |          2          |\n",
      "|     optim_adam_beta1    |         0.9         |\n",
      "|     optim_adam_beta2    |         0.98        |\n",
      "|      early_stopping     |          5          |\n",
      "|         use_cuda        |         True        |\n",
      "|       n_enc_blocks      |          5          |\n",
      "|         n_heads         |          20         |\n",
      "|           d_k           |          15         |\n",
      "|           d_v           |          15         |\n",
      "|       dropout_rate      |  0.5218718992223808 |\n",
      "|   pointwise_layer_size  |         231         |\n",
      "|    output_layer_type    |         sum         |\n",
      "| output_conv_num_filters |         263         |\n",
      "| output_conv_kernel_size |          4          |\n",
      "|    output_conv_stride   |          1          |\n",
      "|   output_conv_padding   |          0          |\n",
      "| log_every_xth_iteration |          -1         |\n",
      "|        num_epochs       |          25         |\n",
      "|      embedding_type     |       fasttext      |\n",
      "|      embedding_name     |          6B         |\n",
      "|      embedding_dim      |         300         |\n",
      "|     clip_comments_to    |         113         |\n",
      "|         language        |          de         |\n",
      "|      use_stop_words     |         True        |\n",
      "|           seed          |         None        |\n",
      "+-------------------------+---------------------+\n"
     ]
    },
    {
     "name": "stderr",
     "output_type": "stream",
     "text": [
      "                                           \r"
     ]
    },
    {
     "name": "stdout",
     "output_type": "stream",
     "text": [
      "pre_training - DEBUG - 20 initialized\n",
      "pre_training - DEBUG - Initilize parameters with nn.init.xavier_uniform_\n",
      "pre_training - DEBUG - Tagger initialized\n"
     ]
    },
    {
     "name": "stderr",
     "output_type": "stream",
     "text": [
      "Epoch 1: 100%|██████████| 853/853 [02:58<00:00,  5.04it/s]"
     ]
    },
    {
     "name": "stdout",
     "output_type": "stream",
     "text": [
      "# EP\t# IT\ttr loss\t\tval loss\tf1\t\tacc\t\tduration / total time\n",
      "1\t853\t204.62\t\t\u001b[32m137.11\t\t\u001b[32m0.219\u001b[0m\t\t0.785\t\t2.98m - 3.0m / 0.0m\n"
     ]
    },
    {
     "name": "stderr",
     "output_type": "stream",
     "text": [
      "Epoch 2: 100%|██████████| 853/853 [05:57<00:00,  5.04it/s]"
     ]
    },
    {
     "name": "stdout",
     "output_type": "stream",
     "text": [
      "2\t1706\t149.78\t\t\u001b[32m125.58\t\t\u001b[32m0.236\u001b[0m\t\t0.828\t\t2.97m - 6.0m / 74.5m\n"
     ]
    },
    {
     "name": "stderr",
     "output_type": "stream",
     "text": [
      "Epoch 3: 100%|██████████| 853/853 [08:55<00:00,  5.04it/s]"
     ]
    },
    {
     "name": "stdout",
     "output_type": "stream",
     "text": [
      "3\t2559\t126.56\t\t\u001b[32m113.63\t\t\u001b[32m0.237\u001b[0m\t\t0.847\t\t2.97m - 8.9m / 74.2m\n"
     ]
    },
    {
     "name": "stderr",
     "output_type": "stream",
     "text": [
      "Epoch 4: 100%|██████████| 853/853 [11:54<00:00,  5.04it/s]"
     ]
    },
    {
     "name": "stdout",
     "output_type": "stream",
     "text": [
      "4\t3412\t99.47\t\t\u001b[32m69.70\t\t\u001b[32m0.243\u001b[0m\t\t0.859\t\t2.97m - 11.9m / 74.3m\n"
     ]
    },
    {
     "name": "stderr",
     "output_type": "stream",
     "text": [
      "Epoch 6:   0%|          | 0/853 [14:52<02:49,  5.04it/s]  "
     ]
    },
    {
     "name": "stdout",
     "output_type": "stream",
     "text": [
      "5\t4265\t62.92\t\t\u001b[32m51.58\t\t\u001b[37m0.242\u001b[0m\t\t0.842\t\t2.97m - 14.9m / 74.2m\n"
     ]
    },
    {
     "name": "stderr",
     "output_type": "stream",
     "text": [
      "Epoch 6: 100%|██████████| 853/853 [17:50<00:00,  5.04it/s]"
     ]
    },
    {
     "name": "stdout",
     "output_type": "stream",
     "text": [
      "6\t5118\t33.01\t\t\u001b[32m21.97\t\t\u001b[32m0.244\u001b[0m\t\t0.846\t\t2.97m - 17.8m / 74.3m\n"
     ]
    },
    {
     "name": "stderr",
     "output_type": "stream",
     "text": [
      "Epoch 7: 100%|██████████| 853/853 [20:49<00:00,  5.04it/s]"
     ]
    },
    {
     "name": "stdout",
     "output_type": "stream",
     "text": [
      "7\t5971\t17.35\t\t\u001b[32m13.12\t\t\u001b[32m0.268\u001b[0m\t\t0.924\t\t2.97m - 20.8m / 74.3m\n"
     ]
    },
    {
     "name": "stderr",
     "output_type": "stream",
     "text": [
      "Epoch 9:   0%|          | 0/853 [23:47<02:49,  5.04it/s]  "
     ]
    },
    {
     "name": "stdout",
     "output_type": "stream",
     "text": [
      "8\t6824\t10.68\t\t\u001b[32m13.23\t\t\u001b[37m0.256\u001b[0m\t\t0.837\t\t2.97m - 23.8m / 74.3m\n"
     ]
    },
    {
     "name": "stderr",
     "output_type": "stream",
     "text": [
      "Epoch 10:   0%|          | 0/853 [26:45<02:49,  5.04it/s] "
     ]
    },
    {
     "name": "stdout",
     "output_type": "stream",
     "text": [
      "9\t7677\t8.86\t\t\u001b[37m13.87\t\t\u001b[37m0.265\u001b[0m\t\t0.844\t\t2.97m - 26.8m / 74.2m\n"
     ]
    },
    {
     "name": "stderr",
     "output_type": "stream",
     "text": [
      "Epoch 11:   0%|          | 0/853 [29:44<02:49,  5.04it/s]  "
     ]
    },
    {
     "name": "stdout",
     "output_type": "stream",
     "text": [
      "10\t8530\t8.18\t\t\u001b[37m12.27\t\t\u001b[37m0.264\u001b[0m\t\t0.880\t\t2.97m - 29.7m / 74.3m\n"
     ]
    },
    {
     "name": "stderr",
     "output_type": "stream",
     "text": [
      "Epoch 11: 100%|██████████| 853/853 [32:42<00:00,  5.04it/s]"
     ]
    },
    {
     "name": "stdout",
     "output_type": "stream",
     "text": [
      "11\t9383\t7.66\t\t\u001b[37m12.32\t\t\u001b[32m0.271\u001b[0m\t\t0.911\t\t2.97m - 32.7m / 74.3m\n"
     ]
    },
    {
     "name": "stderr",
     "output_type": "stream",
     "text": [
      "Epoch 13:   0%|          | 0/853 [35:41<02:49,  5.04it/s]  "
     ]
    },
    {
     "name": "stdout",
     "output_type": "stream",
     "text": [
      "12\t10236\t7.29\t\t\u001b[37m14.53\t\t\u001b[37m0.268\u001b[0m\t\t0.861\t\t2.97m - 35.7m / 74.3m\n"
     ]
    },
    {
     "name": "stderr",
     "output_type": "stream",
     "text": [
      "Epoch 13: 100%|██████████| 853/853 [38:39<00:00,  5.04it/s]"
     ]
    },
    {
     "name": "stdout",
     "output_type": "stream",
     "text": [
      "13\t11089\t7.00\t\t\u001b[37m12.80\t\t\u001b[32m0.272\u001b[0m\t\t0.903\t\t2.98m - 38.7m / 74.3m\n"
     ]
    },
    {
     "name": "stderr",
     "output_type": "stream",
     "text": [
      "Epoch 14: 100%|██████████| 853/853 [41:38<00:00,  5.04it/s]"
     ]
    },
    {
     "name": "stdout",
     "output_type": "stream",
     "text": [
      "14\t11942\t6.58\t\t\u001b[37m13.03\t\t\u001b[32m0.273\u001b[0m\t\t0.881\t\t2.97m - 41.6m / 74.4m\n"
     ]
    },
    {
     "name": "stderr",
     "output_type": "stream",
     "text": [
      "Epoch 16:   0%|          | 0/853 [44:37<02:49,  5.04it/s]  "
     ]
    },
    {
     "name": "stdout",
     "output_type": "stream",
     "text": [
      "15\t12795\t6.26\t\t\u001b[37m14.52\t\t\u001b[37m0.273\u001b[0m\t\t0.862\t\t2.98m - 44.6m / 74.4m\n"
     ]
    },
    {
     "name": "stderr",
     "output_type": "stream",
     "text": [
      "Epoch 16: 100%|██████████| 853/853 [47:36<00:00,  5.04it/s]"
     ]
    },
    {
     "name": "stdout",
     "output_type": "stream",
     "text": [
      "16\t13648\t5.94\t\t\u001b[37m13.33\t\t\u001b[32m0.279\u001b[0m\t\t0.875\t\t2.98m - 47.6m / 74.4m\n"
     ]
    },
    {
     "name": "stderr",
     "output_type": "stream",
     "text": [
      "Epoch 17: 100%|██████████| 853/853 [50:35<00:00,  5.04it/s]"
     ]
    },
    {
     "name": "stdout",
     "output_type": "stream",
     "text": [
      "17\t14501\t5.78\t\t\u001b[37m13.96\t\t\u001b[32m0.280\u001b[0m\t\t0.883\t\t2.98m - 50.6m / 74.4m\n"
     ]
    },
    {
     "name": "stderr",
     "output_type": "stream",
     "text": [
      "Epoch 18: 100%|██████████| 853/853 [53:33<00:00,  5.04it/s]"
     ]
    },
    {
     "name": "stdout",
     "output_type": "stream",
     "text": [
      "18\t15354\t5.53\t\t\u001b[37m14.38\t\t\u001b[32m0.285\u001b[0m\t\t0.891\t\t2.98m - 53.6m / 74.4m\n"
     ]
    },
    {
     "name": "stderr",
     "output_type": "stream",
     "text": [
      "Epoch 20:   0%|          | 0/853 [56:32<02:49,  5.04it/s]  "
     ]
    },
    {
     "name": "stdout",
     "output_type": "stream",
     "text": [
      "19\t16207\t5.45\t\t\u001b[37m15.04\t\t\u001b[37m0.280\u001b[0m\t\t0.890\t\t2.98m - 56.5m / 74.4m\n"
     ]
    },
    {
     "name": "stderr",
     "output_type": "stream",
     "text": [
      "Epoch 21:   0%|          | 0/853 [59:31<02:49,  5.04it/s]  "
     ]
    },
    {
     "name": "stdout",
     "output_type": "stream",
     "text": [
      "20\t17060\t5.15\t\t\u001b[37m15.48\t\t\u001b[37m0.281\u001b[0m\t\t0.888\t\t2.98m - 59.5m / 74.4m\n"
     ]
    },
    {
     "name": "stderr",
     "output_type": "stream",
     "text": [
      "Epoch 22:   0%|          | 0/853 [1:02:30<02:49,  5.04it/s]  "
     ]
    },
    {
     "name": "stdout",
     "output_type": "stream",
     "text": [
      "21\t17913\t5.18\t\t\u001b[37m13.33\t\t\u001b[37m0.275\u001b[0m\t\t0.854\t\t2.98m - 62.5m / 74.4m\n"
     ]
    },
    {
     "name": "stderr",
     "output_type": "stream",
     "text": [
      "Epoch 23:   0%|          | 0/853 [1:05:29<02:49,  5.04it/s]  "
     ]
    },
    {
     "name": "stdout",
     "output_type": "stream",
     "text": [
      "22\t18766\t5.05\t\t\u001b[37m15.82\t\t\u001b[37m0.282\u001b[0m\t\t0.882\t\t2.98m - 65.5m / 74.4m\n"
     ]
    },
    {
     "name": "stderr",
     "output_type": "stream",
     "text": [
      "Epoch 23: 100%|██████████| 853/853 [1:08:27<00:00,  5.04it/s]\n"
     ]
    },
    {
     "name": "stdout",
     "output_type": "stream",
     "text": [
      "23\t19619\t4.83\t\t\u001b[37m15.41\t\t\u001b[37m0.270\u001b[0m\t\t0.858\t\t2.98m - 68.5m / 74.4m\n",
      "\n",
      "Valid Result: 0.29419235245030106\n",
      "\n",
      "\n",
      "\n",
      "###################################################\n",
      "\n",
      "\n",
      "\n",
      "+-------------------------------------------------+\n",
      "Optim Iteration: 3\n",
      "\n",
      "\n",
      "+-------------------------------------------------+\n",
      "|                 Hyperparameters                 |\n",
      "+-------------------------+-----------------------+\n",
      "|        Parameter        |         Value         |\n",
      "+-------------------------+-----------------------+\n",
      "|        batch_size       |           20          |\n",
      "|        model_size       |          300          |\n",
      "|    learning_rate_type   |          noam         |\n",
      "|      learning_rate      | 0.0017900384991516572 |\n",
      "|   learning_rate_warmup  |          4800         |\n",
      "|   learning_rate_factor  |           2           |\n",
      "|     optim_adam_beta1    |          0.9          |\n",
      "|     optim_adam_beta2    |          0.98         |\n",
      "|      early_stopping     |           5           |\n",
      "|         use_cuda        |          True         |\n",
      "|       n_enc_blocks      |           6           |\n",
      "|         n_heads         |           20          |\n",
      "|           d_k           |           15          |\n",
      "|           d_v           |           15          |\n",
      "|       dropout_rate      |  0.36784555104920075  |\n",
      "|   pointwise_layer_size  |          1358         |\n",
      "|    output_layer_type    |          sum          |\n",
      "| output_conv_num_filters |          215          |\n",
      "| output_conv_kernel_size |           1           |\n",
      "|    output_conv_stride   |           1           |\n",
      "|   output_conv_padding   |           0           |\n",
      "| log_every_xth_iteration |           -1          |\n",
      "|        num_epochs       |           25          |\n",
      "|      embedding_type     |        fasttext       |\n",
      "|      embedding_name     |           6B          |\n",
      "|      embedding_dim      |          300          |\n",
      "|     clip_comments_to    |          117          |\n",
      "|         language        |           de          |\n",
      "|      use_stop_words     |          True         |\n",
      "|           seed          |          None         |\n",
      "+-------------------------+-----------------------+\n"
     ]
    },
    {
     "name": "stderr",
     "output_type": "stream",
     "text": [
      "                                           \r"
     ]
    },
    {
     "name": "stdout",
     "output_type": "stream",
     "text": [
      "pre_training - DEBUG - 20 initialized\n",
      "pre_training - DEBUG - Initilize parameters with nn.init.xavier_uniform_\n",
      "pre_training - DEBUG - Tagger initialized\n"
     ]
    },
    {
     "name": "stderr",
     "output_type": "stream",
     "text": [
      "Epoch 1: 100%|██████████| 853/853 [03:45<00:00,  4.04it/s]"
     ]
    },
    {
     "name": "stdout",
     "output_type": "stream",
     "text": [
      "# EP\t# IT\ttr loss\t\tval loss\tf1\t\tacc\t\tduration / total time\n",
      "1\t853\t264.30\t\t\u001b[32m151.88\t\t\u001b[32m0.235\u001b[0m\t\t0.886\t\t3.76m - 3.8m / 0.0m\n"
     ]
    },
    {
     "name": "stderr",
     "output_type": "stream",
     "text": [
      "Epoch 3:   0%|          | 0/853 [07:31<03:30,  4.04it/s]  "
     ]
    },
    {
     "name": "stdout",
     "output_type": "stream",
     "text": [
      "2\t1706\t167.69\t\t\u001b[32m139.21\t\t\u001b[37m0.233\u001b[0m\t\t0.847\t\t3.75m - 7.5m / 94.0m\n"
     ]
    },
    {
     "name": "stderr",
     "output_type": "stream",
     "text": [
      "Epoch 4:   0%|          | 0/853 [11:15<03:30,  4.04it/s]  "
     ]
    },
    {
     "name": "stdout",
     "output_type": "stream",
     "text": [
      "3\t2559\t136.46\t\t\u001b[32m131.60\t\t\u001b[37m0.225\u001b[0m\t\t0.823\t\t3.75m - 11.3m / 93.8m\n"
     ]
    },
    {
     "name": "stderr",
     "output_type": "stream",
     "text": [
      "Epoch 5:   0%|          | 0/853 [15:00<03:30,  4.04it/s]  "
     ]
    },
    {
     "name": "stdout",
     "output_type": "stream",
     "text": [
      "4\t3412\t104.41\t\t\u001b[32m69.69\t\t\u001b[37m0.235\u001b[0m\t\t0.868\t\t3.75m - 15.0m / 93.7m\n"
     ]
    },
    {
     "name": "stderr",
     "output_type": "stream",
     "text": [
      "Epoch 6:   0%|          | 0/853 [18:45<03:30,  4.04it/s]  "
     ]
    },
    {
     "name": "stdout",
     "output_type": "stream",
     "text": [
      "5\t4265\t68.23\t\t\u001b[32m75.81\t\t\u001b[37m0.215\u001b[0m\t\t0.820\t\t3.75m - 18.8m / 93.7m\n"
     ]
    },
    {
     "name": "stderr",
     "output_type": "stream",
     "text": [
      "Epoch 6: 100%|██████████| 853/853 [22:30<00:00,  4.04it/s]\n"
     ]
    },
    {
     "name": "stdout",
     "output_type": "stream",
     "text": [
      "6\t5118\t38.87\t\t\u001b[32m28.66\t\t\u001b[37m0.203\u001b[0m\t\t0.720\t\t3.75m - 22.5m / 93.7m\n",
      "\n",
      "Valid Result: 0.29419235245030106\n",
      "\n",
      "\n",
      "\n",
      "###################################################\n",
      "\n",
      "\n",
      "\n",
      "+-------------------------------------------------+\n",
      "Optim Iteration: 4\n",
      "\n",
      "\n",
      "+------------------------------------------------+\n",
      "|                Hyperparameters                 |\n",
      "+-------------------------+----------------------+\n",
      "|        Parameter        |        Value         |\n",
      "+-------------------------+----------------------+\n",
      "|        batch_size       |          11          |\n",
      "|        model_size       |         300          |\n",
      "|    learning_rate_type   |         noam         |\n",
      "|      learning_rate      | 0.000738475015191512 |\n",
      "|   learning_rate_warmup  |         4800         |\n",
      "|   learning_rate_factor  |          2           |\n",
      "|     optim_adam_beta1    |         0.9          |\n",
      "|     optim_adam_beta2    |         0.98         |\n",
      "|      early_stopping     |          5           |\n",
      "|         use_cuda        |         True         |\n",
      "|       n_enc_blocks      |          2           |\n",
      "|         n_heads         |          10          |\n",
      "|           d_k           |          30          |\n",
      "|           d_v           |          30          |\n",
      "|       dropout_rate      | 0.21777426291041754  |\n",
      "|   pointwise_layer_size  |         3782         |\n",
      "|    output_layer_type    |         sum          |\n",
      "| output_conv_num_filters |          54          |\n",
      "| output_conv_kernel_size |          6           |\n",
      "|    output_conv_stride   |          1           |\n",
      "|   output_conv_padding   |          0           |\n",
      "| log_every_xth_iteration |          -1          |\n",
      "|        num_epochs       |          25          |\n",
      "|      embedding_type     |       fasttext       |\n",
      "|      embedding_name     |          6B          |\n",
      "|      embedding_dim      |         300          |\n",
      "|     clip_comments_to    |          85          |\n",
      "|         language        |          de          |\n",
      "|      use_stop_words     |         True         |\n",
      "|           seed          |         None         |\n",
      "+-------------------------+----------------------+\n"
     ]
    },
    {
     "name": "stderr",
     "output_type": "stream",
     "text": [
      "                                           \r"
     ]
    },
    {
     "name": "stdout",
     "output_type": "stream",
     "text": [
      "pre_training - DEBUG - 20 initialized\n",
      "pre_training - DEBUG - Initilize parameters with nn.init.xavier_uniform_\n",
      "pre_training - DEBUG - Tagger initialized\n"
     ]
    },
    {
     "name": "stderr",
     "output_type": "stream",
     "text": [
      "Epoch 1: 100%|██████████| 1550/1550 [01:54<00:00, 14.42it/s]"
     ]
    },
    {
     "name": "stdout",
     "output_type": "stream",
     "text": [
      "# EP\t# IT\ttr loss\t\tval loss\tf1\t\tacc\t\tduration / total time\n",
      "1\t1550\t148.76\t\t\u001b[32m111.95\t\t\u001b[32m0.235\u001b[0m\t\t0.818\t\t1.91m - 1.9m / 0.0m\n"
     ]
    },
    {
     "name": "stderr",
     "output_type": "stream",
     "text": [
      "Epoch 2: 100%|██████████| 1550/1550 [03:48<00:00, 34.29s/it]"
     ]
    },
    {
     "name": "stdout",
     "output_type": "stream",
     "text": [
      "2\t3100\t79.86\t\t\u001b[32m56.16\t\t\u001b[32m0.242\u001b[0m\t\t0.845\t\t1.90m - 3.8m / 47.7m\n"
     ]
    },
    {
     "name": "stderr",
     "output_type": "stream",
     "text": [
      "Epoch 3: 100%|██████████| 1550/1550 [05:42<00:00, 34.29s/it]  "
     ]
    },
    {
     "name": "stdout",
     "output_type": "stream",
     "text": [
      "3\t4650\t40.31\t\t\u001b[32m22.05\t\t\u001b[32m0.259\u001b[0m\t\t0.865\t\t1.90m - 5.7m / 47.4m\n"
     ]
    },
    {
     "name": "stderr",
     "output_type": "stream",
     "text": [
      "Epoch 4: 100%|██████████| 1550/1550 [07:36<00:00, 34.29s/it]  "
     ]
    },
    {
     "name": "stdout",
     "output_type": "stream",
     "text": [
      "4\t6200\t14.27\t\t\u001b[32m10.07\t\t\u001b[32m0.269\u001b[0m\t\t0.946\t\t1.90m - 7.6m / 47.5m\n"
     ]
    },
    {
     "name": "stderr",
     "output_type": "stream",
     "text": [
      "Epoch 5: 100%|██████████| 1550/1550 [09:31<00:00, 34.29s/it]  "
     ]
    },
    {
     "name": "stdout",
     "output_type": "stream",
     "text": [
      "5\t7750\t6.96\t\t\u001b[32m8.35\t\t\u001b[32m0.300\u001b[0m\t\t0.945\t\t1.90m - 9.5m / 47.5m\n"
     ]
    },
    {
     "name": "stderr",
     "output_type": "stream",
     "text": [
      "Epoch 7:   0%|          | 2/1550 [11:25<14:44:34, 34.29s/it]  "
     ]
    },
    {
     "name": "stdout",
     "output_type": "stream",
     "text": [
      "6\t9300\t5.64\t\t\u001b[37m8.86\t\t\u001b[37m0.296\u001b[0m\t\t0.936\t\t1.90m - 11.4m / 47.5m\n"
     ]
    },
    {
     "name": "stderr",
     "output_type": "stream",
     "text": [
      "Epoch 7: 100%|██████████| 1550/1550 [13:19<00:00, 34.29s/it]  "
     ]
    },
    {
     "name": "stdout",
     "output_type": "stream",
     "text": [
      "7\t10850\t4.93\t\t\u001b[37m8.32\t\t\u001b[32m0.306\u001b[0m\t\t0.932\t\t1.90m - 13.3m / 47.5m\n"
     ]
    },
    {
     "name": "stderr",
     "output_type": "stream",
     "text": [
      "Epoch 9:   0%|          | 2/1550 [15:13<14:44:34, 34.29s/it]  "
     ]
    },
    {
     "name": "stdout",
     "output_type": "stream",
     "text": [
      "8\t12400\t4.35\t\t\u001b[37m8.95\t\t\u001b[37m0.305\u001b[0m\t\t0.929\t\t1.90m - 15.2m / 47.6m\n"
     ]
    },
    {
     "name": "stderr",
     "output_type": "stream",
     "text": [
      "Epoch 9: 100%|██████████| 1550/1550 [17:07<00:00, 34.29s/it]  "
     ]
    },
    {
     "name": "stdout",
     "output_type": "stream",
     "text": [
      "9\t13950\t3.99\t\t\u001b[37m9.71\t\t\u001b[32m0.313\u001b[0m\t\t0.930\t\t1.90m - 17.1m / 47.5m\n"
     ]
    },
    {
     "name": "stderr",
     "output_type": "stream",
     "text": [
      "Epoch 10: 100%|██████████| 1550/1550 [19:01<00:00, 34.29s/it]  "
     ]
    },
    {
     "name": "stdout",
     "output_type": "stream",
     "text": [
      "10\t15500\t3.58\t\t\u001b[37m10.80\t\t\u001b[32m0.314\u001b[0m\t\t0.930\t\t1.90m - 19.0m / 47.5m\n"
     ]
    },
    {
     "name": "stderr",
     "output_type": "stream",
     "text": [
      "Epoch 11: 100%|██████████| 1550/1550 [20:55<00:00, 34.29s/it]  "
     ]
    },
    {
     "name": "stdout",
     "output_type": "stream",
     "text": [
      "11\t17050\t3.26\t\t\u001b[37m10.41\t\t\u001b[32m0.324\u001b[0m\t\t0.939\t\t1.90m - 20.9m / 47.5m\n"
     ]
    },
    {
     "name": "stderr",
     "output_type": "stream",
     "text": [
      "Epoch 13:   0%|          | 1/1550 [22:50<14:45:08, 34.29s/it]  "
     ]
    },
    {
     "name": "stdout",
     "output_type": "stream",
     "text": [
      "12\t18600\t2.96\t\t\u001b[37m11.74\t\t\u001b[37m0.314\u001b[0m\t\t0.929\t\t1.90m - 22.8m / 47.5m\n"
     ]
    },
    {
     "name": "stderr",
     "output_type": "stream",
     "text": [
      "Epoch 14:   0%|          | 1/1550 [24:44<14:45:08, 34.29s/it]  "
     ]
    },
    {
     "name": "stdout",
     "output_type": "stream",
     "text": [
      "13\t20150\t2.76\t\t\u001b[37m12.74\t\t\u001b[37m0.319\u001b[0m\t\t0.924\t\t1.90m - 24.7m / 47.6m\n"
     ]
    },
    {
     "name": "stderr",
     "output_type": "stream",
     "text": [
      "Epoch 15:   0%|          | 2/1550 [26:38<14:44:34, 34.29s/it]  "
     ]
    },
    {
     "name": "stdout",
     "output_type": "stream",
     "text": [
      "14\t21700\t2.55\t\t\u001b[37m13.18\t\t\u001b[37m0.303\u001b[0m\t\t0.913\t\t1.90m - 26.6m / 47.5m\n"
     ]
    },
    {
     "name": "stderr",
     "output_type": "stream",
     "text": [
      "Epoch 16:   0%|          | 2/1550 [28:32<14:44:34, 34.29s/it]  "
     ]
    },
    {
     "name": "stdout",
     "output_type": "stream",
     "text": [
      "15\t23250\t2.39\t\t\u001b[37m12.60\t\t\u001b[37m0.321\u001b[0m\t\t0.931\t\t1.90m - 28.5m / 47.6m\n"
     ]
    },
    {
     "name": "stderr",
     "output_type": "stream",
     "text": [
      "Epoch 16: 100%|██████████| 1550/1550 [30:26<00:00, 34.29s/it]  \n"
     ]
    },
    {
     "name": "stdout",
     "output_type": "stream",
     "text": [
      "16\t24800\t2.25\t\t\u001b[37m13.68\t\t\u001b[37m0.312\u001b[0m\t\t0.894\t\t1.90m - 30.4m / 47.5m\n",
      "+-------------------------------------------------+\n",
      "Best Valid Result: 0.3137767038764019\n",
      "+-------------------------------------------------+\n",
      "\n",
      "\n",
      "###################################################\n",
      "\n",
      "Best iteration: 4\n",
      "Best f1: 0.3137767038764019\n",
      "Best HP:\n",
      "+------------------------------------------------+\n",
      "|                Hyperparameters                 |\n",
      "+-------------------------+----------------------+\n",
      "|        Parameter        |        Value         |\n",
      "+-------------------------+----------------------+\n",
      "|        batch_size       |          11          |\n",
      "|        model_size       |         300          |\n",
      "|    learning_rate_type   |         noam         |\n",
      "|      learning_rate      | 0.000738475015191512 |\n",
      "|   learning_rate_warmup  |         4800         |\n",
      "|   learning_rate_factor  |          2           |\n",
      "|     optim_adam_beta1    |         0.9          |\n",
      "|     optim_adam_beta2    |         0.98         |\n",
      "|      early_stopping     |          5           |\n",
      "|         use_cuda        |         True         |\n",
      "|       n_enc_blocks      |          2           |\n",
      "|         n_heads         |          10          |\n",
      "|           d_k           |          30          |\n",
      "|           d_v           |          30          |\n",
      "|       dropout_rate      | 0.21777426291041754  |\n",
      "|   pointwise_layer_size  |         3782         |\n",
      "|    output_layer_type    |         sum          |\n",
      "| output_conv_num_filters |          54          |\n",
      "| output_conv_kernel_size |          6           |\n",
      "|    output_conv_stride   |          1           |\n",
      "|   output_conv_padding   |          0           |\n",
      "| log_every_xth_iteration |          -1          |\n",
      "|        num_epochs       |          25          |\n",
      "|      embedding_type     |       fasttext       |\n",
      "|      embedding_name     |          6B          |\n",
      "|      embedding_dim      |         300          |\n",
      "|     clip_comments_to    |          85          |\n",
      "|         language        |          de          |\n",
      "|      use_stop_words     |         True         |\n",
      "|           seed          |         None         |\n",
      "+-------------------------+----------------------+\n"
     ]
    }
   ],
   "source": [
    "dataset_logger = logging.getLogger('data_loader')\n",
    "best_f1 = 0.0\n",
    "best_model = None\n",
    "best_hp = None\n",
    "best_iteration = -1\n",
    "for optim_iteration in range(num_optim_iterations):\n",
    "        \n",
    "    print(f'\\n\\n+-------------------------------------------------+\\nOptim Iteration: {optim_iteration}\\n\\n')\n",
    "    logger.info(f'\\n\\n=================================\\nOptim Iteration: {optim_iteration}\\n=================================')\n",
    "    \n",
    "    # generate iteration hyper parameters\n",
    "    hp = randomize_params(default_hp, random_grid_search_ranges)\n",
    "        \n",
    "    logger.info('New Params:')\n",
    "    logger.info(hp)\n",
    "    print(hp)\n",
    "    \n",
    "    logger.debug('Load dataset')\n",
    "    dataset = load(hp, dataset_logger)\n",
    "    logger.debug('dataset loaded')\n",
    "    logger.debug('Load model')\n",
    "    trainer = load_model(dataset, hp, experiment_name)\n",
    "    logger.debug('model loaded')\n",
    "    \n",
    "    logger.debug('Begin training')\n",
    "    model = None\n",
    "    try:\n",
    "        result = trainer.train(use_cuda=hp.use_cuda, perform_evaluation=False)\n",
    "        model = result['model']\n",
    "    except Exception as err:\n",
    "        logger.exception(\"Could not complete iteration \" + str(optim_iteration))\n",
    "        print(f'Could not complete iteration {optim_iteration} because of {str(err)}')\n",
    "        continue\n",
    "        \n",
    "    # perform evaluation and log results\n",
    "    result = None\n",
    "    try:\n",
    "        result = trainer.perform_final_evaluation(use_test_set=False, verbose=False)\n",
    "    except Exception as err:\n",
    "        logger.exception(\"Could not complete iteration evaluation for it \" + str(optim_iteration))\n",
    "        print(f'Could not complete iteration {optim_iteration} evaluation because of {str(err)}')\n",
    "        continue\n",
    "    \n",
    "    it_f1 = result[1][1]\n",
    "    if best_f1 < it_f1:\n",
    "        best_f1 = it_f1\n",
    "        best_model = model\n",
    "        best_hp = copy.copy(hp)\n",
    "        best_iteration = optim_iteration\n",
    "        print('+-------------------------------------------------+')\n",
    "        print(f'Best Valid Result: {best_f1}')\n",
    "        print('+-------------------------------------------------+')\n",
    "    else:\n",
    "        print(f'\\nValid Result: {best_f1}\\n')    \n",
    "    print('\\n\\n###################################################\\n')\n",
    "    \n",
    "print('Best iteration: ' + str(best_iteration))\n",
    "print('Best f1: ' + str(best_f1))\n",
    "print('Best HP:')\n",
    "print(best_hp)"
   ]
  },
  {
   "cell_type": "code",
   "execution_count": null,
   "metadata": {},
   "outputs": [],
   "source": []
  },
  {
   "cell_type": "code",
   "execution_count": null,
   "metadata": {},
   "outputs": [],
   "source": []
  }
 ],
 "metadata": {
  "kernelspec": {
   "display_name": "Python 3",
   "language": "python",
   "name": "python3"
  },
  "language_info": {
   "codemirror_mode": {
    "name": "ipython",
    "version": 3
   },
   "file_extension": ".py",
   "mimetype": "text/x-python",
   "name": "python",
   "nbconvert_exporter": "python",
   "pygments_lexer": "ipython3",
   "version": "3.6.3"
  }
 },
 "nbformat": 4,
 "nbformat_minor": 2
}
