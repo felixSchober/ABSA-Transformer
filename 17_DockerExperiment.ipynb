{
 "cells": [
  {
   "cell_type": "code",
   "execution_count": 1,
   "metadata": {},
   "outputs": [],
   "source": [
    "from misc.preferences import PREFERENCES\n",
    "from misc.run_configuration import hyperOpt_goodParams, default_params\n",
    "from misc.experimental_environment import Experiment\n",
    "import time\n",
    "from data.organic2019 import organic_dataset as dsl"
   ]
  },
  {
   "cell_type": "code",
   "execution_count": 2,
   "metadata": {},
   "outputs": [],
   "source": [
    "PREFERENCES.defaults(\n",
    "    data_root='./data/data/organic2019',\n",
    "    data_train='train.csv',    \n",
    "    data_validation='validation.csv',\n",
    "    data_test='test.csv',\n",
    "    source_index=0,\n",
    "    target_vocab_index=1,\n",
    "    file_format='csv'\n",
    ")"
   ]
  },
  {
   "cell_type": "code",
   "execution_count": 3,
   "metadata": {},
   "outputs": [
    {
     "name": "stdout",
     "output_type": "stream",
     "text": [
      "Experiment DockerTest initialized\n",
      "START: 1555516902.6268125\n",
      "Log path is  /data/home/felix/ABSA-Transformer/logs/DockerTest/20190417/16\n",
      "Log path is  /data/home/felix/ABSA-Transformer/logs/DockerTest/20190417/17\n",
      "\n",
      "\n",
      "#########################################################################\n",
      "Name: DockerTest\n",
      "Description: [DOCKER_OFF] This experiment is run to measure the performance decrease when using docker vs. running it locally.\n",
      "#########################################################################\n",
      "\n",
      "\n",
      "+----------------------------------------------------------------------------------+\n",
      "|                                 Hyperparameters                                  |\n",
      "+------------------------------+---------------------------------------------------+\n",
      "|          Parameter           |                       Value                       |\n",
      "+------------------------------+---------------------------------------------------+\n",
      "|            kwargs            | {'batch_size': 12, 'learning_rate_schedu[...]one} |\n",
      "|          model_size          |                        300                        |\n",
      "|        early_stopping        |                         5                         |\n",
      "|           use_cuda           |                        True                       |\n",
      "|             task             |                      entities                     |\n",
      "|          batch_size          |                         12                        |\n",
      "| learning_rate_scheduler_type |             LearningSchedulerType.Noam            |\n",
      "|      output_layer_type       |             OutputLayerType.LinearSum             |\n",
      "|        optimizer_type        |                 OptimizerType.Adam                |\n",
      "|        learning_rate         |                      7.2e-05                      |\n",
      "|  noam_learning_rate_warmup   |                        8000                       |\n",
      "|  noam_learning_rate_factor   |                       1.418                       |\n",
      "|          adam_beta1          |                        0.81                       |\n",
      "|          adam_beta2          |                       0.7173                      |\n",
      "|           adam_eps           |                      0.000814                     |\n",
      "|      adam_weight_decay       |                         0                         |\n",
      "|         adam_amsgrad         |                       False                       |\n",
      "|           use_bias           |                       False                       |\n",
      "|         n_enc_blocks         |                         2                         |\n",
      "|           n_heads            |                         1                         |\n",
      "|             d_k              |                        300                        |\n",
      "|             d_v              |                        300                        |\n",
      "|         dropout_rate         |                      0.302424                     |\n",
      "|     pointwise_layer_size     |                        405                        |\n",
      "|      last_layer_dropout      |                  0.79602089766246                 |\n",
      "|   log_every_xth_iteration    |                         -1                        |\n",
      "|          num_epochs          |                         5                         |\n",
      "|        embedding_type        |                       glove                       |\n",
      "|        embedding_name        |                         6B                        |\n",
      "|        embedding_dim         |                        300                        |\n",
      "|       clip_comments_to       |                        113                        |\n",
      "|      finetune_embedding      |                        True                       |\n",
      "|           language           |                         en                        |\n",
      "|        use_stop_words        |                        True                       |\n",
      "|         use_stemming         |                       False                       |\n",
      "|        harmonize_bahn        |                        True                       |\n",
      "|      use_spell_checkers      |                       False                       |\n",
      "|      replace_url_tokens      |                        True                       |\n",
      "|       use_text_cleaner       |                       False                       |\n",
      "|     contraction_removal      |                       False                       |\n",
      "|    organic_text_cleaning     |                       False                       |\n",
      "|             seed             |                        None                       |\n",
      "+------------------------------+---------------------------------------------------+\n"
     ]
    },
    {
     "name": "stderr",
     "output_type": "stream",
     "text": [
      "                                                                    \r"
     ]
    },
    {
     "name": "stdout",
     "output_type": "stream",
     "text": [
      "+------------------------+\n",
      "| GERM EVAL 2017 DATASET |\n",
      "+---------------+--------+\n",
      "|     Split     |  Size  |\n",
      "+---------------+--------+\n",
      "|     train     |  8441  |\n",
      "|   validation  |  745   |\n",
      "|      test     |  694   |\n",
      "+---------------+--------+\n",
      "+------------------------------------------+\n",
      "|             Vocabulary Stats             |\n",
      "+----------------------------------+-------+\n",
      "|            Vocabulary            |  Size |\n",
      "+----------------------------------+-------+\n",
      "|        aspect_sentiments         |   4   |\n",
      "|             comments             | 11685 |\n",
      "|             padding              |   2   |\n",
      "| GMOs genetic engineering general |   4   |\n",
      "|      conventional companies      |   3   |\n",
      "|       conventional farming       |   4   |\n",
      "|       conventional general       |   4   |\n",
      "|      conventional products       |   4   |\n",
      "|        organic companies         |   4   |\n",
      "|         organic farmers          |   4   |\n",
      "|         organic general          |   4   |\n",
      "|         organic products         |   4   |\n",
      "+----------------------------------+-------+\n",
      "\n",
      "\n",
      "\n",
      "\n",
      "+-------------------------------------------------------------------+\n",
      "|                  GMOs genetic engineering general                 |\n",
      "+-------------+---------+--------------------+----------------------+\n",
      "|    Label    | Samples |   Triv. Accuracy   |     Class Weight     |\n",
      "+-------------+---------+--------------------+----------------------+\n",
      "|     n/a     |   9606  | 97.22672064777328  | 0.027732793522267207 |\n",
      "|   negative  |    87   | 0.8805668016194331 |  0.9911943319838057  |\n",
      "|   neutral   |   135   | 1.3663967611336032 |  0.986336032388664   |\n",
      "|   positive  |    52   | 0.5263157894736842 |  0.9947368421052631  |\n",
      "|     Sum     |   9880  |                    |         1.0          |\n",
      "| Head Weight |         |                    |  0.9722672064777328  |\n",
      "+-------------+---------+--------------------+----------------------+\n",
      "\n",
      "\n",
      "\n",
      "+--------------------------------------------------------------------+\n",
      "|                       conventional companies                       |\n",
      "+-------------+---------+---------------------+----------------------+\n",
      "|    Label    | Samples |    Triv. Accuracy   |     Class Weight     |\n",
      "+-------------+---------+---------------------+----------------------+\n",
      "|     n/a     |   9858  |  99.77732793522267  | 0.002226720647773295 |\n",
      "|   neutral   |    10   | 0.10121457489878542 |  0.9989878542510121  |\n",
      "|   negative  |    12   | 0.12145748987854252 |  0.9987854251012146  |\n",
      "|     Sum     |   9880  |                     |         1.0          |\n",
      "| Head Weight |         |                     |  0.9977732793522267  |\n",
      "+-------------+---------+---------------------+----------------------+\n",
      "\n",
      "\n",
      "\n",
      "+-------------------------------------------------------------------+\n",
      "|                        conventional farming                       |\n",
      "+-------------+---------+--------------------+----------------------+\n",
      "|    Label    | Samples |   Triv. Accuracy   |     Class Weight     |\n",
      "+-------------+---------+--------------------+----------------------+\n",
      "|     n/a     |   9644  | 97.61133603238866  | 0.023886639676113375 |\n",
      "|   neutral   |    82   | 0.8299595141700404 |  0.9917004048582996  |\n",
      "|   negative  |   114   | 1.153846153846154  |  0.9884615384615385  |\n",
      "|   positive  |    40   | 0.4048582995951417 |  0.9959514170040485  |\n",
      "|     Sum     |   9880  |                    |         1.0          |\n",
      "| Head Weight |         |                    |  0.9761133603238866  |\n",
      "+-------------+---------+--------------------+----------------------+\n",
      "\n",
      "\n",
      "\n",
      "+--------------------------------------------------------------------+\n",
      "|                        conventional general                        |\n",
      "+-------------+---------+---------------------+----------------------+\n",
      "|    Label    | Samples |    Triv. Accuracy   |     Class Weight     |\n",
      "+-------------+---------+---------------------+----------------------+\n",
      "|     n/a     |   9833  |   99.5242914979757  | 0.004757085020242968 |\n",
      "|   positive  |    7    |  0.0708502024291498 |  0.9992914979757085  |\n",
      "|   negative  |    17   | 0.17206477732793524 |  0.9982793522267206  |\n",
      "|   neutral   |    23   |  0.2327935222672065 |  0.997672064777328   |\n",
      "|     Sum     |   9880  |                     |         1.0          |\n",
      "| Head Weight |         |                     |  0.995242914979757   |\n",
      "+-------------+---------+---------------------+----------------------+\n",
      "\n",
      "\n",
      "\n",
      "+-------------------------------------------------------------------+\n",
      "|                       conventional products                       |\n",
      "+-------------+---------+--------------------+----------------------+\n",
      "|    Label    | Samples |   Triv. Accuracy   |     Class Weight     |\n",
      "+-------------+---------+--------------------+----------------------+\n",
      "|     n/a     |   9564  | 96.80161943319838  | 0.031983805668016174 |\n",
      "|   negative  |   145   | 1.4676113360323886 |  0.9853238866396761  |\n",
      "|   positive  |    65   | 0.6578947368421052 |  0.993421052631579   |\n",
      "|   neutral   |   106   | 1.0728744939271255 |  0.9892712550607288  |\n",
      "|     Sum     |   9880  |                    |         1.0          |\n",
      "| Head Weight |         |                    |  0.9680161943319838  |\n",
      "+-------------+---------+--------------------+----------------------+\n",
      "\n",
      "\n",
      "\n",
      "+-------------------------------------------------------------------+\n",
      "|                         organic companies                         |\n",
      "+-------------+---------+--------------------+----------------------+\n",
      "|    Label    | Samples |   Triv. Accuracy   |     Class Weight     |\n",
      "+-------------+---------+--------------------+----------------------+\n",
      "|     n/a     |   9554  | 96.70040485829959  | 0.032995951417004066 |\n",
      "|   positive  |   115   | 1.1639676113360324 |  0.9883603238866396  |\n",
      "|   negative  |    86   | 0.8704453441295547 |  0.9912955465587044  |\n",
      "|   neutral   |   125   | 1.2651821862348178 |  0.9873481781376519  |\n",
      "|     Sum     |   9880  |                    |         1.0          |\n",
      "| Head Weight |         |                    |  0.9670040485829959  |\n",
      "+-------------+---------+--------------------+----------------------+\n",
      "\n",
      "\n",
      "\n",
      "+-----------------------------------------------------------------+\n",
      "|                         organic farmers                         |\n",
      "+-------------+---------+-------------------+---------------------+\n",
      "|    Label    | Samples |   Triv. Accuracy  |     Class Weight    |\n",
      "+-------------+---------+-------------------+---------------------+\n",
      "|     n/a     |   8922  | 90.30364372469636 | 0.09696356275303641 |\n",
      "|   positive  |   311   | 3.147773279352227 |  0.9685222672064777 |\n",
      "|   negative  |   240   |  2.42914979757085 |  0.9757085020242915 |\n",
      "|   neutral   |   407   | 4.119433198380567 |  0.9588056680161944 |\n",
      "|     Sum     |   9880  |                   |         1.0         |\n",
      "| Head Weight |         |                   |  0.9030364372469636 |\n",
      "+-------------+---------+-------------------+---------------------+\n",
      "\n",
      "\n",
      "\n",
      "+------------------------------------------------------------------+\n",
      "|                         organic general                          |\n",
      "+-------------+---------+--------------------+---------------------+\n",
      "|    Label    | Samples |   Triv. Accuracy   |     Class Weight    |\n",
      "+-------------+---------+--------------------+---------------------+\n",
      "|   neutral   |   659   | 6.670040485829959  |  0.9332995951417005 |\n",
      "|     n/a     |   8660  | 87.65182186234817  | 0.12348178137651822 |\n",
      "|   positive  |   286   | 2.8947368421052633 |  0.9710526315789474 |\n",
      "|   negative  |   275   | 2.783400809716599  |  0.972165991902834  |\n",
      "|     Sum     |   9880  |                    |         1.0         |\n",
      "| Head Weight |         |                    |  0.8765182186234818 |\n",
      "+-------------+---------+--------------------+---------------------+\n",
      "\n",
      "\n",
      "\n",
      "+----------------------------------------------------------------+\n",
      "|                        organic products                        |\n",
      "+-------------+---------+-------------------+--------------------+\n",
      "|    Label    | Samples |   Triv. Accuracy  |    Class Weight    |\n",
      "+-------------+---------+-------------------+--------------------+\n",
      "|     n/a     |   8053  |  81.5080971659919 | 0.184919028340081  |\n",
      "|   positive  |   745   | 7.540485829959515 | 0.9245951417004048 |\n",
      "|   negative  |   504   | 5.101214574898785 | 0.9489878542510122 |\n",
      "|   neutral   |   578   | 5.850202429149798 | 0.941497975708502  |\n",
      "|     Sum     |   9880  |                   |        1.0         |\n",
      "| Head Weight |         |                   | 0.815080971659919  |\n",
      "+-------------+---------+-------------------+--------------------+\n",
      "\n",
      "\n",
      "+--------------------------------------------------------------+\n",
      "|                            Train                             |\n",
      "+----------------------------------+------+------+------+------+\n",
      "|             Category             | POS  | NEG  | NEU  | Sum  |\n",
      "+----------------------------------+------+------+------+------+\n",
      "|         organic general          | 258  | 254  | 582  | 1094 |\n",
      "|      conventional companies      |  0   |  12  |  8   |  20  |\n",
      "|         organic products         | 715  | 475  | 496  | 1686 |\n",
      "|        organic companies         | 100  |  80  | 108  | 288  |\n",
      "|       conventional general       |  6   |  16  |  20  |  42  |\n",
      "|         organic farmers          | 281  | 212  | 360  | 853  |\n",
      "|       conventional farming       |  38  | 113  |  80  | 231  |\n",
      "|      conventional products       |  62  | 151  |  96  | 309  |\n",
      "| GMOs genetic engineering general |  53  |  85  | 117  | 255  |\n",
      "|              Total               | 1513 | 1398 | 1867 | 4778 |\n",
      "+----------------------------------+------+------+------+------+\n",
      "\n",
      "+----------------------------------------------------------+\n",
      "|                        Validation                        |\n",
      "+----------------------------------+-----+-----+-----+-----+\n",
      "|             Category             | POS | NEG | NEU | Sum |\n",
      "+----------------------------------+-----+-----+-----+-----+\n",
      "|       conventional general       |  1  |  0  |  1  |  2  |\n",
      "| GMOs genetic engineering general |  2  |  2  |  4  |  8  |\n",
      "|      conventional products       |  4  |  7  |  4  |  15 |\n",
      "|         organic general          |  14 |  13 |  45 |  72 |\n",
      "|        organic companies         |  19 |  10 |  14 |  43 |\n",
      "|         organic products         |  69 |  40 |  50 | 159 |\n",
      "|         organic farmers          |  17 |  19 |  28 |  64 |\n",
      "|       conventional farming       |  5  |  6  |  0  |  11 |\n",
      "|      conventional companies      |  0  |  1  |  0  |  1  |\n",
      "|              Total               | 131 |  98 | 146 | 375 |\n",
      "+----------------------------------+-----+-----+-----+-----+\n",
      "\n",
      "+----------------------------------------------------------+\n",
      "|                           Test                           |\n",
      "+----------------------------------+-----+-----+-----+-----+\n",
      "|             Category             | POS | NEG | NEU | Sum |\n",
      "+----------------------------------+-----+-----+-----+-----+\n",
      "|         organic general          |  35 |  24 |  44 | 103 |\n",
      "|      conventional products       |  6  |  9  |  7  |  22 |\n",
      "|         organic products         |  49 |  37 |  48 | 134 |\n",
      "|         organic farmers          |  44 |  18 |  23 |  85 |\n",
      "| GMOs genetic engineering general |  3  |  7  |  15 |  25 |\n",
      "|       conventional general       |  0  |  1  |  2  |  3  |\n",
      "|       conventional farming       |  0  |  5  |  3  |  8  |\n",
      "|      conventional companies      |  0  |  0  |  2  |  2  |\n",
      "|        organic companies         |  10 |  6  |  8  |  24 |\n",
      "|              Total               | 147 | 107 | 152 | 406 |\n",
      "+----------------------------------+-----+-----+-----+-----+\n",
      "\n",
      "\n",
      "dataset loaded. Duration: 1.954179048538208\n"
     ]
    },
    {
     "name": "stdout",
     "output_type": "stream",
     "text": [
      "pre_training - INFO - Classes: ['n/a', 'neutral', 'positive', 'negative']\n",
      "pre_training - INFO - Classes: ['n/a', 'neutral', 'positive', 'negative']\n",
      "pre_training - INFO - JointAspectTagger (\n",
      "  (encoder): TransformerEncoder(\n",
      "    (positional_encoding): PositionalEncoding2(\n",
      "      (dropout): Dropout(p=0.302424)\n",
      "    )\n",
      "    (encoder_blocks): ModuleList(\n",
      "      (0): EncoderBlock(\n",
      "        (self_attention_layer): MultiHeadedSelfAttentionLayer(\n",
      "          (query_projections): Linear(in_features=300, out_features=300, bias=False)\n",
      "          (key_projections): Linear(in_features=300, out_features=300, bias=False)\n",
      "          (value_projections): Linear(in_features=300, out_features=300, bias=False)\n",
      "          (attention_layer): ScaledDotProductAttentionLayer(\n",
      "            (dropout): Dropout(p=0.302424)\n",
      "          )\n",
      "          (w_0): Linear(in_features=300, out_features=300, bias=False)\n",
      "          (dropout): Dropout(p=0.302424)\n",
      "        )\n",
      "        (feed_forward_layer): PointWiseFCLayer(\n",
      "          (w_1): Linear(in_features=300, out_features=405, bias=False)\n",
      "          (w_2): Linear(in_features=405, out_features=300, bias=False)\n",
      "          (dropout): Dropout(p=0.302424)\n",
      "        )\n",
      "        (layer_norm): LayerNorm()\n",
      "      )\n",
      "      (1): EncoderBlock(\n",
      "        (self_attention_layer): MultiHeadedSelfAttentionLayer(\n",
      "          (query_projections): Linear(in_features=300, out_features=300, bias=False)\n",
      "          (key_projections): Linear(in_features=300, out_features=300, bias=False)\n",
      "          (value_projections): Linear(in_features=300, out_features=300, bias=False)\n",
      "          (attention_layer): ScaledDotProductAttentionLayer(\n",
      "            (dropout): Dropout(p=0.302424)\n",
      "          )\n",
      "          (w_0): Linear(in_features=300, out_features=300, bias=False)\n",
      "          (dropout): Dropout(p=0.302424)\n",
      "        )\n",
      "        (feed_forward_layer): PointWiseFCLayer(\n",
      "          (w_1): Linear(in_features=300, out_features=405, bias=False)\n",
      "          (w_2): Linear(in_features=405, out_features=300, bias=False)\n",
      "          (dropout): Dropout(p=0.302424)\n",
      "        )\n",
      "        (layer_norm): LayerNorm()\n",
      "      )\n",
      "    )\n",
      "    (layer_norm): LayerNorm()\n",
      "    (src_embeddings): Embedding(11685, 300)\n",
      "  ), weights=((300, 300), (300, 300), (300, 300), (300, 300), (405, 300), (300, 405), (300,), (300,), (300, 300), (300, 300), (300, 300), (300, 300), (405, 300), (300, 405), (300,), (300,), (300,), (300,), (11685, 300)), parameters=4713300\n",
      "  (taggers): ModuleList(\n",
      "    (0): CommentWiseSumLogSoftmax(\n",
      "      (output_projection): Linear(in_features=300, out_features=4, bias=True)\n",
      "      (dropout): Dropout(p=0.79602089766246)\n",
      "    )\n",
      "    (1): CommentWiseSumLogSoftmax(\n",
      "      (output_projection): Linear(in_features=300, out_features=4, bias=True)\n",
      "      (dropout): Dropout(p=0.79602089766246)\n",
      "    )\n",
      "    (2): CommentWiseSumLogSoftmax(\n",
      "      (output_projection): Linear(in_features=300, out_features=4, bias=True)\n",
      "      (dropout): Dropout(p=0.79602089766246)\n",
      "    )\n",
      "    (3): CommentWiseSumLogSoftmax(\n",
      "      (output_projection): Linear(in_features=300, out_features=4, bias=True)\n",
      "      (dropout): Dropout(p=0.79602089766246)\n",
      "    )\n",
      "    (4): CommentWiseSumLogSoftmax(\n",
      "      (output_projection): Linear(in_features=300, out_features=4, bias=True)\n",
      "      (dropout): Dropout(p=0.79602089766246)\n",
      "    )\n",
      "    (5): CommentWiseSumLogSoftmax(\n",
      "      (output_projection): Linear(in_features=300, out_features=4, bias=True)\n",
      "      (dropout): Dropout(p=0.79602089766246)\n",
      "    )\n",
      "    (6): CommentWiseSumLogSoftmax(\n",
      "      (output_projection): Linear(in_features=300, out_features=4, bias=True)\n",
      "      (dropout): Dropout(p=0.79602089766246)\n",
      "    )\n",
      "    (7): CommentWiseSumLogSoftmax(\n",
      "      (output_projection): Linear(in_features=300, out_features=4, bias=True)\n",
      "      (dropout): Dropout(p=0.79602089766246)\n",
      "    )\n",
      "    (8): CommentWiseSumLogSoftmax(\n",
      "      (output_projection): Linear(in_features=300, out_features=4, bias=True)\n",
      "      (dropout): Dropout(p=0.79602089766246)\n",
      "    )\n",
      "  ), weights=((4, 300), (4,), (4, 300), (4,), (4, 300), (4,), (4, 300), (4,), (4, 300), (4,), (4, 300), (4,), (4, 300), (4,), (4, 300), (4,), (4, 300), (4,)), parameters=10836\n",
      ")\n",
      "==================================\n",
      "Total Number of parameters: 4,724,136\n",
      "==================================\n",
      "\n",
      "pre_training - INFO - JointAspectTagger (\n",
      "  (encoder): TransformerEncoder(\n",
      "    (positional_encoding): PositionalEncoding2(\n",
      "      (dropout): Dropout(p=0.302424)\n",
      "    )\n",
      "    (encoder_blocks): ModuleList(\n",
      "      (0): EncoderBlock(\n",
      "        (self_attention_layer): MultiHeadedSelfAttentionLayer(\n",
      "          (query_projections): Linear(in_features=300, out_features=300, bias=False)\n",
      "          (key_projections): Linear(in_features=300, out_features=300, bias=False)\n",
      "          (value_projections): Linear(in_features=300, out_features=300, bias=False)\n",
      "          (attention_layer): ScaledDotProductAttentionLayer(\n",
      "            (dropout): Dropout(p=0.302424)\n",
      "          )\n",
      "          (w_0): Linear(in_features=300, out_features=300, bias=False)\n",
      "          (dropout): Dropout(p=0.302424)\n",
      "        )\n",
      "        (feed_forward_layer): PointWiseFCLayer(\n",
      "          (w_1): Linear(in_features=300, out_features=405, bias=False)\n",
      "          (w_2): Linear(in_features=405, out_features=300, bias=False)\n",
      "          (dropout): Dropout(p=0.302424)\n",
      "        )\n",
      "        (layer_norm): LayerNorm()\n",
      "      )\n",
      "      (1): EncoderBlock(\n",
      "        (self_attention_layer): MultiHeadedSelfAttentionLayer(\n",
      "          (query_projections): Linear(in_features=300, out_features=300, bias=False)\n",
      "          (key_projections): Linear(in_features=300, out_features=300, bias=False)\n",
      "          (value_projections): Linear(in_features=300, out_features=300, bias=False)\n",
      "          (attention_layer): ScaledDotProductAttentionLayer(\n",
      "            (dropout): Dropout(p=0.302424)\n",
      "          )\n",
      "          (w_0): Linear(in_features=300, out_features=300, bias=False)\n",
      "          (dropout): Dropout(p=0.302424)\n",
      "        )\n",
      "        (feed_forward_layer): PointWiseFCLayer(\n",
      "          (w_1): Linear(in_features=300, out_features=405, bias=False)\n",
      "          (w_2): Linear(in_features=405, out_features=300, bias=False)\n",
      "          (dropout): Dropout(p=0.302424)\n",
      "        )\n",
      "        (layer_norm): LayerNorm()\n",
      "      )\n",
      "    )\n",
      "    (layer_norm): LayerNorm()\n",
      "    (src_embeddings): Embedding(11685, 300)\n",
      "  ), weights=((300, 300), (300, 300), (300, 300), (300, 300), (405, 300), (300, 405), (300,), (300,), (300, 300), (300, 300), (300, 300), (300, 300), (405, 300), (300, 405), (300,), (300,), (300,), (300,), (11685, 300)), parameters=4713300\n",
      "  (taggers): ModuleList(\n",
      "    (0): CommentWiseSumLogSoftmax(\n",
      "      (output_projection): Linear(in_features=300, out_features=4, bias=True)\n",
      "      (dropout): Dropout(p=0.79602089766246)\n",
      "    )\n",
      "    (1): CommentWiseSumLogSoftmax(\n",
      "      (output_projection): Linear(in_features=300, out_features=4, bias=True)\n",
      "      (dropout): Dropout(p=0.79602089766246)\n",
      "    )\n",
      "    (2): CommentWiseSumLogSoftmax(\n",
      "      (output_projection): Linear(in_features=300, out_features=4, bias=True)\n",
      "      (dropout): Dropout(p=0.79602089766246)\n",
      "    )\n",
      "    (3): CommentWiseSumLogSoftmax(\n",
      "      (output_projection): Linear(in_features=300, out_features=4, bias=True)\n",
      "      (dropout): Dropout(p=0.79602089766246)\n",
      "    )\n",
      "    (4): CommentWiseSumLogSoftmax(\n",
      "      (output_projection): Linear(in_features=300, out_features=4, bias=True)\n",
      "      (dropout): Dropout(p=0.79602089766246)\n",
      "    )\n",
      "    (5): CommentWiseSumLogSoftmax(\n",
      "      (output_projection): Linear(in_features=300, out_features=4, bias=True)\n",
      "      (dropout): Dropout(p=0.79602089766246)\n",
      "    )\n",
      "    (6): CommentWiseSumLogSoftmax(\n",
      "      (output_projection): Linear(in_features=300, out_features=4, bias=True)\n",
      "      (dropout): Dropout(p=0.79602089766246)\n",
      "    )\n",
      "    (7): CommentWiseSumLogSoftmax(\n",
      "      (output_projection): Linear(in_features=300, out_features=4, bias=True)\n",
      "      (dropout): Dropout(p=0.79602089766246)\n",
      "    )\n",
      "    (8): CommentWiseSumLogSoftmax(\n",
      "      (output_projection): Linear(in_features=300, out_features=4, bias=True)\n",
      "      (dropout): Dropout(p=0.79602089766246)\n",
      "    )\n",
      "  ), weights=((4, 300), (4,), (4, 300), (4,), (4, 300), (4,), (4, 300), (4,), (4, 300), (4,), (4, 300), (4,), (4, 300), (4,), (4, 300), (4,), (4, 300), (4,)), parameters=10836\n",
      ")\n",
      "==================================\n",
      "Total Number of parameters: 4,724,136\n",
      "==================================\n",
      "\n"
     ]
    },
    {
     "name": "stdout",
     "output_type": "stream",
     "text": [
      "pre_training - INFO - Tensorboard enabled. Run will be located at /runs/DockerTest/20190417/17/20190417/5/0/. Full path is /data/home/felix/ABSA-Transformer/runs/DockerTest/20190417/17/20190417/5EP/0\n",
      "pre_training - INFO - Tensorboard enabled. Run will be located at /runs/DockerTest/20190417/17/20190417/5/0/. Full path is /data/home/felix/ABSA-Transformer/runs/DockerTest/20190417/17/20190417/5EP/0\n"
     ]
    },
    {
     "name": "stderr",
     "output_type": "stream",
     "text": [
      "/data/anaconda/envs/py35/lib/python3.6/site-packages/torch/onnx/utils.py:501: UserWarning: ONNX export failed on ATen operator std because torch.onnx.symbolic.std does not exist\n",
      "  .format(op_name, op_name))\n",
      "/data/anaconda/envs/py35/lib/python3.6/site-packages/torch/onnx/utils.py:501: UserWarning: ONNX export failed on ATen operator std because torch.onnx.symbolic.std does not exist\n",
      "  .format(op_name, op_name))\n",
      "/data/anaconda/envs/py35/lib/python3.6/site-packages/torch/onnx/utils.py:501: UserWarning: ONNX export failed on ATen operator std because torch.onnx.symbolic.std does not exist\n",
      "  .format(op_name, op_name))\n",
      "/data/anaconda/envs/py35/lib/python3.6/site-packages/torch/onnx/utils.py:501: UserWarning: ONNX export failed on ATen operator std because torch.onnx.symbolic.std does not exist\n",
      "  .format(op_name, op_name))\n"
     ]
    },
    {
     "name": "stdout",
     "output_type": "stream",
     "text": [
      "pre_training - DEBUG - train with cuda support\n",
      "pre_training - DEBUG - train with cuda support\n",
      "pre_training - INFO - 704 Iterations per epoch with batch size of 12\n",
      "pre_training - INFO - 704 Iterations per epoch with batch size of 12\n",
      "pre_training - INFO - Total iterations: 3520\n",
      "pre_training - INFO - Total iterations: 3520\n",
      "pre_training - INFO - Total number of samples: 42240\n",
      "pre_training - INFO - Total number of samples: 42240\n",
      "pre_training - INFO - START training.\n",
      "pre_training - INFO - START training.\n"
     ]
    },
    {
     "data": {
      "application/vnd.jupyter.widget-view+json": {
       "model_id": "55192a2d4c1c4bc98a62f0ee05c8718a",
       "version_major": 2,
       "version_minor": 0
      },
      "text/plain": [
       "HBox(children=(IntProgress(value=0, max=704), HTML(value='')))"
      ]
     },
     "metadata": {},
     "output_type": "display_data"
    },
    {
     "name": "stdout",
     "output_type": "stream",
     "text": [
      "# EP\t# IT\ttr loss\t\tval loss\tf1\t\tacc\t\tduration / total time\n",
      "1\t8k\t0.63\t\t0.43\t\t0.132\t\t0.888\t\t0.54m - 0.5m / 0.0m\n",
      "2\t17k\t0.53\t\t0.43\t\t0.157\t\t0.847\t\t0.54m - 1.1m / 2.8m\n",
      "3\t25k\t0.50\t\t0.38\t\t0.179\t\t0.887\t\t0.53m - 1.7m / 2.8m\n",
      "4\t34k\t0.49\t\t0.45\t\t0.154\t\t0.843\t\t0.54m - 2.3m / 2.8m\n",
      "5\t42k\t0.48\t\t0.41\t\t0.191\t\t0.886\t\t0.54m - 2.8m / 2.8m\n",
      "Training duration was 172.8538167476654\n",
      "pre_training - DEBUG - --- Valid Scores ---\n",
      "pre_training - DEBUG - --- Valid Scores ---\n",
      "VAL f1\t0.19074074074074074 - (0.19074074074074074)\n",
      "VAL loss\t0.37986882275374473\n",
      "       .---.\n",
      " \t/     \\\n",
      "\t\\.@-@./\t\tExperiment: [0/1]\n",
      "\t/`\\_/`\\\t\tStatus: ok\n",
      "\t//  _  \\\\\tLoss: 0.37986882275374473\n",
      "\t| \\     )|_\tf1: 0.19074074074074074\n",
      "\t/`\\_`>  <_/ \\\n",
      "\t\\__/'---'\\__/\n",
      "\n",
      "#################################################################################\n",
      "############################## EXPERIMENT COMPLETE ##############################\n",
      "\n",
      "\n",
      "Run [0/1]: 0.19482758620689655\n",
      "------------------------------\n",
      "Mean: 0.19482758620689655\n",
      "TEST F1 Statistics\n",
      "count    1.000000\n",
      "mean     0.194828\n",
      "std           NaN\n",
      "min      0.194828\n",
      "25%      0.194828\n",
      "50%      0.194828\n",
      "75%      0.194828\n",
      "max      0.194828\n",
      "Name: test_f1, dtype: float64\n",
      "END: 1555517098.3156338\n",
      "Duration without docker: 195.68882131576538\n"
     ]
    },
    {
     "data": {
      "text/plain": [
       "<Figure size 432x288 with 0 Axes>"
      ]
     },
     "metadata": {},
     "output_type": "display_data"
    },
    {
     "data": {
      "text/plain": [
       "<Figure size 720x432 with 0 Axes>"
      ]
     },
     "metadata": {},
     "output_type": "display_data"
    },
    {
     "data": {
      "text/plain": [
       "<Figure size 720x432 with 0 Axes>"
      ]
     },
     "metadata": {},
     "output_type": "display_data"
    },
    {
     "data": {
      "text/plain": [
       "<Figure size 1440x720 with 0 Axes>"
      ]
     },
     "metadata": {},
     "output_type": "display_data"
    },
    {
     "data": {
      "text/plain": [
       "<Figure size 1440x720 with 0 Axes>"
      ]
     },
     "metadata": {},
     "output_type": "display_data"
    },
    {
     "data": {
      "text/plain": [
       "<Figure size 1440x720 with 0 Axes>"
      ]
     },
     "metadata": {},
     "output_type": "display_data"
    },
    {
     "data": {
      "text/plain": [
       "<Figure size 720x432 with 0 Axes>"
      ]
     },
     "metadata": {},
     "output_type": "display_data"
    },
    {
     "data": {
      "text/plain": [
       "<Figure size 720x432 with 0 Axes>"
      ]
     },
     "metadata": {},
     "output_type": "display_data"
    },
    {
     "data": {
      "text/plain": [
       "<Figure size 1440x720 with 0 Axes>"
      ]
     },
     "metadata": {},
     "output_type": "display_data"
    },
    {
     "data": {
      "text/plain": [
       "<Figure size 1440x720 with 0 Axes>"
      ]
     },
     "metadata": {},
     "output_type": "display_data"
    },
    {
     "data": {
      "text/plain": [
       "<Figure size 1440x720 with 0 Axes>"
      ]
     },
     "metadata": {},
     "output_type": "display_data"
    },
    {
     "data": {
      "text/plain": [
       "<Figure size 720x432 with 0 Axes>"
      ]
     },
     "metadata": {},
     "output_type": "display_data"
    },
    {
     "data": {
      "text/plain": [
       "<Figure size 720x432 with 0 Axes>"
      ]
     },
     "metadata": {},
     "output_type": "display_data"
    },
    {
     "data": {
      "text/plain": [
       "<Figure size 1440x720 with 0 Axes>"
      ]
     },
     "metadata": {},
     "output_type": "display_data"
    },
    {
     "data": {
      "text/plain": [
       "<Figure size 1440x720 with 0 Axes>"
      ]
     },
     "metadata": {},
     "output_type": "display_data"
    },
    {
     "data": {
      "text/plain": [
       "<Figure size 1440x720 with 0 Axes>"
      ]
     },
     "metadata": {},
     "output_type": "display_data"
    },
    {
     "data": {
      "text/plain": [
       "<Figure size 720x432 with 0 Axes>"
      ]
     },
     "metadata": {},
     "output_type": "display_data"
    },
    {
     "data": {
      "text/plain": [
       "<Figure size 720x432 with 0 Axes>"
      ]
     },
     "metadata": {},
     "output_type": "display_data"
    },
    {
     "data": {
      "text/plain": [
       "<Figure size 1440x720 with 0 Axes>"
      ]
     },
     "metadata": {},
     "output_type": "display_data"
    },
    {
     "data": {
      "text/plain": [
       "<Figure size 1440x720 with 0 Axes>"
      ]
     },
     "metadata": {},
     "output_type": "display_data"
    },
    {
     "data": {
      "text/plain": [
       "<Figure size 1440x720 with 0 Axes>"
      ]
     },
     "metadata": {},
     "output_type": "display_data"
    },
    {
     "data": {
      "text/plain": [
       "<Figure size 720x432 with 0 Axes>"
      ]
     },
     "metadata": {},
     "output_type": "display_data"
    },
    {
     "data": {
      "text/plain": [
       "<Figure size 720x432 with 0 Axes>"
      ]
     },
     "metadata": {},
     "output_type": "display_data"
    },
    {
     "data": {
      "text/plain": [
       "<Figure size 1440x720 with 0 Axes>"
      ]
     },
     "metadata": {},
     "output_type": "display_data"
    },
    {
     "data": {
      "text/plain": [
       "<Figure size 1440x720 with 0 Axes>"
      ]
     },
     "metadata": {},
     "output_type": "display_data"
    },
    {
     "data": {
      "text/plain": [
       "<Figure size 1440x720 with 0 Axes>"
      ]
     },
     "metadata": {},
     "output_type": "display_data"
    },
    {
     "data": {
      "text/plain": [
       "<Figure size 720x432 with 0 Axes>"
      ]
     },
     "metadata": {},
     "output_type": "display_data"
    },
    {
     "data": {
      "text/plain": [
       "<Figure size 720x432 with 0 Axes>"
      ]
     },
     "metadata": {},
     "output_type": "display_data"
    },
    {
     "data": {
      "text/plain": [
       "<Figure size 1440x720 with 0 Axes>"
      ]
     },
     "metadata": {},
     "output_type": "display_data"
    },
    {
     "data": {
      "text/plain": [
       "<Figure size 1440x720 with 0 Axes>"
      ]
     },
     "metadata": {},
     "output_type": "display_data"
    },
    {
     "data": {
      "text/plain": [
       "<Figure size 1440x720 with 0 Axes>"
      ]
     },
     "metadata": {},
     "output_type": "display_data"
    },
    {
     "data": {
      "text/plain": [
       "<Figure size 720x432 with 0 Axes>"
      ]
     },
     "metadata": {},
     "output_type": "display_data"
    },
    {
     "data": {
      "text/plain": [
       "<Figure size 720x432 with 0 Axes>"
      ]
     },
     "metadata": {},
     "output_type": "display_data"
    },
    {
     "data": {
      "text/plain": [
       "<Figure size 1440x720 with 0 Axes>"
      ]
     },
     "metadata": {},
     "output_type": "display_data"
    },
    {
     "data": {
      "text/plain": [
       "<Figure size 1440x720 with 0 Axes>"
      ]
     },
     "metadata": {},
     "output_type": "display_data"
    },
    {
     "data": {
      "text/plain": [
       "<Figure size 1440x720 with 0 Axes>"
      ]
     },
     "metadata": {},
     "output_type": "display_data"
    },
    {
     "data": {
      "text/plain": [
       "<Figure size 720x432 with 0 Axes>"
      ]
     },
     "metadata": {},
     "output_type": "display_data"
    },
    {
     "data": {
      "text/plain": [
       "<Figure size 720x432 with 0 Axes>"
      ]
     },
     "metadata": {},
     "output_type": "display_data"
    },
    {
     "data": {
      "text/plain": [
       "<Figure size 1440x720 with 0 Axes>"
      ]
     },
     "metadata": {},
     "output_type": "display_data"
    },
    {
     "data": {
      "text/plain": [
       "<Figure size 1440x720 with 0 Axes>"
      ]
     },
     "metadata": {},
     "output_type": "display_data"
    },
    {
     "data": {
      "text/plain": [
       "<Figure size 1440x720 with 0 Axes>"
      ]
     },
     "metadata": {},
     "output_type": "display_data"
    },
    {
     "data": {
      "text/plain": [
       "<Figure size 720x432 with 0 Axes>"
      ]
     },
     "metadata": {},
     "output_type": "display_data"
    },
    {
     "data": {
      "text/plain": [
       "<Figure size 720x432 with 0 Axes>"
      ]
     },
     "metadata": {},
     "output_type": "display_data"
    },
    {
     "data": {
      "text/plain": [
       "<Figure size 1440x720 with 0 Axes>"
      ]
     },
     "metadata": {},
     "output_type": "display_data"
    },
    {
     "data": {
      "text/plain": [
       "<Figure size 1440x720 with 0 Axes>"
      ]
     },
     "metadata": {},
     "output_type": "display_data"
    },
    {
     "data": {
      "text/plain": [
       "<Figure size 1440x720 with 0 Axes>"
      ]
     },
     "metadata": {},
     "output_type": "display_data"
    },
    {
     "data": {
      "text/plain": [
       "<Figure size 720x432 with 0 Axes>"
      ]
     },
     "metadata": {},
     "output_type": "display_data"
    },
    {
     "data": {
      "text/plain": [
       "<Figure size 720x432 with 0 Axes>"
      ]
     },
     "metadata": {},
     "output_type": "display_data"
    },
    {
     "data": {
      "text/plain": [
       "<Figure size 1440x720 with 0 Axes>"
      ]
     },
     "metadata": {},
     "output_type": "display_data"
    },
    {
     "data": {
      "text/plain": [
       "<Figure size 1440x720 with 0 Axes>"
      ]
     },
     "metadata": {},
     "output_type": "display_data"
    },
    {
     "data": {
      "text/plain": [
       "<Figure size 1440x720 with 0 Axes>"
      ]
     },
     "metadata": {},
     "output_type": "display_data"
    },
    {
     "data": {
      "text/plain": [
       "<Figure size 720x432 with 0 Axes>"
      ]
     },
     "metadata": {},
     "output_type": "display_data"
    },
    {
     "data": {
      "text/plain": [
       "<Figure size 720x432 with 0 Axes>"
      ]
     },
     "metadata": {},
     "output_type": "display_data"
    },
    {
     "data": {
      "text/plain": [
       "<Figure size 1440x720 with 0 Axes>"
      ]
     },
     "metadata": {},
     "output_type": "display_data"
    },
    {
     "data": {
      "text/plain": [
       "<Figure size 1440x720 with 0 Axes>"
      ]
     },
     "metadata": {},
     "output_type": "display_data"
    },
    {
     "data": {
      "image/png": "[encoded data removed]",
      "text/plain": [
       "<Figure size 1440x720 with 1 Axes>"
      ]
     },
     "metadata": {},
     "output_type": "display_data"
    }
   ],
   "source": [
    "test_params = {**hyperOpt_goodParams, **{'num_epochs': 5, 'language': 'en', 'batch_size': 12, 'embedding_type': 'glove'}}\n",
    "description = '[DOCKER_OFF] This experiment is run to measure the performance decrease when using docker vs. running it locally.'\n",
    "e = Experiment('DockerTest', description, default_params, test_params, dsl, runs=1)\n",
    "\n",
    "start = time.time()\n",
    "print(f'START: {start}')\n",
    "e.run()\n",
    "end = time.time()\n",
    "print(f'END: {end}')\n",
    "duration = end - start\n",
    "print(f'Duration without docker: {duration}')"
   ]
  },
  {
   "cell_type": "code",
   "execution_count": null,
   "metadata": {},
   "outputs": [],
   "source": [
    "print(f'Duration without docker: {duration}')"
   ]
  },
  {
   "cell_type": "code",
   "execution_count": null,
   "metadata": {},
   "outputs": [],
   "source": [
    "test_params = {**hyperOpt_goodParams, **{'num_epochs': 5, 'language': 'en', 'batch_size': 12}}\n",
    "description = '[DOCKER_ON] This experiment is run to measure the performance decrease when using docker vs. running it locally.'\n",
    "e = Experiment('DockerTest', description, default_params, test_params, dsl, runs=1)\n",
    "\n",
    "start = time.time()\n",
    "print(f'START: {start}')\n",
    "e.run()\n",
    "end = time.time()\n",
    "print(f'END: {end}')\n",
    "duration = end - start\n",
    "print(f'Duration with docker: {duration}')"
   ]
  }
 ],
 "metadata": {
  "kernelspec": {
   "display_name": "Python 3",
   "language": "python",
   "name": "python3"
  },
  "language_info": {
   "codemirror_mode": {
    "name": "ipython",
    "version": 3
   },
   "file_extension": ".py",
   "mimetype": "text/x-python",
   "name": "python",
   "nbconvert_exporter": "python",
   "pygments_lexer": "ipython3",
   "version": "3.6.3"
  }
 },
 "nbformat": 4,
 "nbformat_minor": 2
}
