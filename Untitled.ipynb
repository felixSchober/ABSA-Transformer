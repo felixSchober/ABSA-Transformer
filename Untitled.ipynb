{
 "cells": [
  {
   "cell_type": "code",
   "execution_count": 1,
   "metadata": {},
   "outputs": [],
   "source": [
    "import torch\n",
    "\n",
    "from data.conll import conll2003_dataset, extract_samples, print_samples\n",
    "from misc.preferences import PREFERENCES\n",
    "from misc.hyperparameters import get_default_params\n",
    "from optimizer import get_default_optimizer\n",
    "from misc import utils\n",
    "from models.transformer.encoder import TransformerEncoder\n",
    "from models.softmax_output import SoftmaxOutputLayer, OutputLayer\n",
    "from models.transformer_tagger import TransformerTagger\n",
    "from models.transformer.train import Trainer\n",
    "from criterion import NllLoss"
   ]
  },
  {
   "cell_type": "code",
   "execution_count": 2,
   "metadata": {},
   "outputs": [],
   "source": [
    "experiment_name = 'JUST_TESTING'"
   ]
  },
  {
   "cell_type": "code",
   "execution_count": 3,
   "metadata": {},
   "outputs": [
    {
     "name": "stdout",
     "output_type": "stream",
     "text": [
      "Log path is  /Users/felix/Documents/Repositories/TUM/ABSA-Transformer/logs/JUST_TESTING\n"
     ]
    }
   ],
   "source": [
    "PREFERENCES.defaults(\n",
    "    data_root='./data/conll2003',\n",
    "    data_train='eng.train.txt',\n",
    "    data_validation='eng.testa.txt',\n",
    "    data_test='eng.testb.txt',\n",
    "    early_stopping='highest_5_F1'\n",
    ")\n",
    "\n",
    "hyper_parameters = get_default_params()\n",
    "hyper_parameters.model_size = 300\n",
    "experiment_name = utils.create_loggers(experiment_name=experiment_name)"
   ]
  },
  {
   "cell_type": "code",
   "execution_count": 4,
   "metadata": {},
   "outputs": [],
   "source": [
    "conll2003 = conll2003_dataset('ner', hyper_parameters.batch_size,\n",
    "                              root=PREFERENCES.data_root,\n",
    "                              train_file=PREFERENCES.data_train,\n",
    "                              validation_file=PREFERENCES.data_validation,\n",
    "                              test_file=PREFERENCES.data_test)"
   ]
  },
  {
   "cell_type": "code",
   "execution_count": 5,
   "metadata": {},
   "outputs": [
    {
     "name": "stdout",
     "output_type": "stream",
     "text": [
      "-docstart- - O\n",
      "\n",
      "#######################\n",
      "\n",
      "eu - I-ORG\n",
      "rejects - O\n",
      "german - I-MISC\n",
      "call - O\n",
      "to - O\n",
      "boycott - O\n",
      "british - I-MISC\n",
      "lamb - O\n",
      ". - O\n",
      "\n",
      "#######################\n",
      "\n",
      "peter - I-PER\n",
      "blackburn - I-PER\n",
      "\n",
      "#######################\n",
      "\n",
      "-docstart- - O\n",
      "\n",
      "#######################\n",
      "\n",
      "cricket - O\n",
      "- - O\n",
      "leicestershire - I-ORG\n",
      "take - O\n",
      "over - O\n",
      "at - O\n",
      "top - O\n",
      "after - O\n",
      "innings - O\n",
      "victory - O\n",
      ". - O\n",
      "\n",
      "#######################\n",
      "\n",
      "london - I-LOC\n",
      "1996-08-30 - O\n",
      "\n",
      "#######################\n",
      "\n",
      "-docstart- - O\n",
      "\n",
      "#######################\n",
      "\n",
      "soccer - O\n",
      "- - O\n",
      "japan - I-LOC\n",
      "get - O\n",
      "lucky - O\n",
      "win - O\n",
      ", - O\n",
      "china - I-PER\n",
      "in - O\n",
      "surprise - O\n",
      "defeat - O\n",
      ". - O\n",
      "\n",
      "#######################\n",
      "\n",
      "nadim - I-PER\n",
      "ladki - I-PER\n",
      "\n",
      "#######################\n",
      "\n"
     ]
    }
   ],
   "source": [
    "samples = extract_samples(conll2003['examples'])\n",
    "print_samples(samples)"
   ]
  },
  {
   "cell_type": "code",
   "execution_count": null,
   "metadata": {},
   "outputs": [],
   "source": [
    "# 10 words with a 100-length embedding\n",
    "target_vocab = conll2003['vocabs'][0]\n",
    "target_size = len(target_vocab)"
   ]
  },
  {
   "cell_type": "code",
   "execution_count": null,
   "metadata": {},
   "outputs": [],
   "source": [
    "loss = NllLoss(target_size)\n",
    "# transformer = GoogleTransformer(True, target_size, target_size, num_units, 2, 2, 512, 0.1)\n",
    "transformer = TransformerEncoder(conll2003['embeddings'][0],\n",
    "                                 n_enc_blocks=2,\n",
    "                                 n_head=3,\n",
    "                                 d_model=hyper_parameters.model_size,\n",
    "                                 d_k=100,\n",
    "                                 d_v=100)\n",
    "tagging_softmax = SoftmaxOutputLayer(hyper_parameters.model_size, target_size)\n",
    "model = TransformerTagger(transformer, tagging_softmax)\n",
    "optimizer = get_default_optimizer(model, hyper_parameters)\n",
    "trainer = Trainer(model,\n",
    "                    loss,\n",
    "                    optimizer,\n",
    "                    hyper_parameters,\n",
    "                    conll2003['iters'],\n",
    "                    experiment_name,\n",
    "                    log_every_xth_iteration=50,\n",
    "                    enable_tensorboard=True,\n",
    "                    dummy_input=conll2003['dummy_input'])"
   ]
  },
  {
   "cell_type": "code",
   "execution_count": null,
   "metadata": {},
   "outputs": [],
   "source": [
    "result = trainer.train(10)"
   ]
  },
  {
   "cell_type": "code",
   "execution_count": null,
   "metadata": {},
   "outputs": [],
   "source": [
    "print(result)"
   ]
  },
  {
   "cell_type": "code",
   "execution_count": null,
   "metadata": {},
   "outputs": [],
   "source": [
    "(tr_loss, tr_f1) = result['result_train']\n"
   ]
  }
 ],
 "metadata": {
  "kernelspec": {
   "display_name": "Python 3",
   "language": "python",
   "name": "python3"
  },
  "language_info": {
   "codemirror_mode": {
    "name": "ipython",
    "version": 3
   },
   "file_extension": ".py",
   "mimetype": "text/x-python",
   "name": "python",
   "nbconvert_exporter": "python",
   "pygments_lexer": "ipython3",
   "version": "3.6.6"
  }
 },
 "nbformat": 4,
 "nbformat_minor": 2
}
