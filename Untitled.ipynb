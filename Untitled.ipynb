{
 "cells": [
  {
   "cell_type": "code",
   "execution_count": 2,
   "metadata": {},
   "outputs": [],
   "source": [
    "from data.conll import conll2003_dataset, extract_samples, iterate_with_sample_data\n",
    "from misc.preferences import PREFERENCES\n",
    "from misc.visualizer import *\n",
    "from misc.hyperparameters import get_default_params\n",
    "from optimizer import get_default_optimizer\n",
    "from misc import utils\n",
    "from models.transformer.encoder import TransformerEncoder\n",
    "from models.softmax_output import SoftmaxOutputLayer, OutputLayer\n",
    "from models.transformer_tagger import TransformerTagger\n",
    "from models.transformer.train import Trainer\n",
    "from criterion import NllLoss"
   ]
  },
  {
   "cell_type": "code",
   "execution_count": 3,
   "metadata": {},
   "outputs": [],
   "source": [
    "experiment_name = 'JUST_TESTING'"
   ]
  },
  {
   "cell_type": "code",
   "execution_count": 4,
   "metadata": {},
   "outputs": [
    {
     "name": "stdout",
     "output_type": "stream",
     "text": [
      "Log path is  /Users/felix/Documents/Repositories/TUM/ABSA-Transformer/logs/JUST_TESTING\n"
     ]
    }
   ],
   "source": [
    "PREFERENCES.defaults(\n",
    "    data_root='./data/conll2003',\n",
    "    data_train='eng.train.txt',\n",
    "    data_validation='eng.testa.txt',\n",
    "    data_test='eng.testb.txt',\n",
    "    early_stopping='highest_5_F1'\n",
    ")\n",
    "\n",
    "hyper_parameters = get_default_params()\n",
    "hyper_parameters.model_size = 300\n",
    "hyper_parameters.batch_size = 80\n",
    "hyper_parameters.early_stopping = -1\n",
    "experiment_name = utils.create_loggers(experiment_name=experiment_name)"
   ]
  },
  {
   "cell_type": "code",
   "execution_count": 5,
   "metadata": {},
   "outputs": [],
   "source": [
    "conll2003 = conll2003_dataset('ner', hyper_parameters.batch_size,\n",
    "                              root=PREFERENCES.data_root,\n",
    "                              train_file=PREFERENCES.data_train,\n",
    "                              validation_file=PREFERENCES.data_validation,\n",
    "                              test_file=PREFERENCES.data_test,\n",
    "                              use_cuda=False)\n",
    "\n"
   ]
  },
  {
   "cell_type": "code",
   "execution_count": 6,
   "metadata": {},
   "outputs": [
    {
     "name": "stdout",
     "output_type": "stream",
     "text": [
      "-docstart- - O\n",
      "\n",
      "#######################\n",
      "\n",
      "eu - I-ORG\n",
      "rejects - O\n",
      "german - I-MISC\n",
      "call - O\n",
      "to - O\n",
      "boycott - O\n",
      "british - I-MISC\n",
      "lamb - O\n",
      ". - O\n",
      "\n",
      "#######################\n",
      "\n",
      "peter - I-PER\n",
      "blackburn - I-PER\n",
      "\n",
      "#######################\n",
      "\n",
      "-docstart- - O\n",
      "\n",
      "#######################\n",
      "\n",
      "cricket - O\n",
      "- - O\n",
      "leicestershire - I-ORG\n",
      "take - O\n",
      "over - O\n",
      "at - O\n",
      "top - O\n",
      "after - O\n",
      "innings - O\n",
      "victory - O\n",
      ". - O\n",
      "\n",
      "#######################\n",
      "\n",
      "london - I-LOC\n",
      "1996-08-30 - O\n",
      "\n",
      "#######################\n",
      "\n",
      "-docstart- - O\n",
      "\n",
      "#######################\n",
      "\n",
      "soccer - O\n",
      "- - O\n",
      "japan - I-LOC\n",
      "get - O\n",
      "lucky - O\n",
      "win - O\n",
      ", - O\n",
      "china - I-PER\n",
      "in - O\n",
      "surprise - O\n",
      "defeat - O\n",
      ". - O\n",
      "\n",
      "#######################\n",
      "\n",
      "nadim - I-PER\n",
      "ladki - I-PER\n",
      "\n",
      "#######################\n",
      "\n"
     ]
    }
   ],
   "source": [
    "samples = extract_samples(conll2003['examples'])\n",
    "print_samples(samples)"
   ]
  },
  {
   "cell_type": "code",
   "execution_count": 7,
   "metadata": {},
   "outputs": [],
   "source": [
    "# 10 words with a 100-length embedding\n",
    "target_vocab = conll2003['vocabs'][0]\n",
    "target_size = len(target_vocab)"
   ]
  },
  {
   "cell_type": "code",
   "execution_count": 8,
   "metadata": {},
   "outputs": [],
   "source": [
    "loss = NllLoss(target_size)\n",
    "# transformer = GoogleTransformer(True, target_size, target_size, num_units, 2, 2, 512, 0.1)\n",
    "transformer = TransformerEncoder(conll2003['embeddings'][0],\n",
    "                                 n_enc_blocks=2,\n",
    "                                 n_head=3,\n",
    "                                 d_model=hyper_parameters.model_size,\n",
    "                                 d_k=100,\n",
    "                                 d_v=100)\n",
    "tagging_softmax = SoftmaxOutputLayer(hyper_parameters.model_size, target_size)\n",
    "model = TransformerTagger(transformer, tagging_softmax)\n"
   ]
  },
  {
   "cell_type": "code",
   "execution_count": 11,
   "metadata": {},
   "outputs": [
    {
     "data": {
      "application/vnd.jupyter.widget-view+json": {
       "model_id": "359033a8671242659b28132a2fe36759",
       "version_major": 2,
       "version_minor": 0
      },
      "text/plain": [
       "HBox(children=(IntProgress(value=1, bar_style='info', description='Predicting', max=1, style=ProgressStyle(des…"
      ]
     },
     "metadata": {},
     "output_type": "display_data"
    },
    {
     "name": "stdout",
     "output_type": "stream",
     "text": [
      "\n",
      "       Sentence Targets Predictions  # Matches\n",
      "0    -docstart-       O           ?          0\n",
      "1    -docstart-       O           ?          0\n",
      "2    -docstart-       O           ?          0\n",
      "3           may       O           ?          0\n",
      "4          june       O           ?          0\n",
      "5          july       O           ?          0\n",
      "6        august       O           ?          0\n",
      "7    -docstart-       O           ?          0\n",
      "8    -docstart-       O           ?          0\n",
      "9    -docstart-       O           ?          0\n",
      "10   -docstart-       O           ?          0\n",
      "11   -docstart-       O           ?          0\n",
      "12   -docstart-       O           ?          0\n",
      "13   -docstart-       O           ?          0\n",
      "14   -docstart-       O           ?          0\n",
      "15   -docstart-       O           ?          0\n",
      "16            :       O           ?          0\n",
      "17          6-2       O           ?          0\n",
      "18            :       O           ?          0\n",
      "19   -docstart-       O           ?          0\n",
      "20   -docstart-       O           ?          0\n",
      "21   -docstart-       O           ?          0\n",
      "22   -docstart-       O           ?          0\n",
      "23   -docstart-       O           ?          0\n",
      "24   -docstart-       O           ?          0\n",
      "25   -docstart-       O           ?          0\n",
      "26   -docstart-       O           ?          0\n",
      "27   -docstart-       O           ?          0\n",
      "28   -docstart-       O           ?          0\n",
      "29   -docstart-       O           ?          0\n",
      "..          ...     ...         ...        ...\n",
      "171  -docstart-       O           ?          0\n",
      "172  -docstart-       O           ?          0\n",
      "173  -docstart-       O           ?          0\n",
      "174  -docstart-       O           ?          0\n",
      "175  -docstart-       O           ?          0\n",
      "176  -docstart-       O           ?          0\n",
      "177  -docstart-       O           ?          0\n",
      "178  -docstart-       O           ?          0\n",
      "179  -docstart-       O           ?          0\n",
      "180  -docstart-       O           ?          0\n",
      "181  -docstart-       O           ?          0\n",
      "182  -docstart-       O           ?          0\n",
      "183  -docstart-       O           ?          0\n",
      "184  -docstart-       O           ?          0\n",
      "185  -docstart-       O           ?          0\n",
      "186  -docstart-       O           ?          0\n",
      "187  -docstart-       O           ?          0\n",
      "188  -docstart-       O           ?          0\n",
      "189  -docstart-       O           ?          0\n",
      "190  -docstart-       O           ?          0\n",
      "191  -docstart-       O           ?          0\n",
      "192  -docstart-       O           ?          0\n",
      "193  -docstart-       O           ?          0\n",
      "194  -docstart-       O           ?          0\n",
      "195           .       O           ?          0\n",
      "196           .       O           ?          0\n",
      "197  -docstart-       O           ?          0\n",
      "198  -docstart-       O           ?          0\n",
      "199  -docstart-       O           ?          0\n",
      "200  -docstart-       O           ?          0\n",
      "\n",
      "[201 rows x 4 columns]\n"
     ]
    }
   ],
   "source": [
    "# predict now to see model in initial state\n",
    "test_sample_iter = iterate_with_sample_data(conll2003['iters'][1], 200)\n",
    "df = predict_some_examples_to_df(model, test_sample_iter, num_samples=50)\n",
    "print(df)"
   ]
  },
  {
   "cell_type": "code",
   "execution_count": null,
   "metadata": {},
   "outputs": [],
   "source": [
    "optimizer = get_default_optimizer(model, hyper_parameters)\n",
    "trainer = Trainer(model,\n",
    "                    loss,\n",
    "                    optimizer,\n",
    "                    hyper_parameters,\n",
    "                    conll2003['iters'],\n",
    "                    experiment_name,\n",
    "                    log_every_xth_iteration=50,\n",
    "                    enable_tensorboard=True,\n",
    "                    dummy_input=conll2003['dummy_input'])"
   ]
  },
  {
   "cell_type": "code",
   "execution_count": 1,
   "metadata": {},
   "outputs": [
    {
     "ename": "NameError",
     "evalue": "name 'trainer' is not defined",
     "output_type": "error",
     "traceback": [
      "\u001b[0;31m---------------------------------------------------------------------------\u001b[0m",
      "\u001b[0;31mNameError\u001b[0m                                 Traceback (most recent call last)",
      "\u001b[0;32m<ipython-input-1-073014f156eb>\u001b[0m in \u001b[0;36m<module>\u001b[0;34m\u001b[0m\n\u001b[0;32m----> 1\u001b[0;31m \u001b[0mresult\u001b[0m \u001b[0;34m=\u001b[0m \u001b[0mtrainer\u001b[0m\u001b[0;34m.\u001b[0m\u001b[0mtrain\u001b[0m\u001b[0;34m(\u001b[0m\u001b[0;36m10\u001b[0m\u001b[0;34m)\u001b[0m\u001b[0;34m\u001b[0m\u001b[0m\n\u001b[0m",
      "\u001b[0;31mNameError\u001b[0m: name 'trainer' is not defined"
     ]
    }
   ],
   "source": [
    "result = trainer.train(10)"
   ]
  },
  {
   "cell_type": "code",
   "execution_count": null,
   "metadata": {},
   "outputs": [],
   "source": [
    "df = predict_some_examples_to_df(model, test_sample_iter)\n",
    "print(df)"
   ]
  },
  {
   "cell_type": "code",
   "execution_count": null,
   "metadata": {},
   "outputs": [],
   "source": [
    "print(result)"
   ]
  },
  {
   "cell_type": "code",
   "execution_count": null,
   "metadata": {},
   "outputs": [],
   "source": [
    "(tr_loss, tr_f1) = result['result_train']\n"
   ]
  }
 ],
 "metadata": {
  "kernelspec": {
   "display_name": "Python 3",
   "language": "python",
   "name": "python3"
  },
  "language_info": {
   "codemirror_mode": {
    "name": "ipython",
    "version": 3
   },
   "file_extension": ".py",
   "mimetype": "text/x-python",
   "name": "python",
   "nbconvert_exporter": "python",
   "pygments_lexer": "ipython3",
   "version": "3.6.6"
  }
 },
 "nbformat": 4,
 "nbformat_minor": 2
}
